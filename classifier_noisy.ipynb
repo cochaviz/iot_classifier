{
 "cells": [
  {
   "cell_type": "code",
   "execution_count": 1,
   "metadata": {},
   "outputs": [],
   "source": [
    "import matplotlib.pyplot as plt\n",
    "import seaborn as sns\n",
    "import pandas as pd\n",
    "import numpy as np\n",
    "from matplotlib.colors import ListedColormap\n",
    "from sklearn import neighbors, model_selection, metrics\n",
    "from sklearn.inspection import DecisionBoundaryDisplay\n",
    "import matplotlib.pyplot as plt\n",
    "from imblearn.over_sampling import SMOTE\n",
    "from imblearn.under_sampling import NearMiss, RandomUnderSampler"
   ]
  },
  {
   "cell_type": "code",
   "execution_count": 2,
   "metadata": {},
   "outputs": [
    {
     "name": "stdout",
     "output_type": "stream",
     "text": [
      "        packet_id            timestamp  packet_size            eth_src  \\\n",
      "0               0  1474552802257569024           70  18:b7:9e:02:20:44   \n",
      "1               1  1474552802257692160           66  18:b7:9e:02:20:44   \n",
      "2               2  1474552802323085056           66  14:cc:20:51:33:ea   \n",
      "3               3  1474552802383173888           60  d0:52:a8:00:67:5e   \n",
      "4               5  1474552802447910912           88  70:ee:50:18:34:43   \n",
      "...           ...                  ...          ...                ...   \n",
      "902933     947067  1474639199059330816           54  14:cc:20:51:33:ea   \n",
      "902934     947068  1474639199620186112           60  00:24:e4:11:18:a8   \n",
      "902935     947069  1474639199620225024           42  14:cc:20:51:33:ea   \n",
      "902936     947070  1474639199771064064          156  30:8c:fb:2f:e4:b2   \n",
      "902937     947071  1474639199986316032           66  14:cc:20:51:33:ea   \n",
      "\n",
      "                               device_name protocol    iot  \n",
      "0                            Triby Speaker      Raw   True  \n",
      "1                            Triby Speaker      TCP   True  \n",
      "2       TPLink Router Bridge LAN (Gateway)      TCP  False  \n",
      "3                             Smart Things  Padding   True  \n",
      "4                          Netatmo Welcome      DNS   True  \n",
      "...                                    ...      ...    ...  \n",
      "902933  TPLink Router Bridge LAN (Gateway)      TCP  False  \n",
      "902934         Withings Smart Baby Monitor  Padding   True  \n",
      "902935  TPLink Router Bridge LAN (Gateway)      ARP  False  \n",
      "902936                             Dropcam      Raw   True  \n",
      "902937  TPLink Router Bridge LAN (Gateway)      TCP  False  \n",
      "\n",
      "[902938 rows x 7 columns]\n"
     ]
    }
   ],
   "source": [
    "data_folder = \"data/traces/\"\n",
    "\n",
    "def read_date(date: str):\n",
    "    \"\"\"Aggregate data of a single from parts\"\"\"\n",
    "    data = pd.DataFrame()\n",
    "\n",
    "    for i in range(50):\n",
    "        try:\n",
    "            frame = pd.read_csv(data_folder + date + \"-{}.csv\".format(i))\n",
    "            data = pd.concat([data, frame], axis=0)\n",
    "        except OSError:\n",
    "            pass\n",
    "\n",
    "    return data\n",
    "\n",
    "\n",
    "def read_date_part(date_part: str):\n",
    "    \"\"\"Read data of a part of a capture date\"\"\"\n",
    "    data = pd.DataFrame()\n",
    "\n",
    "    try:\n",
    "        frame = pd.read_csv(data_folder + date_part + \".csv\")\n",
    "        data = pd.concat([data, frame], axis=0)\n",
    "    except OSError:\n",
    "        pass\n",
    "\n",
    "    return data\n",
    "\n",
    "data = read_date_part(\"16-09-23\")\n",
    "data.set_index(\"timestamp\")\n",
    "print(data)"
   ]
  },
  {
   "cell_type": "code",
   "execution_count": 3,
   "metadata": {
    "scrolled": false
   },
   "outputs": [
    {
     "name": "stdout",
     "output_type": "stream",
     "text": [
      "           packet_id            timestamp  packet_size            eth_src  \\\n",
      "window_id                                                                   \n",
      "0                  0  1474552802257569024           70  18:b7:9e:02:20:44   \n",
      "0                  1  1474552802257692160           66  18:b7:9e:02:20:44   \n",
      "0                  2  1474552802323085056           66  14:cc:20:51:33:ea   \n",
      "0                  3  1474552802383173888           60  d0:52:a8:00:67:5e   \n",
      "0                  5  1474552802447910912           88  70:ee:50:18:34:43   \n",
      "...              ...                  ...          ...                ...   \n",
      "86396         947067  1474639199059330816           54  14:cc:20:51:33:ea   \n",
      "86397         947068  1474639199620186112           60  00:24:e4:11:18:a8   \n",
      "86397         947069  1474639199620225024           42  14:cc:20:51:33:ea   \n",
      "86397         947070  1474639199771064064          156  30:8c:fb:2f:e4:b2   \n",
      "86397         947071  1474639199986316032           66  14:cc:20:51:33:ea   \n",
      "\n",
      "                                  device_name protocol    iot  \n",
      "window_id                                                      \n",
      "0                               Triby Speaker      Raw   True  \n",
      "0                               Triby Speaker      TCP   True  \n",
      "0          TPLink Router Bridge LAN (Gateway)      TCP  False  \n",
      "0                                Smart Things  Padding   True  \n",
      "0                             Netatmo Welcome      DNS   True  \n",
      "...                                       ...      ...    ...  \n",
      "86396      TPLink Router Bridge LAN (Gateway)      TCP  False  \n",
      "86397             Withings Smart Baby Monitor  Padding   True  \n",
      "86397      TPLink Router Bridge LAN (Gateway)      ARP  False  \n",
      "86397                                 Dropcam      Raw   True  \n",
      "86397      TPLink Router Bridge LAN (Gateway)      TCP  False  \n",
      "\n",
      "[902938 rows x 7 columns]\n"
     ]
    }
   ],
   "source": [
    "def attach_window_id(timestamped_frame: pd.DataFrame) -> list[pd.DataFrame]:\n",
    "    \"\"\"Slice the dataframe into 1-second intervals\"\"\"\n",
    "    first_packet_time = timestamped_frame.iloc[0]['timestamp']\n",
    "    last_packet_time = timestamped_frame.iloc[-1]['timestamp']\n",
    "    windowed_frame = timestamped_frame.set_index('timestamp', drop=False) \n",
    "\n",
    "    ns_in_sec = int(1e9)\n",
    "    number_of_windows = int((last_packet_time - first_packet_time) / ns_in_sec) + 1\n",
    "\n",
    "    try:\n",
    "        windowed_frame.insert(0, value=0, column=\"window_id\")\n",
    "    except Exception as e:\n",
    "        print(\"It seems like the column 'window_id' already exists. Just updating values...\")\n",
    "        print(e)\n",
    "    finally:\n",
    "        windowed_frame.window_id.astype(np.int64)\n",
    "\n",
    "    for window_id in range(0, number_of_windows):\n",
    "        from_time = first_packet_time + window_id * ns_in_sec\n",
    "        to_time = first_packet_time + (window_id  + 1) * ns_in_sec\n",
    "        windowed_frame.loc[from_time:to_time, 'window_id'] = window_id\n",
    "    \n",
    "    windowed_frame.set_index('window_id', inplace=True)\n",
    "    return windowed_frame\n",
    "\n",
    "\n",
    "devices = pd.read_csv(\"data/list_of_devices.csv\")\n",
    "windowed_frame = attach_window_id(data)\n",
    "print(windowed_frame)"
   ]
  },
  {
   "cell_type": "code",
   "execution_count": 4,
   "metadata": {},
   "outputs": [
    {
     "name": "stdout",
     "output_type": "stream",
     "text": [
      "                mean        std  n_bytes                         device_name  \\\n",
      "window_id                                                                      \n",
      "0          60.000000   0.000000       60                        Smart Things   \n",
      "1          99.500000  55.861436      199                        Smart Things   \n",
      "11         60.000000   0.000000       60                        Smart Things   \n",
      "16         60.000000   0.000000       60                        Smart Things   \n",
      "21         60.000000   0.000000       60                        Smart Things   \n",
      "...              ...        ...      ...                                 ...   \n",
      "86393      82.666667  51.081634      248  TPLink Router Bridge LAN (Gateway)   \n",
      "86394      66.000000   0.000000      132  TPLink Router Bridge LAN (Gateway)   \n",
      "86395      42.000000   0.000000       42  TPLink Router Bridge LAN (Gateway)   \n",
      "86396      71.666667  21.079216      215  TPLink Router Bridge LAN (Gateway)   \n",
      "86397      54.000000  16.970563      108  TPLink Router Bridge LAN (Gateway)   \n",
      "\n",
      "             iot  \n",
      "window_id         \n",
      "0           True  \n",
      "1           True  \n",
      "11          True  \n",
      "16          True  \n",
      "21          True  \n",
      "...          ...  \n",
      "86393      False  \n",
      "86394      False  \n",
      "86395      False  \n",
      "86396      False  \n",
      "86397      False  \n",
      "\n",
      "[268104 rows x 5 columns]\n"
     ]
    }
   ],
   "source": [
    "def generate_features_labeled(windowed_frame: pd.DataFrame, device_frame: pd.DataFrame):\n",
    "    \"\"\"Calculate the mode, mean, and median of a window\"\"\"\n",
    "    features = pd.DataFrame()\n",
    "\n",
    "    for device_index in device_frame.index:\n",
    "        device = device_frame.iloc[device_index]\n",
    "        device_packets = windowed_frame.loc[windowed_frame['eth_src'] == device['eth_src']]\n",
    "        device_features = generate_features(device_packets)\n",
    "\n",
    "        device_features.insert(len(device_features.columns), \"device_name\", device['device_name'])\n",
    "        device_features.insert(len(device_features.columns), \"iot\", device['iot'])\n",
    "\n",
    "        features = pd.concat([features, device_features])\n",
    "\n",
    "    features.columns = [\"mean\", \"std\", \"n_bytes\", \"device_name\", \"iot\"]\n",
    "    return features\n",
    "\n",
    "def generate_features(windowed_frame: pd.DataFrame):\n",
    "    window_groups = windowed_frame.groupby([\"window_id\"])\n",
    "\n",
    "    mean = window_groups['packet_size'].mean()\n",
    "    std = window_groups['packet_size'].std()\n",
    "    n_bytes = window_groups['packet_size'].sum()\n",
    "\n",
    "    # TODO Not sure if fillna is a good idea\n",
    "    return pd.concat([mean, std, n_bytes], axis=1).fillna(0)\n",
    "\n",
    "def get_devices_in_window(windowed_frame: pd.DataFrame):\n",
    "    devices_in_window = pd.DataFrame()\n",
    "    \n",
    "    for window_id in windowed_frame.index.unique():\n",
    "        devices = windowed_frame.loc[window_id]['device_name']\n",
    "        # iot = windowed_frame.loc[window_id]['iot']\n",
    "\n",
    "        if not isinstance(devices, str):\n",
    "            devices = devices.unique() \n",
    "            \n",
    "        devices_in_window = pd.concat([devices_in_window, pd.DataFrame({\"window_id\": window_id, \"devices\": devices})])\n",
    "\n",
    "    return devices_in_window\n",
    "\n",
    "labeled_features = generate_features_labeled(windowed_frame, devices)\n",
    "print(labeled_features)"
   ]
  },
  {
   "cell_type": "code",
   "execution_count": 5,
   "metadata": {},
   "outputs": [],
   "source": [
    "def _balance_over_under(X, y, rus=False, random_state: int | None = None):\n",
    "    oversampling = SMOTE(random_state=random_state)\n",
    "\n",
    "    # Resource [32] is actually really old (2009), NearMiss is a better alternative than RUS\n",
    "    # but I left it as an option\n",
    "    if rus:\n",
    "        undersampling = RandomUnderSampler(random_state=random_state)\n",
    "    else:\n",
    "        undersampling = NearMiss()\n",
    "\n",
    "    # first oversample, then undersample\n",
    "    X, y = oversampling.fit_resample(X, y)\n",
    "    X, y = undersampling.fit_resample(X, y)\n",
    "\n",
    "    return X, y"
   ]
  },
  {
   "cell_type": "code",
   "execution_count": 7,
   "metadata": {},
   "outputs": [
    {
     "data": {
      "text/html": [
       "<div>\n",
       "<style scoped>\n",
       "    .dataframe tbody tr th:only-of-type {\n",
       "        vertical-align: middle;\n",
       "    }\n",
       "\n",
       "    .dataframe tbody tr th {\n",
       "        vertical-align: top;\n",
       "    }\n",
       "\n",
       "    .dataframe thead th {\n",
       "        text-align: right;\n",
       "    }\n",
       "</style>\n",
       "<table border=\"1\" class=\"dataframe\">\n",
       "  <thead>\n",
       "    <tr style=\"text-align: right;\">\n",
       "      <th></th>\n",
       "      <th>mean</th>\n",
       "      <th>std</th>\n",
       "      <th>n_bytes</th>\n",
       "    </tr>\n",
       "    <tr>\n",
       "      <th>window_id</th>\n",
       "      <th></th>\n",
       "      <th></th>\n",
       "      <th></th>\n",
       "    </tr>\n",
       "  </thead>\n",
       "  <tbody>\n",
       "    <tr>\n",
       "      <th>0</th>\n",
       "      <td>60.000000</td>\n",
       "      <td>0.000000</td>\n",
       "      <td>60</td>\n",
       "    </tr>\n",
       "    <tr>\n",
       "      <th>1</th>\n",
       "      <td>99.500000</td>\n",
       "      <td>55.861436</td>\n",
       "      <td>199</td>\n",
       "    </tr>\n",
       "    <tr>\n",
       "      <th>11</th>\n",
       "      <td>60.000000</td>\n",
       "      <td>0.000000</td>\n",
       "      <td>60</td>\n",
       "    </tr>\n",
       "    <tr>\n",
       "      <th>16</th>\n",
       "      <td>60.000000</td>\n",
       "      <td>0.000000</td>\n",
       "      <td>60</td>\n",
       "    </tr>\n",
       "    <tr>\n",
       "      <th>21</th>\n",
       "      <td>60.000000</td>\n",
       "      <td>0.000000</td>\n",
       "      <td>60</td>\n",
       "    </tr>\n",
       "    <tr>\n",
       "      <th>...</th>\n",
       "      <td>...</td>\n",
       "      <td>...</td>\n",
       "      <td>...</td>\n",
       "    </tr>\n",
       "    <tr>\n",
       "      <th>86393</th>\n",
       "      <td>82.666667</td>\n",
       "      <td>51.081634</td>\n",
       "      <td>248</td>\n",
       "    </tr>\n",
       "    <tr>\n",
       "      <th>86394</th>\n",
       "      <td>66.000000</td>\n",
       "      <td>0.000000</td>\n",
       "      <td>132</td>\n",
       "    </tr>\n",
       "    <tr>\n",
       "      <th>86395</th>\n",
       "      <td>42.000000</td>\n",
       "      <td>0.000000</td>\n",
       "      <td>42</td>\n",
       "    </tr>\n",
       "    <tr>\n",
       "      <th>86396</th>\n",
       "      <td>71.666667</td>\n",
       "      <td>21.079216</td>\n",
       "      <td>215</td>\n",
       "    </tr>\n",
       "    <tr>\n",
       "      <th>86397</th>\n",
       "      <td>54.000000</td>\n",
       "      <td>16.970563</td>\n",
       "      <td>108</td>\n",
       "    </tr>\n",
       "  </tbody>\n",
       "</table>\n",
       "<p>268104 rows × 3 columns</p>\n",
       "</div>"
      ],
      "text/plain": [
       "                mean        std  n_bytes\n",
       "window_id                               \n",
       "0          60.000000   0.000000       60\n",
       "1          99.500000  55.861436      199\n",
       "11         60.000000   0.000000       60\n",
       "16         60.000000   0.000000       60\n",
       "21         60.000000   0.000000       60\n",
       "...              ...        ...      ...\n",
       "86393      82.666667  51.081634      248\n",
       "86394      66.000000   0.000000      132\n",
       "86395      42.000000   0.000000       42\n",
       "86396      71.666667  21.079216      215\n",
       "86397      54.000000  16.970563      108\n",
       "\n",
       "[268104 rows x 3 columns]"
      ]
     },
     "execution_count": 7,
     "metadata": {},
     "output_type": "execute_result"
    }
   ],
   "source": [
    "labeled_features.iloc[:, 0:3]"
   ]
  },
  {
   "cell_type": "code",
   "execution_count": 9,
   "metadata": {},
   "outputs": [],
   "source": [
    "import matplotlib.pyplot as plt\n",
    "import seaborn as sns\n",
    "import pandas as pd\n",
    "import numpy as np\n",
    "from matplotlib.colors import ListedColormap\n",
    "from sklearn import svm, neighbors, tree, ensemble, model_selection, metrics\n",
    "from sklearn.inspection import DecisionBoundaryDisplay\n",
    "from imblearn.over_sampling import SMOTE\n",
    "from imblearn.under_sampling import NearMiss, RandomUnderSampler"
   ]
  },
  {
   "cell_type": "code",
   "execution_count": 10,
   "metadata": {
    "scrolled": true
   },
   "outputs": [],
   "source": [
    "X = labeled_features.iloc[:, 0:3]\n",
    "y = labeled_features.iloc[:]['device_name']\n",
    "oversampling = SMOTE(random_state=20)\n",
    "X, y = _balance_over_under(X, y, random_state=20)"
   ]
  },
  {
   "cell_type": "code",
   "execution_count": 11,
   "metadata": {},
   "outputs": [
    {
     "data": {
      "text/html": [
       "<style>#sk-container-id-1 {color: black;background-color: white;}#sk-container-id-1 pre{padding: 0;}#sk-container-id-1 div.sk-toggleable {background-color: white;}#sk-container-id-1 label.sk-toggleable__label {cursor: pointer;display: block;width: 100%;margin-bottom: 0;padding: 0.3em;box-sizing: border-box;text-align: center;}#sk-container-id-1 label.sk-toggleable__label-arrow:before {content: \"▸\";float: left;margin-right: 0.25em;color: #696969;}#sk-container-id-1 label.sk-toggleable__label-arrow:hover:before {color: black;}#sk-container-id-1 div.sk-estimator:hover label.sk-toggleable__label-arrow:before {color: black;}#sk-container-id-1 div.sk-toggleable__content {max-height: 0;max-width: 0;overflow: hidden;text-align: left;background-color: #f0f8ff;}#sk-container-id-1 div.sk-toggleable__content pre {margin: 0.2em;color: black;border-radius: 0.25em;background-color: #f0f8ff;}#sk-container-id-1 input.sk-toggleable__control:checked~div.sk-toggleable__content {max-height: 200px;max-width: 100%;overflow: auto;}#sk-container-id-1 input.sk-toggleable__control:checked~label.sk-toggleable__label-arrow:before {content: \"▾\";}#sk-container-id-1 div.sk-estimator input.sk-toggleable__control:checked~label.sk-toggleable__label {background-color: #d4ebff;}#sk-container-id-1 div.sk-label input.sk-toggleable__control:checked~label.sk-toggleable__label {background-color: #d4ebff;}#sk-container-id-1 input.sk-hidden--visually {border: 0;clip: rect(1px 1px 1px 1px);clip: rect(1px, 1px, 1px, 1px);height: 1px;margin: -1px;overflow: hidden;padding: 0;position: absolute;width: 1px;}#sk-container-id-1 div.sk-estimator {font-family: monospace;background-color: #f0f8ff;border: 1px dotted black;border-radius: 0.25em;box-sizing: border-box;margin-bottom: 0.5em;}#sk-container-id-1 div.sk-estimator:hover {background-color: #d4ebff;}#sk-container-id-1 div.sk-parallel-item::after {content: \"\";width: 100%;border-bottom: 1px solid gray;flex-grow: 1;}#sk-container-id-1 div.sk-label:hover label.sk-toggleable__label {background-color: #d4ebff;}#sk-container-id-1 div.sk-serial::before {content: \"\";position: absolute;border-left: 1px solid gray;box-sizing: border-box;top: 0;bottom: 0;left: 50%;z-index: 0;}#sk-container-id-1 div.sk-serial {display: flex;flex-direction: column;align-items: center;background-color: white;padding-right: 0.2em;padding-left: 0.2em;position: relative;}#sk-container-id-1 div.sk-item {position: relative;z-index: 1;}#sk-container-id-1 div.sk-parallel {display: flex;align-items: stretch;justify-content: center;background-color: white;position: relative;}#sk-container-id-1 div.sk-item::before, #sk-container-id-1 div.sk-parallel-item::before {content: \"\";position: absolute;border-left: 1px solid gray;box-sizing: border-box;top: 0;bottom: 0;left: 50%;z-index: -1;}#sk-container-id-1 div.sk-parallel-item {display: flex;flex-direction: column;z-index: 1;position: relative;background-color: white;}#sk-container-id-1 div.sk-parallel-item:first-child::after {align-self: flex-end;width: 50%;}#sk-container-id-1 div.sk-parallel-item:last-child::after {align-self: flex-start;width: 50%;}#sk-container-id-1 div.sk-parallel-item:only-child::after {width: 0;}#sk-container-id-1 div.sk-dashed-wrapped {border: 1px dashed gray;margin: 0 0.4em 0.5em 0.4em;box-sizing: border-box;padding-bottom: 0.4em;background-color: white;}#sk-container-id-1 div.sk-label label {font-family: monospace;font-weight: bold;display: inline-block;line-height: 1.2em;}#sk-container-id-1 div.sk-label-container {text-align: center;}#sk-container-id-1 div.sk-container {/* jupyter's `normalize.less` sets `[hidden] { display: none; }` but bootstrap.min.css set `[hidden] { display: none !important; }` so we also need the `!important` here to be able to override the default hidden behavior on the sphinx rendered scikit-learn.org. See: https://github.com/scikit-learn/scikit-learn/issues/21755 */display: inline-block !important;position: relative;}#sk-container-id-1 div.sk-text-repr-fallback {display: none;}</style><div id=\"sk-container-id-1\" class=\"sk-top-container\"><div class=\"sk-text-repr-fallback\"><pre>KNeighborsClassifier(weights=&#x27;distance&#x27;)</pre><b>In a Jupyter environment, please rerun this cell to show the HTML representation or trust the notebook. <br />On GitHub, the HTML representation is unable to render, please try loading this page with nbviewer.org.</b></div><div class=\"sk-container\" hidden><div class=\"sk-item\"><div class=\"sk-estimator sk-toggleable\"><input class=\"sk-toggleable__control sk-hidden--visually\" id=\"sk-estimator-id-1\" type=\"checkbox\" checked><label for=\"sk-estimator-id-1\" class=\"sk-toggleable__label sk-toggleable__label-arrow\">KNeighborsClassifier</label><div class=\"sk-toggleable__content\"><pre>KNeighborsClassifier(weights=&#x27;distance&#x27;)</pre></div></div></div></div></div>"
      ],
      "text/plain": [
       "KNeighborsClassifier(weights='distance')"
      ]
     },
     "execution_count": 11,
     "metadata": {},
     "output_type": "execute_result"
    }
   ],
   "source": [
    "model = neighbors.KNeighborsClassifier(n_neighbors=5, weights=\"distance\")\n",
    "model.fit(X, y)"
   ]
  },
  {
   "cell_type": "code",
   "execution_count": 16,
   "metadata": {},
   "outputs": [],
   "source": [
    "def warn(*args, **kwargs):\n",
    "    pass\n",
    "import warnings\n",
    "warnings.warn = warn"
   ]
  },
  {
   "cell_type": "markdown",
   "metadata": {},
   "source": [
    "## Calculating the confidence of classification with noise"
   ]
  },
  {
   "cell_type": "markdown",
   "metadata": {},
   "source": [
    "We calculate the confidence of a classifier with a dataset having only one device, with some artificial noise added to see how the classifier performance degrades with interference from sporadic network activity caused by other devices in the network."
   ]
  },
  {
   "cell_type": "code",
   "execution_count": 12,
   "metadata": {
    "scrolled": true
   },
   "outputs": [
    {
     "name": "stdout",
     "output_type": "stream",
     "text": [
      "       packet_id            timestamp  packet_size            eth_src  \\\n",
      "0             37  1474552806473253120          201  44:65:0d:56:cc:d3   \n",
      "1            257  1474552808606093056          191  44:65:0d:56:cc:d3   \n",
      "2            307  1474552820901074944           95  14:cc:20:51:33:ea   \n",
      "3            308  1474552820911664128           54  44:65:0d:56:cc:d3   \n",
      "4            309  1474552820911777024           95  44:65:0d:56:cc:d3   \n",
      "...          ...                  ...          ...                ...   \n",
      "52609     946979  1474639185847243008          191  44:65:0d:56:cc:d3   \n",
      "52610     947063  1474639198804939008           95  14:cc:20:51:33:ea   \n",
      "52611     947064  1474639198815504128           54  44:65:0d:56:cc:d3   \n",
      "52612     947065  1474639198815619840           95  44:65:0d:56:cc:d3   \n",
      "52613     947067  1474639199059330816           54  14:cc:20:51:33:ea   \n",
      "\n",
      "                              device_name protocol    iot  \n",
      "0                             Amazon Echo      Raw   True  \n",
      "1                             Amazon Echo      Raw   True  \n",
      "2      TPLink Router Bridge LAN (Gateway)      Raw  False  \n",
      "3                             Amazon Echo      TCP   True  \n",
      "4                             Amazon Echo      Raw   True  \n",
      "...                                   ...      ...    ...  \n",
      "52609                         Amazon Echo      Raw   True  \n",
      "52610  TPLink Router Bridge LAN (Gateway)      Raw  False  \n",
      "52611                         Amazon Echo      TCP   True  \n",
      "52612                         Amazon Echo      Raw   True  \n",
      "52613  TPLink Router Bridge LAN (Gateway)      TCP  False  \n",
      "\n",
      "[52614 rows x 7 columns]\n"
     ]
    }
   ],
   "source": [
    "data = read_date_part(\"echo0\")\n",
    "data.set_index(\"timestamp\")\n",
    "devices = pd.read_csv(\"scripts/list_of_devices.csv\")\n",
    "windowed_frame = attach_window_id(data)\n",
    "labeled_features = generate_features_labeled(windowed_frame, devices)\n"
   ]
  },
  {
   "cell_type": "code",
   "execution_count": 47,
   "metadata": {},
   "outputs": [],
   "source": [
    "ctr = 0\n",
    "confidence = np.zeros(22)\n",
    "confidence_progress = []\n",
    "for i in range(len(labeled_features)):\n",
    "#     print(model.predict(labeled_features.iloc[i, 0:3].to_numpy().reshape(1, -1)))\n",
    "#     print(model.predict_proba(labeled_features.iloc[i, 0:3].to_numpy().reshape(1, -1)))\n",
    "    if i % 500 == 0:\n",
    "        confidence_progress.append(confidence)\n",
    "    confidence = confidence + model.predict_proba(labeled_features.iloc[i, 0:3].to_numpy().reshape(1, -1))\n",
    "    if(model.predict(labeled_features.iloc[i, 0:3].to_numpy().reshape(1, -1))) == \"Amazon Echo\":\n",
    "        ctr += 1"
   ]
  },
  {
   "cell_type": "code",
   "execution_count": 54,
   "metadata": {},
   "outputs": [],
   "source": [
    "confidence = [(i / confidence.sum()) * 100 for i in confidence[0]]"
   ]
  },
  {
   "cell_type": "markdown",
   "metadata": {},
   "source": [
    "This is the sum of confidence values for all the predictions that the model makes, as this is a pure dataset, it makes sense for the confidence of classification to be this large a value."
   ]
  },
  {
   "cell_type": "code",
   "execution_count": 59,
   "metadata": {
    "scrolled": false
   },
   "outputs": [
    {
     "data": {
      "text/plain": [
       "<BarContainer object of 22 artists>"
      ]
     },
     "execution_count": 59,
     "metadata": {},
     "output_type": "execute_result"
    },
    {
     "data": {
      "image/png": "[encoded data removed]",
      "text/plain": [
       "<Figure size 640x480 with 1 Axes>"
      ]
     },
     "metadata": {},
     "output_type": "display_data"
    }
   ],
   "source": [
    "plt.bar([*range(len(confidence))], confidence)"
   ]
  },
  {
   "cell_type": "markdown",
   "metadata": {},
   "source": [
    "Note: This takes a lot of time"
   ]
  },
  {
   "cell_type": "code",
   "execution_count": 61,
   "metadata": {},
   "outputs": [
    {
     "name": "stdout",
     "output_type": "stream",
     "text": [
      "accuracy of 0% noise is: 0.9115353816327391\n",
      "accuracy of 20% noise is: 0.8043001176807354\n",
      "accuracy of 40% noise is: 0.7276234361186272\n",
      "accuracy of 60% noise is: 0.6818150280996322\n",
      "accuracy of 80% noise is: 0.6480856201526592\n",
      "accuracy of 100% noise is: 0.6217611802674043\n",
      "accuracy of 120% noise is: 0.5939569606174483\n",
      "accuracy of 140% noise is: 0.5777446597118728\n",
      "accuracy of 160% noise is: 0.5594332501016201\n",
      "accuracy of 180% noise is: 0.5446043165467626\n"
     ]
    }
   ],
   "source": [
    "accuracies = []\n",
    "conf = []\n",
    "for i in range(10):\n",
    "    data = read_date_part(\"echo\" + str(i * 20))\n",
    "    data.set_index(\"timestamp\")\n",
    "    windowed_frame = attach_window_id(data)\n",
    "    labeled_features = generate_features_labeled(windowed_frame, devices)\n",
    "    ctr = 0\n",
    "    arr = np.zeros(22)\n",
    "    for j in range(len(labeled_features)):\n",
    "#     print(model.predict(labeled_features.iloc[i, 0:3].to_numpy().reshape(1, -1)))\n",
    "#     print(model.predict_proba(labeled_features.iloc[i, 0:3].to_numpy().reshape(1, -1)))\n",
    "        arr = arr + model.predict_proba(labeled_features.iloc[j, 0:3].to_numpy().reshape(1, -1))\n",
    "        if(model.predict(labeled_features.iloc[j, 0:3].to_numpy().reshape(1, -1))) == \"Amazon Echo\":\n",
    "            ctr += 1\n",
    "    print(f\"accuracy of {i * 20}% noise is: {ctr/len(labeled_features)}\")\n",
    "    accuracies.append(ctr/len(labeled_features))\n",
    "    conf.append(arr)"
   ]
  },
  {
   "cell_type": "code",
   "execution_count": 63,
   "metadata": {
    "scrolled": false
   },
   "outputs": [
    {
     "data": {
      "text/plain": [
       "[<matplotlib.lines.Line2D at 0x7ffa590f8b50>]"
      ]
     },
     "execution_count": 63,
     "metadata": {},
     "output_type": "execute_result"
    },
    {
     "data": {
      "image/png": "[encoded data removed]",
      "text/plain": [
       "<Figure size 640x480 with 1 Axes>"
      ]
     },
     "metadata": {},
     "output_type": "display_data"
    }
   ],
   "source": [
    "plt.plot([i * 20 for i in range(10)], accuracies)"
   ]
  },
  {
   "cell_type": "code",
   "execution_count": 76,
   "metadata": {},
   "outputs": [
    {
     "data": {
      "text/plain": [
       "<BarContainer object of 22 artists>"
      ]
     },
     "execution_count": 76,
     "metadata": {},
     "output_type": "execute_result"
    },
    {
     "data": {
      "image/png": "[encoded data removed]",
      "text/plain": [
       "<Figure size 640x480 with 1 Axes>"
      ]
     },
     "metadata": {},
     "output_type": "display_data"
    }
   ],
   "source": [
    "temp = [i / conf[2].sum() * 100 for i in conf[2][0]]\n",
    "plt.bar([*range(len(confidence))], temp)"
   ]
  },
  {
   "cell_type": "code",
   "execution_count": 75,
   "metadata": {
    "scrolled": false
   },
   "outputs": [
    {
     "data": {
      "text/plain": [
       "<BarContainer object of 22 artists>"
      ]
     },
     "execution_count": 75,
     "metadata": {},
     "output_type": "execute_result"
    },
    {
     "data": {
      "image/png": "[encoded data removed]",
      "text/plain": [
       "<Figure size 640x480 with 1 Axes>"
      ]
     },
     "metadata": {},
     "output_type": "display_data"
    }
   ],
   "source": [
    "temp = [i / conf[5].sum() * 100 for i in conf[5][0]]\n",
    "plt.bar([*range(len(confidence))], temp)"
   ]
  },
  {
   "cell_type": "code",
   "execution_count": 73,
   "metadata": {},
   "outputs": [
    {
     "data": {
      "text/plain": [
       "<BarContainer object of 22 artists>"
      ]
     },
     "execution_count": 73,
     "metadata": {},
     "output_type": "execute_result"
    },
    {
     "data": {
      "image/png": "[encoded data removed]",
      "text/plain": [
       "<Figure size 640x480 with 1 Axes>"
      ]
     },
     "metadata": {},
     "output_type": "display_data"
    }
   ],
   "source": [
    "temp = [i / conf[9].sum() * 100 for i in conf[9][0]]\n",
    "plt.bar([*range(len(confidence))], temp)"
   ]
  },
  {
   "cell_type": "markdown",
   "metadata": {},
   "source": [
    "Although this is an artificial test and does not resemble a real world scenario, it is helpful to see how performance of the classifier would degrade with the amount of other devices that it may have to monitor. Although not included we also see a more chaotic distribution of confidence values outputted by the model."
   ]
  },
  {
   "cell_type": "markdown",
   "metadata": {},
   "source": [
    "## Classifying performance over time spent monitoring the network\n",
    "In this part we will look at how the confidence for classifying a device in an aritificially noisy network changes with time spent listening to the connection."
   ]
  },
  {
   "cell_type": "code",
   "execution_count": 64,
   "metadata": {},
   "outputs": [],
   "source": [
    "data = read_date_part(\"echo60\")\n",
    "data.set_index(\"timestamp\")\n",
    "windowed_frame = attach_window_id(data)\n",
    "labeled_features = generate_features_labeled(windowed_frame, devices)"
   ]
  },
  {
   "cell_type": "code",
   "execution_count": 77,
   "metadata": {},
   "outputs": [
    {
     "data": {
      "text/plain": [
       "43239"
      ]
     },
     "execution_count": 77,
     "metadata": {},
     "output_type": "execute_result"
    }
   ],
   "source": [
    "len(labeled_features)"
   ]
  },
  {
   "cell_type": "code",
   "execution_count": 79,
   "metadata": {},
   "outputs": [],
   "source": [
    "conf_arr = []\n",
    "conf = np.zeros(22)\n",
    "for i in range(len(labeled_features)):\n",
    "    conf = conf + model.predict_proba(labeled_features.iloc[i, 0:3].to_numpy().reshape(1, -1))\n",
    "    if i % 1000 == 0:\n",
    "        conf_arr.append(conf)"
   ]
  },
  {
   "cell_type": "code",
   "execution_count": 81,
   "metadata": {},
   "outputs": [
    {
     "data": {
      "text/plain": [
       "array([[4.57723662e+02, 1.81591783e+00, 2.00000000e+00, 0.00000000e+00,\n",
       "        1.36538292e+00, 0.00000000e+00, 4.09000000e+02, 4.31224120e+00,\n",
       "        4.32432760e+00, 0.00000000e+00, 2.38640361e-01, 1.40000000e+01,\n",
       "        0.00000000e+00, 6.14435010e+00, 5.61384137e-01, 8.70000000e+01,\n",
       "        0.00000000e+00, 0.00000000e+00, 1.25140938e+01, 0.00000000e+00,\n",
       "        0.00000000e+00, 0.00000000e+00]])"
      ]
     },
     "execution_count": 81,
     "metadata": {},
     "output_type": "execute_result"
    }
   ],
   "source": [
    "conf_arr[1]"
   ]
  },
  {
   "cell_type": "code",
   "execution_count": 83,
   "metadata": {},
   "outputs": [
    {
     "data": {
      "text/plain": [
       "<BarContainer object of 22 artists>"
      ]
     },
     "execution_count": 83,
     "metadata": {},
     "output_type": "execute_result"
    },
    {
     "data": {
      "image/png": "[encoded data removed]",
      "text/plain": [
       "<Figure size 640x480 with 1 Axes>"
      ]
     },
     "metadata": {},
     "output_type": "display_data"
    }
   ],
   "source": [
    "temp = [i / conf_arr[1].sum() * 100 for i in conf_arr[1][0]]\n",
    "plt.bar([*range(len(confidence))], temp)"
   ]
  },
  {
   "cell_type": "code",
   "execution_count": 97,
   "metadata": {
    "scrolled": false
   },
   "outputs": [
    {
     "data": {
      "text/plain": [
       "<BarContainer object of 22 artists>"
      ]
     },
     "execution_count": 97,
     "metadata": {},
     "output_type": "execute_result"
    },
    {
     "data": {
      "image/png": "[encoded data removed]",
      "text/plain": [
       "<Figure size 640x480 with 1 Axes>"
      ]
     },
     "metadata": {},
     "output_type": "display_data"
    }
   ],
   "source": [
    "temp = [i / conf_arr[2].sum() * 100 for i in conf_arr[2][0]]\n",
    "plt.bar([*range(len(confidence))], temp)"
   ]
  },
  {
   "cell_type": "code",
   "execution_count": 95,
   "metadata": {
    "scrolled": false
   },
   "outputs": [
    {
     "data": {
      "text/plain": [
       "<BarContainer object of 22 artists>"
      ]
     },
     "execution_count": 95,
     "metadata": {},
     "output_type": "execute_result"
    },
    {
     "data": {
      "image/png": "[encoded data removed]",
      "text/plain": [
       "<Figure size 640x480 with 1 Axes>"
      ]
     },
     "metadata": {},
     "output_type": "display_data"
    }
   ],
   "source": [
    "temp = [i / conf_arr[40].sum() * 100 for i in conf_arr[40][0]]\n",
    "plt.bar([*range(len(confidence))], temp)"
   ]
  },
  {
   "cell_type": "markdown",
   "metadata": {},
   "source": [
    "We can a major improvement over the first 1000-2000 samples, and a peak around midway before settling in around the confidence we see at the end"
   ]
  },
  {
   "cell_type": "code",
   "execution_count": 113,
   "metadata": {},
   "outputs": [
    {
     "data": {
      "text/plain": [
       "array(['Amazon Echo', 'Android Phone', 'Belkin Wemo switch',\n",
       "       'Belkin wemo motion sensor', 'Blipcare Blood Pressure meter',\n",
       "       'Dropcam', 'HP Printer', 'IPhone', 'Laptop',\n",
       "       'NEST Protect smoke alarm', 'Netatmo Welcome',\n",
       "       'Netatmo weather station', 'PIX-STAR Photo-frame',\n",
       "       'Samsung Galaxy Tab', 'Samsung SmartCam', 'Smart Things',\n",
       "       'TP-Link Day Night Cloud camera', 'TP-Link Smart plug',\n",
       "       'TPLink Router Bridge LAN (Gateway)', 'Triby Speaker',\n",
       "       'Withings Smart Baby Monitor', 'Withings Smart scale'],\n",
       "      dtype=object)"
      ]
     },
     "execution_count": 113,
     "metadata": {},
     "output_type": "execute_result"
    }
   ],
   "source": [
    "model.classes_"
   ]
  },
  {
   "cell_type": "markdown",
   "metadata": {},
   "source": [
    "## Performance with padding\n",
    "We will take our original amazon echo dataset, and apply padding rules to see how the classifier performs."
   ]
  },
  {
   "cell_type": "code",
   "execution_count": 114,
   "metadata": {},
   "outputs": [],
   "source": [
    "data = read_date_part(\"echopad100\")\n",
    "data.set_index(\"timestamp\")\n",
    "windowed_frame = attach_window_id(data)\n",
    "labeled_features = generate_features_labeled(windowed_frame, devices)"
   ]
  },
  {
   "cell_type": "code",
   "execution_count": 118,
   "metadata": {},
   "outputs": [],
   "source": [
    "ctr = 0\n",
    "for i in range(len(labeled_features)):\n",
    "    if(model.predict(labeled_features.iloc[i, 0:3].to_numpy().reshape(1, -1))) == \"Amazon Echo\":\n",
    "        ctr += 1"
   ]
  },
  {
   "cell_type": "code",
   "execution_count": 119,
   "metadata": {},
   "outputs": [
    {
     "name": "stdout",
     "output_type": "stream",
     "text": [
      "0.001503517156204693\n"
     ]
    }
   ],
   "source": [
    "print(ctr/len(labeled_features))"
   ]
  },
  {
   "cell_type": "markdown",
   "metadata": {},
   "source": [
    "## Checking real life scenario (Multiple devices)"
   ]
  },
  {
   "cell_type": "code",
   "execution_count": null,
   "metadata": {},
   "outputs": [],
   "source": []
  }
 ],
 "metadata": {
  "kernelspec": {
   "display_name": "Python 3 (ipykernel)",
   "language": "python",
   "name": "python3"
  },
  "language_info": {
   "codemirror_mode": {
    "name": "ipython",
    "version": 3
   },
   "file_extension": ".py",
   "mimetype": "text/x-python",
   "name": "python",
   "nbconvert_exporter": "python",
   "pygments_lexer": "ipython3",
   "version": "3.10.6"
  },
  "vscode": {
   "interpreter": {
    "hash": "916dbcbb3f70747c44a77c7bcd40155683ae19c65e1c03b4aa3499c5328201f1"
   }
  }
 },
 "nbformat": 4,
 "nbformat_minor": 2
}
