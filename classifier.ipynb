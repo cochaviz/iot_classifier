{
 "cells": [
  {
   "cell_type": "code",
   "execution_count": 204,
   "metadata": {},
   "outputs": [],
   "source": [
    "import matplotlib.pyplot as plt\n",
    "import seaborn as sns\n",
    "import pandas as pd\n",
    "import numpy as np\n",
    "from matplotlib.colors import ListedColormap\n",
    "from sklearn import neighbors, model_selection, metrics\n",
    "from sklearn.inspection import DecisionBoundaryDisplay"
   ]
  },
  {
   "cell_type": "code",
   "execution_count": 205,
   "metadata": {},
   "outputs": [
    {
     "name": "stdout",
     "output_type": "stream",
     "text": [
      "      packet_id            timestamp  packet_size            eth_src  \\\n",
      "0             0  1474552802257569024           70  18:b7:9e:02:20:44   \n",
      "1             1  1474552802257692160           66  18:b7:9e:02:20:44   \n",
      "2             2  1474552802323085056           66  14:cc:20:51:33:ea   \n",
      "3             3  1474552802383173888           60  d0:52:a8:00:67:5e   \n",
      "4             5  1474552802447910912           88  70:ee:50:18:34:43   \n",
      "...         ...                  ...          ...                ...   \n",
      "1863       1996  1474553105698045952           66  ec:1a:59:83:28:11   \n",
      "1864       1997  1474553105698468864           66  ec:1a:59:83:28:11   \n",
      "1865       1998  1474553105698507008           66  ec:1a:59:83:28:11   \n",
      "1866       1999  1474553105698558976           66  ec:1a:59:83:28:11   \n",
      "1867       2000  1474553105700568064           66  ec:1a:59:79:f4:89   \n",
      "\n",
      "                             device_name protocol    iot  \n",
      "0                          Triby Speaker      Raw   True  \n",
      "1                          Triby Speaker      TCP   True  \n",
      "2     TPLink Router Bridge LAN (Gateway)      TCP  False  \n",
      "3                           Smart Things  Padding   True  \n",
      "4                        Netatmo Welcome      DNS   True  \n",
      "...                                  ...      ...    ...  \n",
      "1863           Belkin wemo motion sensor      TCP   True  \n",
      "1864           Belkin wemo motion sensor      TCP   True  \n",
      "1865           Belkin wemo motion sensor      TCP   True  \n",
      "1866           Belkin wemo motion sensor      TCP   True  \n",
      "1867                  Belkin Wemo switch      TCP   True  \n",
      "\n",
      "[1868 rows x 7 columns]\n"
     ]
    }
   ],
   "source": [
    "data_folder = \"data/traces/\"\n",
    "\n",
    "def read_date(date: str):\n",
    "    \"\"\"Aggregate data of a single from parts\"\"\"\n",
    "    data = pd.DataFrame()\n",
    "\n",
    "    for i in range(50):\n",
    "        try:\n",
    "            frame = pd.read_csv(data_folder + date + \"-{}.csv\".format(i))\n",
    "            data = pd.concat([data, frame], axis=0)\n",
    "        except OSError:\n",
    "            pass\n",
    "\n",
    "    return data\n",
    "\n",
    "\n",
    "def read_date_part(date_part: str):\n",
    "    \"\"\"Read data of a part of a capture date\"\"\"\n",
    "    data = pd.DataFrame()\n",
    "\n",
    "    try:\n",
    "        frame = pd.read_csv(data_folder + date_part + \".csv\")\n",
    "        data = pd.concat([data, frame], axis=0)\n",
    "    except OSError:\n",
    "        pass\n",
    "\n",
    "    return data\n",
    "\n",
    "data = read_date_part(\"16-09-23\")\n",
    "data.set_index(\"timestamp\")\n",
    "print(data)"
   ]
  },
  {
   "cell_type": "code",
   "execution_count": 206,
   "metadata": {},
   "outputs": [
    {
     "name": "stdout",
     "output_type": "stream",
     "text": [
      "           packet_id            timestamp  packet_size            eth_src  \\\n",
      "window_id                                                                   \n",
      "0                  0  1474552802257569024           70  18:b7:9e:02:20:44   \n",
      "0                  1  1474552802257692160           66  18:b7:9e:02:20:44   \n",
      "0                  2  1474552802323085056           66  14:cc:20:51:33:ea   \n",
      "0                  3  1474552802383173888           60  d0:52:a8:00:67:5e   \n",
      "0                  5  1474552802447910912           88  70:ee:50:18:34:43   \n",
      "...              ...                  ...          ...                ...   \n",
      "303             1996  1474553105698045952           66  ec:1a:59:83:28:11   \n",
      "303             1997  1474553105698468864           66  ec:1a:59:83:28:11   \n",
      "303             1998  1474553105698507008           66  ec:1a:59:83:28:11   \n",
      "303             1999  1474553105698558976           66  ec:1a:59:83:28:11   \n",
      "303             2000  1474553105700568064           66  ec:1a:59:79:f4:89   \n",
      "\n",
      "                                  device_name protocol    iot  \n",
      "window_id                                                      \n",
      "0                               Triby Speaker      Raw   True  \n",
      "0                               Triby Speaker      TCP   True  \n",
      "0          TPLink Router Bridge LAN (Gateway)      TCP  False  \n",
      "0                                Smart Things  Padding   True  \n",
      "0                             Netatmo Welcome      DNS   True  \n",
      "...                                       ...      ...    ...  \n",
      "303                 Belkin wemo motion sensor      TCP   True  \n",
      "303                 Belkin wemo motion sensor      TCP   True  \n",
      "303                 Belkin wemo motion sensor      TCP   True  \n",
      "303                 Belkin wemo motion sensor      TCP   True  \n",
      "303                        Belkin Wemo switch      TCP   True  \n",
      "\n",
      "[1868 rows x 7 columns]\n"
     ]
    }
   ],
   "source": [
    "def attach_window_id(timestamped_frame: pd.DataFrame) -> list[pd.DataFrame]:\n",
    "    \"\"\"Slice the dataframe into 1-second intervals\"\"\"\n",
    "    first_packet_time = timestamped_frame.iloc[0]['timestamp']\n",
    "    last_packet_time = timestamped_frame.iloc[-1]['timestamp']\n",
    "    windowed_frame = timestamped_frame.set_index('timestamp', drop=False) \n",
    "\n",
    "    ns_in_sec = int(1e9)\n",
    "    number_of_windows = int((last_packet_time - first_packet_time) / ns_in_sec) + 1\n",
    "\n",
    "    try:\n",
    "        windowed_frame.insert(0, value=0, column=\"window_id\")\n",
    "    except Exception as e:\n",
    "        print(\"It seems like the column 'window_id' already exists. Just updating values...\")\n",
    "        print(e)\n",
    "    finally:\n",
    "        windowed_frame.window_id.astype(np.int64)\n",
    "\n",
    "    for window_id in range(0, number_of_windows):\n",
    "        from_time = first_packet_time + window_id * ns_in_sec\n",
    "        to_time = first_packet_time + (window_id  + 1) * ns_in_sec\n",
    "        windowed_frame.loc[from_time:to_time, 'window_id'] = window_id\n",
    "    \n",
    "    windowed_frame.set_index('window_id', inplace=True)\n",
    "    return windowed_frame\n",
    "\n",
    "\n",
    "devices = pd.read_csv(\"data/list_of_devices.csv\")\n",
    "windowed_frame = attach_window_id(data)\n",
    "print(windowed_frame)"
   ]
  },
  {
   "cell_type": "code",
   "execution_count": 225,
   "metadata": {},
   "outputs": [
    {
     "name": "stdout",
     "output_type": "stream",
     "text": [
      "                                  device_name        mean         std  \\\n",
      "window_id                                                               \n",
      "0                                Smart Things   60.000000    0.000000   \n",
      "1                                Smart Things   99.500000   55.861436   \n",
      "11                               Smart Things   60.000000    0.000000   \n",
      "16                               Smart Things   60.000000    0.000000   \n",
      "21                               Smart Things   60.000000    0.000000   \n",
      "...                                       ...         ...         ...   \n",
      "299        TPLink Router Bridge LAN (Gateway)  118.777778  122.151318   \n",
      "300        TPLink Router Bridge LAN (Gateway)  175.181818  130.261904   \n",
      "301        TPLink Router Bridge LAN (Gateway)   66.000000    0.000000   \n",
      "302        TPLink Router Bridge LAN (Gateway)   66.000000    0.000000   \n",
      "303        TPLink Router Bridge LAN (Gateway)   58.000000   13.856406   \n",
      "\n",
      "           n_bytes    iot  \n",
      "window_id                  \n",
      "0               60   True  \n",
      "1              199   True  \n",
      "11              60   True  \n",
      "16              60   True  \n",
      "21              60   True  \n",
      "...            ...    ...  \n",
      "299           1069  False  \n",
      "300           1927  False  \n",
      "301            132  False  \n",
      "302            132  False  \n",
      "303            174  False  \n",
      "\n",
      "[900 rows x 5 columns]\n"
     ]
    }
   ],
   "source": [
    "def generate_features(windowed_frame: pd.DataFrame, device_frame: pd.DataFrame):\n",
    "    \"\"\"Calculate the mode, mean, and median of a window\"\"\"\n",
    "    features = pd.DataFrame()\n",
    "\n",
    "    for device_index in device_frame.index:\n",
    "        device = device_frame.iloc[device_index]\n",
    "        device_packets = windowed_frame.loc[windowed_frame['eth_src'] == device['eth_src']]\n",
    "\n",
    "        for window_id in device_packets.index.unique():\n",
    "            device_packet_sizes = device_packets.loc[window_id, 'packet_size']\n",
    "\n",
    "            mean = device_packet_sizes.mean()\n",
    "            std = device_packet_sizes.std()\n",
    "            n_bytes = device_packet_sizes.sum()\n",
    "\n",
    "            dev_features = pd.DataFrame([[window_id, device['device_name'], mean, std, n_bytes, device['iot']]])\n",
    "            features = pd.concat([features, dev_features], axis=0)\n",
    "\n",
    "    features.columns = [\"window_id\", \"device_name\", \"mean\", \"std\", \"n_bytes\", \"iot\"]\n",
    "    features.set_index(\"window_id\", inplace=True)\n",
    "    return features\n",
    "\n",
    "features = generate_features(windowed_frame, devices)\n",
    "print(features)"
   ]
  },
  {
   "cell_type": "code",
   "execution_count": 234,
   "metadata": {},
   "outputs": [
    {
     "name": "stdout",
     "output_type": "stream",
     "text": [
      "Accuracy of mean with uniform: 0.8\n",
      "Accuracy of mean with distance: 0.8222222222222222\n"
     ]
    }
   ],
   "source": [
    "n_neighbors = 5\n",
    "\n",
    "X = features.iloc[:, 2:4]\n",
    "y = features.iloc[:, -1]\n",
    "\n",
    "X_train, X_test, y_train, y_test = model_selection.train_test_split(X, y, test_size=0.25)\n",
    "\n",
    "for weights in [\"uniform\", \"distance\"]:\n",
    "    # we create an instance of Neighbours Classifier and fit the data.\n",
    "    clf = neighbors.KNeighborsClassifier(n_neighbors, weights=weights)\n",
    "    clf.fit(X_train, y_train)\n",
    "\n",
    "    accuracy = metrics.accuracy_score(y_test, clf.predict(X_test))\n",
    "    print(\"Accuracy of {} with {}: {}\".format(metric, weights, accuracy))"
   ]
  },
  {
   "cell_type": "code",
   "execution_count": null,
   "metadata": {},
   "outputs": [],
   "source": []
  },
  {
   "cell_type": "code",
   "execution_count": null,
   "metadata": {},
   "outputs": [],
   "source": []
  },
  {
   "cell_type": "code",
   "execution_count": null,
   "metadata": {},
   "outputs": [],
   "source": []
  }
 ],
 "metadata": {
  "kernelspec": {
   "display_name": "Python 3",
   "language": "python",
   "name": "python3"
  },
  "language_info": {
   "codemirror_mode": {
    "name": "ipython",
    "version": 3
   },
   "file_extension": ".py",
   "mimetype": "text/x-python",
   "name": "python",
   "nbconvert_exporter": "python",
   "pygments_lexer": "ipython3",
   "version": "3.10.10"
  },
  "orig_nbformat": 4,
  "vscode": {
   "interpreter": {
    "hash": "916dbcbb3f70747c44a77c7bcd40155683ae19c65e1c03b4aa3499c5328201f1"
   }
  }
 },
 "nbformat": 4,
 "nbformat_minor": 2
}
