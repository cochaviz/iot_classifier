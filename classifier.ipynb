{
 "cells": [
  {
   "cell_type": "code",
   "execution_count": 1,
   "metadata": {},
   "outputs": [],
   "source": [
    "import pandas as pd\n",
    "import glob\n",
    "import matplotlib.pyplot as plt\n",
    "import seaborn as sns\n",
    "import pandas as pd\n",
    "import numpy as np\n",
    "from matplotlib.colors import ListedColormap\n",
    "from sklearn import neighbors, model_selection, metrics\n",
    "from sklearn.inspection import DecisionBoundaryDisplay"
   ]
  },
  {
   "cell_type": "markdown",
   "metadata": {},
   "source": []
  },
  {
   "cell_type": "code",
   "execution_count": 12,
   "metadata": {},
   "outputs": [
    {
     "data": {
      "text/plain": "         packet_id            timestamp  packet_size            eth_src  \\\n0                0  1474552802257569024           70  18:b7:9e:02:20:44   \n1                1  1474552802257692160           66  18:b7:9e:02:20:44   \n2                2  1474552802323085056           66  14:cc:20:51:33:ea   \n3                3  1474552802383173888           60  d0:52:a8:00:67:5e   \n4                4  1474552802396326144           98  14:cc:20:51:33:ea   \n...            ...                  ...          ...                ...   \n4918278    4948801  1476242930915371008         1434  14:cc:20:51:33:ea   \n4918279    4948802  1476242930915453952         1434  14:cc:20:51:33:ea   \n4918280    4948803  1476242930915572992         1434  14:cc:20:51:33:ea   \n4918281    4948804  1476242930915685888         1434  14:cc:20:51:33:ea   \n4918282    4948805  1476242930915865856         1306  14:cc:20:51:33:ea   \n\n         device_name protocol    iot  \n0                NaN      Raw  False  \n1                NaN      TCP  False  \n2                NaN      TCP  False  \n3                NaN  Padding  False  \n4                NaN      Raw  False  \n...              ...      ...    ...  \n4918278          NaN      Raw  False  \n4918279          NaN      Raw  False  \n4918280          NaN      Raw  False  \n4918281          NaN      Raw  False  \n4918282          NaN      Raw  False  \n\n[14184086 rows x 7 columns]",
      "text/html": "<div>\n<style scoped>\n    .dataframe tbody tr th:only-of-type {\n        vertical-align: middle;\n    }\n\n    .dataframe tbody tr th {\n        vertical-align: top;\n    }\n\n    .dataframe thead th {\n        text-align: right;\n    }\n</style>\n<table border=\"1\" class=\"dataframe\">\n  <thead>\n    <tr style=\"text-align: right;\">\n      <th></th>\n      <th>packet_id</th>\n      <th>timestamp</th>\n      <th>packet_size</th>\n      <th>eth_src</th>\n      <th>device_name</th>\n      <th>protocol</th>\n      <th>iot</th>\n    </tr>\n  </thead>\n  <tbody>\n    <tr>\n      <th>0</th>\n      <td>0</td>\n      <td>1474552802257569024</td>\n      <td>70</td>\n      <td>18:b7:9e:02:20:44</td>\n      <td>NaN</td>\n      <td>Raw</td>\n      <td>False</td>\n    </tr>\n    <tr>\n      <th>1</th>\n      <td>1</td>\n      <td>1474552802257692160</td>\n      <td>66</td>\n      <td>18:b7:9e:02:20:44</td>\n      <td>NaN</td>\n      <td>TCP</td>\n      <td>False</td>\n    </tr>\n    <tr>\n      <th>2</th>\n      <td>2</td>\n      <td>1474552802323085056</td>\n      <td>66</td>\n      <td>14:cc:20:51:33:ea</td>\n      <td>NaN</td>\n      <td>TCP</td>\n      <td>False</td>\n    </tr>\n    <tr>\n      <th>3</th>\n      <td>3</td>\n      <td>1474552802383173888</td>\n      <td>60</td>\n      <td>d0:52:a8:00:67:5e</td>\n      <td>NaN</td>\n      <td>Padding</td>\n      <td>False</td>\n    </tr>\n    <tr>\n      <th>4</th>\n      <td>4</td>\n      <td>1474552802396326144</td>\n      <td>98</td>\n      <td>14:cc:20:51:33:ea</td>\n      <td>NaN</td>\n      <td>Raw</td>\n      <td>False</td>\n    </tr>\n    <tr>\n      <th>...</th>\n      <td>...</td>\n      <td>...</td>\n      <td>...</td>\n      <td>...</td>\n      <td>...</td>\n      <td>...</td>\n      <td>...</td>\n    </tr>\n    <tr>\n      <th>4918278</th>\n      <td>4948801</td>\n      <td>1476242930915371008</td>\n      <td>1434</td>\n      <td>14:cc:20:51:33:ea</td>\n      <td>NaN</td>\n      <td>Raw</td>\n      <td>False</td>\n    </tr>\n    <tr>\n      <th>4918279</th>\n      <td>4948802</td>\n      <td>1476242930915453952</td>\n      <td>1434</td>\n      <td>14:cc:20:51:33:ea</td>\n      <td>NaN</td>\n      <td>Raw</td>\n      <td>False</td>\n    </tr>\n    <tr>\n      <th>4918280</th>\n      <td>4948803</td>\n      <td>1476242930915572992</td>\n      <td>1434</td>\n      <td>14:cc:20:51:33:ea</td>\n      <td>NaN</td>\n      <td>Raw</td>\n      <td>False</td>\n    </tr>\n    <tr>\n      <th>4918281</th>\n      <td>4948804</td>\n      <td>1476242930915685888</td>\n      <td>1434</td>\n      <td>14:cc:20:51:33:ea</td>\n      <td>NaN</td>\n      <td>Raw</td>\n      <td>False</td>\n    </tr>\n    <tr>\n      <th>4918282</th>\n      <td>4948805</td>\n      <td>1476242930915865856</td>\n      <td>1306</td>\n      <td>14:cc:20:51:33:ea</td>\n      <td>NaN</td>\n      <td>Raw</td>\n      <td>False</td>\n    </tr>\n  </tbody>\n</table>\n<p>14184086 rows × 7 columns</p>\n</div>"
     },
     "execution_count": 12,
     "metadata": {},
     "output_type": "execute_result"
    }
   ],
   "source": [
    "# Path to folder containing the CSVs\n",
    "data_folder = \"data/traces/\"\n",
    "\n",
    "def read_date(dates: [str]):\n",
    "    \"\"\"Aggregate data of a single from parts\"\"\"\n",
    "    data = pd.DataFrame()\n",
    "\n",
    "    for date in dates:\n",
    "        for i in range(50):\n",
    "            try:\n",
    "                frame = pd.read_csv(data_folder + date + \"-{}.csv\".format(i))\n",
    "                data = pd.concat([data, frame], axis=0)\n",
    "            except OSError:\n",
    "                pass\n",
    "\n",
    "    return data\n",
    "\n",
    "\n",
    "def read_date_part(date_part: str):\n",
    "    \"\"\"Read data of a part of a capture date\"\"\"\n",
    "    data = pd.DataFrame()\n",
    "\n",
    "    try:\n",
    "        frame = pd.read_csv(data_folder + date_part + \".csv\")\n",
    "        data = pd.concat([data, frame], axis=0)\n",
    "    except OSError:\n",
    "        pass\n",
    "\n",
    "    return data\n",
    "\n",
    "data = read_date([\"16-09\",\"16-10\"])\n",
    "\n",
    "data.set_index(\"timestamp\")\n",
    "\n",
    "data"
   ]
  },
  {
   "cell_type": "code",
   "execution_count": 8,
   "metadata": {},
   "outputs": [
    {
     "data": {
      "text/plain": "           packet_id            timestamp  packet_size            eth_src  \\\nwindow_id                                                                   \n0                  0  1476017999639183872           54  14:cc:20:51:33:ea   \n0                  1  1476017999660296960           66  14:cc:20:51:33:ea   \n0                  2  1476017999919145984           42  14:cc:20:51:33:ea   \n0                  3  1476017999921978112           42  ec:1a:59:83:28:11   \n0                  5  1476018000241125120           43  14:cc:20:51:33:ea   \n...              ...                  ...          ...                ...   \n224931       4948801  1476242930915371008         1434  14:cc:20:51:33:ea   \n224931       4948802  1476242930915453952         1434  14:cc:20:51:33:ea   \n224931       4948803  1476242930915572992         1434  14:cc:20:51:33:ea   \n224931       4948804  1476242930915685888         1434  14:cc:20:51:33:ea   \n224931       4948805  1476242930915865856         1306  14:cc:20:51:33:ea   \n\n           device_name protocol    iot  \nwindow_id                               \n0                  NaN      TCP  False  \n0                  NaN      TCP  False  \n0                  NaN      ARP  False  \n0                  NaN      ARP  False  \n0                  NaN      Raw  False  \n...                ...      ...    ...  \n224931             NaN      Raw  False  \n224931             NaN      Raw  False  \n224931             NaN      Raw  False  \n224931             NaN      Raw  False  \n224931             NaN      Raw  False  \n\n[7474350 rows x 7 columns]",
      "text/html": "<div>\n<style scoped>\n    .dataframe tbody tr th:only-of-type {\n        vertical-align: middle;\n    }\n\n    .dataframe tbody tr th {\n        vertical-align: top;\n    }\n\n    .dataframe thead th {\n        text-align: right;\n    }\n</style>\n<table border=\"1\" class=\"dataframe\">\n  <thead>\n    <tr style=\"text-align: right;\">\n      <th></th>\n      <th>packet_id</th>\n      <th>timestamp</th>\n      <th>packet_size</th>\n      <th>eth_src</th>\n      <th>device_name</th>\n      <th>protocol</th>\n      <th>iot</th>\n    </tr>\n    <tr>\n      <th>window_id</th>\n      <th></th>\n      <th></th>\n      <th></th>\n      <th></th>\n      <th></th>\n      <th></th>\n      <th></th>\n    </tr>\n  </thead>\n  <tbody>\n    <tr>\n      <th>0</th>\n      <td>0</td>\n      <td>1476017999639183872</td>\n      <td>54</td>\n      <td>14:cc:20:51:33:ea</td>\n      <td>NaN</td>\n      <td>TCP</td>\n      <td>False</td>\n    </tr>\n    <tr>\n      <th>0</th>\n      <td>1</td>\n      <td>1476017999660296960</td>\n      <td>66</td>\n      <td>14:cc:20:51:33:ea</td>\n      <td>NaN</td>\n      <td>TCP</td>\n      <td>False</td>\n    </tr>\n    <tr>\n      <th>0</th>\n      <td>2</td>\n      <td>1476017999919145984</td>\n      <td>42</td>\n      <td>14:cc:20:51:33:ea</td>\n      <td>NaN</td>\n      <td>ARP</td>\n      <td>False</td>\n    </tr>\n    <tr>\n      <th>0</th>\n      <td>3</td>\n      <td>1476017999921978112</td>\n      <td>42</td>\n      <td>ec:1a:59:83:28:11</td>\n      <td>NaN</td>\n      <td>ARP</td>\n      <td>False</td>\n    </tr>\n    <tr>\n      <th>0</th>\n      <td>5</td>\n      <td>1476018000241125120</td>\n      <td>43</td>\n      <td>14:cc:20:51:33:ea</td>\n      <td>NaN</td>\n      <td>Raw</td>\n      <td>False</td>\n    </tr>\n    <tr>\n      <th>...</th>\n      <td>...</td>\n      <td>...</td>\n      <td>...</td>\n      <td>...</td>\n      <td>...</td>\n      <td>...</td>\n      <td>...</td>\n    </tr>\n    <tr>\n      <th>224931</th>\n      <td>4948801</td>\n      <td>1476242930915371008</td>\n      <td>1434</td>\n      <td>14:cc:20:51:33:ea</td>\n      <td>NaN</td>\n      <td>Raw</td>\n      <td>False</td>\n    </tr>\n    <tr>\n      <th>224931</th>\n      <td>4948802</td>\n      <td>1476242930915453952</td>\n      <td>1434</td>\n      <td>14:cc:20:51:33:ea</td>\n      <td>NaN</td>\n      <td>Raw</td>\n      <td>False</td>\n    </tr>\n    <tr>\n      <th>224931</th>\n      <td>4948803</td>\n      <td>1476242930915572992</td>\n      <td>1434</td>\n      <td>14:cc:20:51:33:ea</td>\n      <td>NaN</td>\n      <td>Raw</td>\n      <td>False</td>\n    </tr>\n    <tr>\n      <th>224931</th>\n      <td>4948804</td>\n      <td>1476242930915685888</td>\n      <td>1434</td>\n      <td>14:cc:20:51:33:ea</td>\n      <td>NaN</td>\n      <td>Raw</td>\n      <td>False</td>\n    </tr>\n    <tr>\n      <th>224931</th>\n      <td>4948805</td>\n      <td>1476242930915865856</td>\n      <td>1306</td>\n      <td>14:cc:20:51:33:ea</td>\n      <td>NaN</td>\n      <td>Raw</td>\n      <td>False</td>\n    </tr>\n  </tbody>\n</table>\n<p>7474350 rows × 7 columns</p>\n</div>"
     },
     "execution_count": 8,
     "metadata": {},
     "output_type": "execute_result"
    }
   ],
   "source": [
    "def attach_window_id(timestamped_frame: pd.DataFrame) -> list[pd.DataFrame]:\n",
    "    \"\"\"Slice the dataframe into 1-second intervals\"\"\"\n",
    "    first_packet_time = timestamped_frame.iloc[0]['timestamp']\n",
    "    last_packet_time = timestamped_frame.iloc[-1]['timestamp']\n",
    "    windowed_frame = timestamped_frame.set_index('timestamp', drop=False)\n",
    "\n",
    "    ns_in_sec = int(1e9)\n",
    "    number_of_windows = int((last_packet_time - first_packet_time) / ns_in_sec) + 1\n",
    "\n",
    "    try:\n",
    "        windowed_frame.insert(0, value=0, column=\"window_id\")\n",
    "    except Exception as e:\n",
    "        print(\"It seems like the column 'window_id' already exists. Just updating values...\")\n",
    "        print(e)\n",
    "    finally:\n",
    "        windowed_frame.window_id.astype(np.int64)\n",
    "\n",
    "    for window_id in range(0, number_of_windows):\n",
    "        from_time = first_packet_time + window_id * ns_in_sec\n",
    "        to_time = first_packet_time + (window_id  + 1) * ns_in_sec\n",
    "        windowed_frame.loc[from_time:to_time, 'window_id'] = window_id\n",
    "\n",
    "    windowed_frame.set_index('window_id', inplace=True)\n",
    "    return windowed_frame\n",
    "\n",
    "\n",
    "def attach_window_id_fast(timestamped_frame: pd.DataFrame) -> pd.DataFrame:\n",
    "    first_packet_time = timestamped_frame.iloc[0]['timestamp']\n",
    "    last_packet_time = timestamped_frame.iloc[-1]['timestamp']\n",
    "\n",
    "    ns_in_sec = int(1e9)\n",
    "    windows = range(first_packet_time - 1, last_packet_time + ns_in_sec, ns_in_sec)\n",
    "\n",
    "    windowed_frame = pd.cut(timestamped_frame['timestamp'], windows, labels=range(len(windows) - 1)).to_frame()\n",
    "    windowed_frame.columns = [\"window_id\"]\n",
    "    return pd.concat([timestamped_frame, windowed_frame], axis=1).set_index('window_id')\n",
    "\n",
    "\n",
    "devices = pd.read_csv(\"data/list_of_devices.csv\")\n",
    "windowed_frame = attach_window_id_fast(data)\n",
    "\n",
    "windowed_frame"
   ]
  },
  {
   "cell_type": "code",
   "execution_count": 4,
   "metadata": {},
   "outputs": [
    {
     "data": {
      "text/plain": "           mean        std  n_bytes                         device_name    iot\nwindow_id                                                                     \n0          60.0   0.000000       60                        Smart Things   True\n1          99.5  55.861436      199                        Smart Things   True\n11         60.0   0.000000       60                        Smart Things   True\n16         60.0   0.000000       60                        Smart Things   True\n21         60.0   0.000000       60                        Smart Things   True\n...         ...        ...      ...                                 ...    ...\n691194     66.0   0.000000      132  TPLink Router Bridge LAN (Gateway)  False\n691195     93.0  18.000000      372  TPLink Router Bridge LAN (Gateway)  False\n691196     90.0  20.784610      270  TPLink Router Bridge LAN (Gateway)  False\n691197     66.0   0.000000       66  TPLink Router Bridge LAN (Gateway)  False\n691198     54.0   0.000000       54  TPLink Router Bridge LAN (Gateway)  False\n\n[2187620 rows x 5 columns]",
      "text/html": "<div>\n<style scoped>\n    .dataframe tbody tr th:only-of-type {\n        vertical-align: middle;\n    }\n\n    .dataframe tbody tr th {\n        vertical-align: top;\n    }\n\n    .dataframe thead th {\n        text-align: right;\n    }\n</style>\n<table border=\"1\" class=\"dataframe\">\n  <thead>\n    <tr style=\"text-align: right;\">\n      <th></th>\n      <th>mean</th>\n      <th>std</th>\n      <th>n_bytes</th>\n      <th>device_name</th>\n      <th>iot</th>\n    </tr>\n    <tr>\n      <th>window_id</th>\n      <th></th>\n      <th></th>\n      <th></th>\n      <th></th>\n      <th></th>\n    </tr>\n  </thead>\n  <tbody>\n    <tr>\n      <th>0</th>\n      <td>60.0</td>\n      <td>0.000000</td>\n      <td>60</td>\n      <td>Smart Things</td>\n      <td>True</td>\n    </tr>\n    <tr>\n      <th>1</th>\n      <td>99.5</td>\n      <td>55.861436</td>\n      <td>199</td>\n      <td>Smart Things</td>\n      <td>True</td>\n    </tr>\n    <tr>\n      <th>11</th>\n      <td>60.0</td>\n      <td>0.000000</td>\n      <td>60</td>\n      <td>Smart Things</td>\n      <td>True</td>\n    </tr>\n    <tr>\n      <th>16</th>\n      <td>60.0</td>\n      <td>0.000000</td>\n      <td>60</td>\n      <td>Smart Things</td>\n      <td>True</td>\n    </tr>\n    <tr>\n      <th>21</th>\n      <td>60.0</td>\n      <td>0.000000</td>\n      <td>60</td>\n      <td>Smart Things</td>\n      <td>True</td>\n    </tr>\n    <tr>\n      <th>...</th>\n      <td>...</td>\n      <td>...</td>\n      <td>...</td>\n      <td>...</td>\n      <td>...</td>\n    </tr>\n    <tr>\n      <th>691194</th>\n      <td>66.0</td>\n      <td>0.000000</td>\n      <td>132</td>\n      <td>TPLink Router Bridge LAN (Gateway)</td>\n      <td>False</td>\n    </tr>\n    <tr>\n      <th>691195</th>\n      <td>93.0</td>\n      <td>18.000000</td>\n      <td>372</td>\n      <td>TPLink Router Bridge LAN (Gateway)</td>\n      <td>False</td>\n    </tr>\n    <tr>\n      <th>691196</th>\n      <td>90.0</td>\n      <td>20.784610</td>\n      <td>270</td>\n      <td>TPLink Router Bridge LAN (Gateway)</td>\n      <td>False</td>\n    </tr>\n    <tr>\n      <th>691197</th>\n      <td>66.0</td>\n      <td>0.000000</td>\n      <td>66</td>\n      <td>TPLink Router Bridge LAN (Gateway)</td>\n      <td>False</td>\n    </tr>\n    <tr>\n      <th>691198</th>\n      <td>54.0</td>\n      <td>0.000000</td>\n      <td>54</td>\n      <td>TPLink Router Bridge LAN (Gateway)</td>\n      <td>False</td>\n    </tr>\n  </tbody>\n</table>\n<p>2187620 rows × 5 columns</p>\n</div>"
     },
     "execution_count": 4,
     "metadata": {},
     "output_type": "execute_result"
    }
   ],
   "source": [
    "def generate_features_labeled(windowed_frame: pd.DataFrame, device_frame: pd.DataFrame):\n",
    "    \"\"\"Calculate the mode, mean, and median of a window\"\"\"\n",
    "    features = pd.DataFrame()\n",
    "\n",
    "    for device_index in device_frame.index:\n",
    "        device = device_frame.iloc[device_index]\n",
    "        device_packets = windowed_frame.loc[windowed_frame['eth_src'] == device['eth_src']]\n",
    "        device_features = generate_features(device_packets)\n",
    "\n",
    "        device_features.insert(len(device_features.columns), \"device_name\", device['device_name'])\n",
    "        device_features.insert(len(device_features.columns), \"iot\", device['iot'])\n",
    "\n",
    "        features = pd.concat([features, device_features])\n",
    "\n",
    "    features.columns = [\"mean\", \"std\", \"n_bytes\", \"device_name\", \"iot\"]\n",
    "    return features\n",
    "\n",
    "def generate_features(windowed_frame: pd.DataFrame):\n",
    "    window_groups = windowed_frame.groupby(\"window_id\", observed=True)\n",
    "\n",
    "    mean = window_groups['packet_size'].mean()\n",
    "    std = window_groups['packet_size'].std()\n",
    "    n_bytes = window_groups['packet_size'].sum()\n",
    "\n",
    "    # TODO Not sure if fillna is a good idea\n",
    "    return pd.concat([mean, std, n_bytes], axis=1).fillna(0)\n",
    "\n",
    "def get_devices_in_window(windowed_frame: pd.DataFrame):\n",
    "    devices_in_window = pd.DataFrame()\n",
    "\n",
    "    for window_id in windowed_frame.index.unique():\n",
    "        devices = windowed_frame.loc[window_id]['device_name']\n",
    "        # iot = windowed_frame.loc[window_id]['iot']\n",
    "\n",
    "        if not isinstance(devices, str):\n",
    "            devices = devices.unique()\n",
    "\n",
    "        devices_in_window = pd.concat([devices_in_window, pd.DataFrame({\"window_id\": window_id, \"devices\": devices})])\n",
    "\n",
    "    return devices_in_window\n",
    "\n",
    "labeled_features = generate_features_labeled(windowed_frame, devices)\n",
    "\n",
    "labeled_features"
   ]
  },
  {
   "cell_type": "code",
   "execution_count": 5,
   "metadata": {},
   "outputs": [
    {
     "name": "stdout",
     "output_type": "stream",
     "text": [
      "Training and testing models on iot\n"
     ]
    },
    {
     "ename": "KeyboardInterrupt",
     "evalue": "",
     "output_type": "error",
     "traceback": [
      "\u001B[1;31m---------------------------------------------------------------------------\u001B[0m",
      "\u001B[1;31mKeyboardInterrupt\u001B[0m                         Traceback (most recent call last)",
      "Cell \u001B[1;32mIn[5], line 37\u001B[0m\n\u001B[0;32m     33\u001B[0m         \u001B[38;5;28mprint\u001B[39m(\u001B[38;5;124m\"\u001B[39m\u001B[38;5;132;01m{}\u001B[39;00m\u001B[38;5;124m mean accuracy over \u001B[39m\u001B[38;5;132;01m{}\u001B[39;00m\u001B[38;5;124m splits: \u001B[39m\u001B[38;5;132;01m{}\u001B[39;00m\u001B[38;5;124m\"\u001B[39m\u001B[38;5;241m.\u001B[39mformat(name, n_splits, accuracy\u001B[38;5;241m/\u001B[39mn_splits))\n\u001B[0;32m     35\u001B[0m     \u001B[38;5;28;01mreturn\u001B[39;00m models\n\u001B[1;32m---> 37\u001B[0m iot_classfiers \u001B[38;5;241m=\u001B[39m \u001B[43mtrain_and_test_classifiers\u001B[49m\u001B[43m(\u001B[49m\u001B[43mlabeled_features\u001B[49m\u001B[43m,\u001B[49m\u001B[43m \u001B[49m\u001B[38;5;124;43m'\u001B[39;49m\u001B[38;5;124;43miot\u001B[39;49m\u001B[38;5;124;43m'\u001B[39;49m\u001B[43m)\u001B[49m\n\u001B[0;32m     38\u001B[0m device_classifiers \u001B[38;5;241m=\u001B[39m train_and_test_classifiers(labeled_features\u001B[38;5;241m.\u001B[39mloc[labeled_features[\u001B[38;5;124m'\u001B[39m\u001B[38;5;124miot\u001B[39m\u001B[38;5;124m'\u001B[39m] \u001B[38;5;241m==\u001B[39m \u001B[38;5;28;01mTrue\u001B[39;00m], \u001B[38;5;124m'\u001B[39m\u001B[38;5;124mdevice_name\u001B[39m\u001B[38;5;124m'\u001B[39m)\n",
      "Cell \u001B[1;32mIn[5], line 31\u001B[0m, in \u001B[0;36mtrain_and_test_classifiers\u001B[1;34m(labeled_features, target_label, n_splits, shuffle, random_state)\u001B[0m\n\u001B[0;32m     28\u001B[0m     \u001B[38;5;28;01mfor\u001B[39;00m (train_index, test_index) \u001B[38;5;129;01min\u001B[39;00m kf\u001B[38;5;241m.\u001B[39msplit(X, y):\n\u001B[0;32m     29\u001B[0m         model\u001B[38;5;241m.\u001B[39mfit(X\u001B[38;5;241m.\u001B[39miloc[train_index], y\u001B[38;5;241m.\u001B[39miloc[train_index])\n\u001B[1;32m---> 31\u001B[0m         accuracy \u001B[38;5;241m+\u001B[39m\u001B[38;5;241m=\u001B[39m metrics\u001B[38;5;241m.\u001B[39maccuracy_score(y\u001B[38;5;241m.\u001B[39miloc[test_index], \u001B[43mmodel\u001B[49m\u001B[38;5;241;43m.\u001B[39;49m\u001B[43mpredict\u001B[49m\u001B[43m(\u001B[49m\u001B[43mX\u001B[49m\u001B[38;5;241;43m.\u001B[39;49m\u001B[43miloc\u001B[49m\u001B[43m[\u001B[49m\u001B[43mtest_index\u001B[49m\u001B[43m]\u001B[49m\u001B[43m)\u001B[49m)\n\u001B[0;32m     33\u001B[0m     \u001B[38;5;28mprint\u001B[39m(\u001B[38;5;124m\"\u001B[39m\u001B[38;5;132;01m{}\u001B[39;00m\u001B[38;5;124m mean accuracy over \u001B[39m\u001B[38;5;132;01m{}\u001B[39;00m\u001B[38;5;124m splits: \u001B[39m\u001B[38;5;132;01m{}\u001B[39;00m\u001B[38;5;124m\"\u001B[39m\u001B[38;5;241m.\u001B[39mformat(name, n_splits, accuracy\u001B[38;5;241m/\u001B[39mn_splits))\n\u001B[0;32m     35\u001B[0m \u001B[38;5;28;01mreturn\u001B[39;00m models\n",
      "File \u001B[1;32m~\\Desktop\\HackingLab\\iot_classifier\\venv\\lib\\site-packages\\sklearn\\neighbors\\_classification.py:237\u001B[0m, in \u001B[0;36mKNeighborsClassifier.predict\u001B[1;34m(self, X)\u001B[0m\n\u001B[0;32m    235\u001B[0m     neigh_dist \u001B[38;5;241m=\u001B[39m \u001B[38;5;28;01mNone\u001B[39;00m\n\u001B[0;32m    236\u001B[0m \u001B[38;5;28;01melse\u001B[39;00m:\n\u001B[1;32m--> 237\u001B[0m     neigh_dist, neigh_ind \u001B[38;5;241m=\u001B[39m \u001B[38;5;28;43mself\u001B[39;49m\u001B[38;5;241;43m.\u001B[39;49m\u001B[43mkneighbors\u001B[49m\u001B[43m(\u001B[49m\u001B[43mX\u001B[49m\u001B[43m)\u001B[49m\n\u001B[0;32m    239\u001B[0m classes_ \u001B[38;5;241m=\u001B[39m \u001B[38;5;28mself\u001B[39m\u001B[38;5;241m.\u001B[39mclasses_\n\u001B[0;32m    240\u001B[0m _y \u001B[38;5;241m=\u001B[39m \u001B[38;5;28mself\u001B[39m\u001B[38;5;241m.\u001B[39m_y\n",
      "File \u001B[1;32m~\\Desktop\\HackingLab\\iot_classifier\\venv\\lib\\site-packages\\sklearn\\neighbors\\_base.py:879\u001B[0m, in \u001B[0;36mKNeighborsMixin.kneighbors\u001B[1;34m(self, X, n_neighbors, return_distance)\u001B[0m\n\u001B[0;32m    873\u001B[0m     \u001B[38;5;28;01mif\u001B[39;00m issparse(X):\n\u001B[0;32m    874\u001B[0m         \u001B[38;5;28;01mraise\u001B[39;00m \u001B[38;5;167;01mValueError\u001B[39;00m(\n\u001B[0;32m    875\u001B[0m             \u001B[38;5;124m\"\u001B[39m\u001B[38;5;132;01m%s\u001B[39;00m\u001B[38;5;124m does not work with sparse matrices. Densify the data, \u001B[39m\u001B[38;5;124m\"\u001B[39m\n\u001B[0;32m    876\u001B[0m             \u001B[38;5;124m\"\u001B[39m\u001B[38;5;124mor set algorithm=\u001B[39m\u001B[38;5;124m'\u001B[39m\u001B[38;5;124mbrute\u001B[39m\u001B[38;5;124m'\u001B[39m\u001B[38;5;124m\"\u001B[39m\n\u001B[0;32m    877\u001B[0m             \u001B[38;5;241m%\u001B[39m \u001B[38;5;28mself\u001B[39m\u001B[38;5;241m.\u001B[39m_fit_method\n\u001B[0;32m    878\u001B[0m         )\n\u001B[1;32m--> 879\u001B[0m     chunked_results \u001B[38;5;241m=\u001B[39m \u001B[43mParallel\u001B[49m\u001B[43m(\u001B[49m\u001B[43mn_jobs\u001B[49m\u001B[43m,\u001B[49m\u001B[43m \u001B[49m\u001B[43mprefer\u001B[49m\u001B[38;5;241;43m=\u001B[39;49m\u001B[38;5;124;43m\"\u001B[39;49m\u001B[38;5;124;43mthreads\u001B[39;49m\u001B[38;5;124;43m\"\u001B[39;49m\u001B[43m)\u001B[49m\u001B[43m(\u001B[49m\n\u001B[0;32m    880\u001B[0m \u001B[43m        \u001B[49m\u001B[43mdelayed\u001B[49m\u001B[43m(\u001B[49m\u001B[43m_tree_query_parallel_helper\u001B[49m\u001B[43m)\u001B[49m\u001B[43m(\u001B[49m\n\u001B[0;32m    881\u001B[0m \u001B[43m            \u001B[49m\u001B[38;5;28;43mself\u001B[39;49m\u001B[38;5;241;43m.\u001B[39;49m\u001B[43m_tree\u001B[49m\u001B[43m,\u001B[49m\u001B[43m \u001B[49m\u001B[43mX\u001B[49m\u001B[43m[\u001B[49m\u001B[43ms\u001B[49m\u001B[43m]\u001B[49m\u001B[43m,\u001B[49m\u001B[43m \u001B[49m\u001B[43mn_neighbors\u001B[49m\u001B[43m,\u001B[49m\u001B[43m \u001B[49m\u001B[43mreturn_distance\u001B[49m\n\u001B[0;32m    882\u001B[0m \u001B[43m        \u001B[49m\u001B[43m)\u001B[49m\n\u001B[0;32m    883\u001B[0m \u001B[43m        \u001B[49m\u001B[38;5;28;43;01mfor\u001B[39;49;00m\u001B[43m \u001B[49m\u001B[43ms\u001B[49m\u001B[43m \u001B[49m\u001B[38;5;129;43;01min\u001B[39;49;00m\u001B[43m \u001B[49m\u001B[43mgen_even_slices\u001B[49m\u001B[43m(\u001B[49m\u001B[43mX\u001B[49m\u001B[38;5;241;43m.\u001B[39;49m\u001B[43mshape\u001B[49m\u001B[43m[\u001B[49m\u001B[38;5;241;43m0\u001B[39;49m\u001B[43m]\u001B[49m\u001B[43m,\u001B[49m\u001B[43m \u001B[49m\u001B[43mn_jobs\u001B[49m\u001B[43m)\u001B[49m\n\u001B[0;32m    884\u001B[0m \u001B[43m    \u001B[49m\u001B[43m)\u001B[49m\n\u001B[0;32m    885\u001B[0m \u001B[38;5;28;01melse\u001B[39;00m:\n\u001B[0;32m    886\u001B[0m     \u001B[38;5;28;01mraise\u001B[39;00m \u001B[38;5;167;01mValueError\u001B[39;00m(\u001B[38;5;124m\"\u001B[39m\u001B[38;5;124minternal: _fit_method not recognized\u001B[39m\u001B[38;5;124m\"\u001B[39m)\n",
      "File \u001B[1;32m~\\Desktop\\HackingLab\\iot_classifier\\venv\\lib\\site-packages\\sklearn\\utils\\parallel.py:63\u001B[0m, in \u001B[0;36mParallel.__call__\u001B[1;34m(self, iterable)\u001B[0m\n\u001B[0;32m     58\u001B[0m config \u001B[38;5;241m=\u001B[39m get_config()\n\u001B[0;32m     59\u001B[0m iterable_with_config \u001B[38;5;241m=\u001B[39m (\n\u001B[0;32m     60\u001B[0m     (_with_config(delayed_func, config), args, kwargs)\n\u001B[0;32m     61\u001B[0m     \u001B[38;5;28;01mfor\u001B[39;00m delayed_func, args, kwargs \u001B[38;5;129;01min\u001B[39;00m iterable\n\u001B[0;32m     62\u001B[0m )\n\u001B[1;32m---> 63\u001B[0m \u001B[38;5;28;01mreturn\u001B[39;00m \u001B[38;5;28;43msuper\u001B[39;49m\u001B[43m(\u001B[49m\u001B[43m)\u001B[49m\u001B[38;5;241;43m.\u001B[39;49m\u001B[38;5;21;43m__call__\u001B[39;49m\u001B[43m(\u001B[49m\u001B[43miterable_with_config\u001B[49m\u001B[43m)\u001B[49m\n",
      "File \u001B[1;32m~\\Desktop\\HackingLab\\iot_classifier\\venv\\lib\\site-packages\\joblib\\parallel.py:1085\u001B[0m, in \u001B[0;36mParallel.__call__\u001B[1;34m(self, iterable)\u001B[0m\n\u001B[0;32m   1076\u001B[0m \u001B[38;5;28;01mtry\u001B[39;00m:\n\u001B[0;32m   1077\u001B[0m     \u001B[38;5;66;03m# Only set self._iterating to True if at least a batch\u001B[39;00m\n\u001B[0;32m   1078\u001B[0m     \u001B[38;5;66;03m# was dispatched. In particular this covers the edge\u001B[39;00m\n\u001B[1;32m   (...)\u001B[0m\n\u001B[0;32m   1082\u001B[0m     \u001B[38;5;66;03m# was very quick and its callback already dispatched all the\u001B[39;00m\n\u001B[0;32m   1083\u001B[0m     \u001B[38;5;66;03m# remaining jobs.\u001B[39;00m\n\u001B[0;32m   1084\u001B[0m     \u001B[38;5;28mself\u001B[39m\u001B[38;5;241m.\u001B[39m_iterating \u001B[38;5;241m=\u001B[39m \u001B[38;5;28;01mFalse\u001B[39;00m\n\u001B[1;32m-> 1085\u001B[0m     \u001B[38;5;28;01mif\u001B[39;00m \u001B[38;5;28;43mself\u001B[39;49m\u001B[38;5;241;43m.\u001B[39;49m\u001B[43mdispatch_one_batch\u001B[49m\u001B[43m(\u001B[49m\u001B[43miterator\u001B[49m\u001B[43m)\u001B[49m:\n\u001B[0;32m   1086\u001B[0m         \u001B[38;5;28mself\u001B[39m\u001B[38;5;241m.\u001B[39m_iterating \u001B[38;5;241m=\u001B[39m \u001B[38;5;28mself\u001B[39m\u001B[38;5;241m.\u001B[39m_original_iterator \u001B[38;5;129;01mis\u001B[39;00m \u001B[38;5;129;01mnot\u001B[39;00m \u001B[38;5;28;01mNone\u001B[39;00m\n\u001B[0;32m   1088\u001B[0m     \u001B[38;5;28;01mwhile\u001B[39;00m \u001B[38;5;28mself\u001B[39m\u001B[38;5;241m.\u001B[39mdispatch_one_batch(iterator):\n",
      "File \u001B[1;32m~\\Desktop\\HackingLab\\iot_classifier\\venv\\lib\\site-packages\\joblib\\parallel.py:901\u001B[0m, in \u001B[0;36mParallel.dispatch_one_batch\u001B[1;34m(self, iterator)\u001B[0m\n\u001B[0;32m    899\u001B[0m     \u001B[38;5;28;01mreturn\u001B[39;00m \u001B[38;5;28;01mFalse\u001B[39;00m\n\u001B[0;32m    900\u001B[0m \u001B[38;5;28;01melse\u001B[39;00m:\n\u001B[1;32m--> 901\u001B[0m     \u001B[38;5;28;43mself\u001B[39;49m\u001B[38;5;241;43m.\u001B[39;49m\u001B[43m_dispatch\u001B[49m\u001B[43m(\u001B[49m\u001B[43mtasks\u001B[49m\u001B[43m)\u001B[49m\n\u001B[0;32m    902\u001B[0m     \u001B[38;5;28;01mreturn\u001B[39;00m \u001B[38;5;28;01mTrue\u001B[39;00m\n",
      "File \u001B[1;32m~\\Desktop\\HackingLab\\iot_classifier\\venv\\lib\\site-packages\\joblib\\parallel.py:819\u001B[0m, in \u001B[0;36mParallel._dispatch\u001B[1;34m(self, batch)\u001B[0m\n\u001B[0;32m    817\u001B[0m \u001B[38;5;28;01mwith\u001B[39;00m \u001B[38;5;28mself\u001B[39m\u001B[38;5;241m.\u001B[39m_lock:\n\u001B[0;32m    818\u001B[0m     job_idx \u001B[38;5;241m=\u001B[39m \u001B[38;5;28mlen\u001B[39m(\u001B[38;5;28mself\u001B[39m\u001B[38;5;241m.\u001B[39m_jobs)\n\u001B[1;32m--> 819\u001B[0m     job \u001B[38;5;241m=\u001B[39m \u001B[38;5;28;43mself\u001B[39;49m\u001B[38;5;241;43m.\u001B[39;49m\u001B[43m_backend\u001B[49m\u001B[38;5;241;43m.\u001B[39;49m\u001B[43mapply_async\u001B[49m\u001B[43m(\u001B[49m\u001B[43mbatch\u001B[49m\u001B[43m,\u001B[49m\u001B[43m \u001B[49m\u001B[43mcallback\u001B[49m\u001B[38;5;241;43m=\u001B[39;49m\u001B[43mcb\u001B[49m\u001B[43m)\u001B[49m\n\u001B[0;32m    820\u001B[0m     \u001B[38;5;66;03m# A job can complete so quickly than its callback is\u001B[39;00m\n\u001B[0;32m    821\u001B[0m     \u001B[38;5;66;03m# called before we get here, causing self._jobs to\u001B[39;00m\n\u001B[0;32m    822\u001B[0m     \u001B[38;5;66;03m# grow. To ensure correct results ordering, .insert is\u001B[39;00m\n\u001B[0;32m    823\u001B[0m     \u001B[38;5;66;03m# used (rather than .append) in the following line\u001B[39;00m\n\u001B[0;32m    824\u001B[0m     \u001B[38;5;28mself\u001B[39m\u001B[38;5;241m.\u001B[39m_jobs\u001B[38;5;241m.\u001B[39minsert(job_idx, job)\n",
      "File \u001B[1;32m~\\Desktop\\HackingLab\\iot_classifier\\venv\\lib\\site-packages\\joblib\\_parallel_backends.py:208\u001B[0m, in \u001B[0;36mSequentialBackend.apply_async\u001B[1;34m(self, func, callback)\u001B[0m\n\u001B[0;32m    206\u001B[0m \u001B[38;5;28;01mdef\u001B[39;00m \u001B[38;5;21mapply_async\u001B[39m(\u001B[38;5;28mself\u001B[39m, func, callback\u001B[38;5;241m=\u001B[39m\u001B[38;5;28;01mNone\u001B[39;00m):\n\u001B[0;32m    207\u001B[0m \u001B[38;5;250m    \u001B[39m\u001B[38;5;124;03m\"\"\"Schedule a func to be run\"\"\"\u001B[39;00m\n\u001B[1;32m--> 208\u001B[0m     result \u001B[38;5;241m=\u001B[39m \u001B[43mImmediateResult\u001B[49m\u001B[43m(\u001B[49m\u001B[43mfunc\u001B[49m\u001B[43m)\u001B[49m\n\u001B[0;32m    209\u001B[0m     \u001B[38;5;28;01mif\u001B[39;00m callback:\n\u001B[0;32m    210\u001B[0m         callback(result)\n",
      "File \u001B[1;32m~\\Desktop\\HackingLab\\iot_classifier\\venv\\lib\\site-packages\\joblib\\_parallel_backends.py:597\u001B[0m, in \u001B[0;36mImmediateResult.__init__\u001B[1;34m(self, batch)\u001B[0m\n\u001B[0;32m    594\u001B[0m \u001B[38;5;28;01mdef\u001B[39;00m \u001B[38;5;21m__init__\u001B[39m(\u001B[38;5;28mself\u001B[39m, batch):\n\u001B[0;32m    595\u001B[0m     \u001B[38;5;66;03m# Don't delay the application, to avoid keeping the input\u001B[39;00m\n\u001B[0;32m    596\u001B[0m     \u001B[38;5;66;03m# arguments in memory\u001B[39;00m\n\u001B[1;32m--> 597\u001B[0m     \u001B[38;5;28mself\u001B[39m\u001B[38;5;241m.\u001B[39mresults \u001B[38;5;241m=\u001B[39m \u001B[43mbatch\u001B[49m\u001B[43m(\u001B[49m\u001B[43m)\u001B[49m\n",
      "File \u001B[1;32m~\\Desktop\\HackingLab\\iot_classifier\\venv\\lib\\site-packages\\joblib\\parallel.py:288\u001B[0m, in \u001B[0;36mBatchedCalls.__call__\u001B[1;34m(self)\u001B[0m\n\u001B[0;32m    284\u001B[0m \u001B[38;5;28;01mdef\u001B[39;00m \u001B[38;5;21m__call__\u001B[39m(\u001B[38;5;28mself\u001B[39m):\n\u001B[0;32m    285\u001B[0m     \u001B[38;5;66;03m# Set the default nested backend to self._backend but do not set the\u001B[39;00m\n\u001B[0;32m    286\u001B[0m     \u001B[38;5;66;03m# change the default number of processes to -1\u001B[39;00m\n\u001B[0;32m    287\u001B[0m     \u001B[38;5;28;01mwith\u001B[39;00m parallel_backend(\u001B[38;5;28mself\u001B[39m\u001B[38;5;241m.\u001B[39m_backend, n_jobs\u001B[38;5;241m=\u001B[39m\u001B[38;5;28mself\u001B[39m\u001B[38;5;241m.\u001B[39m_n_jobs):\n\u001B[1;32m--> 288\u001B[0m         \u001B[38;5;28;01mreturn\u001B[39;00m [func(\u001B[38;5;241m*\u001B[39margs, \u001B[38;5;241m*\u001B[39m\u001B[38;5;241m*\u001B[39mkwargs)\n\u001B[0;32m    289\u001B[0m                 \u001B[38;5;28;01mfor\u001B[39;00m func, args, kwargs \u001B[38;5;129;01min\u001B[39;00m \u001B[38;5;28mself\u001B[39m\u001B[38;5;241m.\u001B[39mitems]\n",
      "File \u001B[1;32m~\\Desktop\\HackingLab\\iot_classifier\\venv\\lib\\site-packages\\joblib\\parallel.py:288\u001B[0m, in \u001B[0;36m<listcomp>\u001B[1;34m(.0)\u001B[0m\n\u001B[0;32m    284\u001B[0m \u001B[38;5;28;01mdef\u001B[39;00m \u001B[38;5;21m__call__\u001B[39m(\u001B[38;5;28mself\u001B[39m):\n\u001B[0;32m    285\u001B[0m     \u001B[38;5;66;03m# Set the default nested backend to self._backend but do not set the\u001B[39;00m\n\u001B[0;32m    286\u001B[0m     \u001B[38;5;66;03m# change the default number of processes to -1\u001B[39;00m\n\u001B[0;32m    287\u001B[0m     \u001B[38;5;28;01mwith\u001B[39;00m parallel_backend(\u001B[38;5;28mself\u001B[39m\u001B[38;5;241m.\u001B[39m_backend, n_jobs\u001B[38;5;241m=\u001B[39m\u001B[38;5;28mself\u001B[39m\u001B[38;5;241m.\u001B[39m_n_jobs):\n\u001B[1;32m--> 288\u001B[0m         \u001B[38;5;28;01mreturn\u001B[39;00m [func(\u001B[38;5;241m*\u001B[39margs, \u001B[38;5;241m*\u001B[39m\u001B[38;5;241m*\u001B[39mkwargs)\n\u001B[0;32m    289\u001B[0m                 \u001B[38;5;28;01mfor\u001B[39;00m func, args, kwargs \u001B[38;5;129;01min\u001B[39;00m \u001B[38;5;28mself\u001B[39m\u001B[38;5;241m.\u001B[39mitems]\n",
      "File \u001B[1;32m~\\Desktop\\HackingLab\\iot_classifier\\venv\\lib\\site-packages\\sklearn\\utils\\parallel.py:123\u001B[0m, in \u001B[0;36m_FuncWrapper.__call__\u001B[1;34m(self, *args, **kwargs)\u001B[0m\n\u001B[0;32m    121\u001B[0m     config \u001B[38;5;241m=\u001B[39m {}\n\u001B[0;32m    122\u001B[0m \u001B[38;5;28;01mwith\u001B[39;00m config_context(\u001B[38;5;241m*\u001B[39m\u001B[38;5;241m*\u001B[39mconfig):\n\u001B[1;32m--> 123\u001B[0m     \u001B[38;5;28;01mreturn\u001B[39;00m \u001B[38;5;28mself\u001B[39m\u001B[38;5;241m.\u001B[39mfunction(\u001B[38;5;241m*\u001B[39margs, \u001B[38;5;241m*\u001B[39m\u001B[38;5;241m*\u001B[39mkwargs)\n",
      "File \u001B[1;32m~\\Desktop\\HackingLab\\iot_classifier\\venv\\lib\\site-packages\\sklearn\\neighbors\\_base.py:685\u001B[0m, in \u001B[0;36m_tree_query_parallel_helper\u001B[1;34m(tree, *args, **kwargs)\u001B[0m\n\u001B[0;32m    679\u001B[0m \u001B[38;5;28;01mdef\u001B[39;00m \u001B[38;5;21m_tree_query_parallel_helper\u001B[39m(tree, \u001B[38;5;241m*\u001B[39margs, \u001B[38;5;241m*\u001B[39m\u001B[38;5;241m*\u001B[39mkwargs):\n\u001B[0;32m    680\u001B[0m \u001B[38;5;250m    \u001B[39m\u001B[38;5;124;03m\"\"\"Helper for the Parallel calls in KNeighborsMixin.kneighbors.\u001B[39;00m\n\u001B[0;32m    681\u001B[0m \n\u001B[0;32m    682\u001B[0m \u001B[38;5;124;03m    The Cython method tree.query is not directly picklable by cloudpickle\u001B[39;00m\n\u001B[0;32m    683\u001B[0m \u001B[38;5;124;03m    under PyPy.\u001B[39;00m\n\u001B[0;32m    684\u001B[0m \u001B[38;5;124;03m    \"\"\"\u001B[39;00m\n\u001B[1;32m--> 685\u001B[0m     \u001B[38;5;28;01mreturn\u001B[39;00m tree\u001B[38;5;241m.\u001B[39mquery(\u001B[38;5;241m*\u001B[39margs, \u001B[38;5;241m*\u001B[39m\u001B[38;5;241m*\u001B[39mkwargs)\n",
      "\u001B[1;31mKeyboardInterrupt\u001B[0m: "
     ]
    }
   ],
   "source": [
    "import sklearn.svm as svm\n",
    "import sklearn.neighbors as neighbors\n",
    "import sklearn.tree as tree\n",
    "import sklearn.ensemble as ensemble\n",
    "\n",
    "def train_and_test_classifiers(labeled_features, target_label, n_splits=10, shuffle=False, random_state=None):\n",
    "    \"\"\"\n",
    "    Trains and tests a series of models on the given, labeled data\n",
    "    (Knn, RF, DT, SVM, Majority Voting)\n",
    "    \"\"\"\n",
    "\n",
    "    X = labeled_features.iloc[:, 1:3]\n",
    "    y = labeled_features.iloc[:][target_label]\n",
    "    kf = model_selection.StratifiedKFold(n_splits=n_splits, shuffle=shuffle, random_state=random_state)\n",
    "\n",
    "    models = {\n",
    "        \"Knn\" : neighbors.KNeighborsClassifier(n_neighbors=5, weights=\"distance\"),\n",
    "        \"SVM\" : svm.SVC(),\n",
    "        \"DT\"  : tree.DecisionTreeClassifier(),\n",
    "        \"RF\"  : ensemble.RandomForestClassifier(n_estimators=10, max_depth=None, min_samples_split=2, random_state=0)\n",
    "    }\n",
    "    models[\"Majority Voting\"] = ensemble.VotingClassifier([ pair for pair in models.items() ], voting='hard')\n",
    "\n",
    "    print(\"Training and testing models on {}\".format(target_label))\n",
    "    for (name, model) in models.items():\n",
    "        accuracy = 0.0\n",
    "\n",
    "        for (train_index, test_index) in kf.split(X, y):\n",
    "            model.fit(X.iloc[train_index], y.iloc[train_index])\n",
    "\n",
    "            accuracy += metrics.accuracy_score(y.iloc[test_index], model.predict(X.iloc[test_index]))\n",
    "\n",
    "        print(\"{} mean accuracy over {} splits: {}\".format(name, n_splits, accuracy/n_splits))\n",
    "\n",
    "    return models\n",
    "\n",
    "iot_classfiers = train_and_test_classifiers(labeled_features, 'iot')\n",
    "device_classifiers = train_and_test_classifiers(labeled_features.loc[labeled_features['iot'] == True], 'device_name')"
   ]
  },
  {
   "cell_type": "code",
   "execution_count": null,
   "metadata": {},
   "outputs": [],
   "source": [
    "def test_realistic(iot_classifier, device_classifier, unlabeled_features, devices_in_window):\n",
    "    assert len(unlabeled_features) == len(devices_in_window)\n",
    "\n",
    "    # accuracy = metrics.accuracy_score(devices_in_window, iot_classifier.predict(unlabeled_features))\n",
    "    accuracy = metrics.accuracy_score(devices_in_window, device_classifier.predict(unlabeled_features))\n",
    "    print(\"Accuracy:\", accuracy)\n",
    "\n",
    "\n",
    "unlabeled_features = generate_features(windowed_frame)\n",
    "devices_in_window = get_devices_in_window(windowed_frame)\n",
    "\n",
    "test_realistic(iot_classifier, device_classifier, unlabeled_features, devices_in_window)"
   ]
  },
  {
   "cell_type": "code",
   "execution_count": 82,
   "metadata": {},
   "outputs": [
    {
     "ename": "KeyboardInterrupt",
     "evalue": "",
     "output_type": "error",
     "traceback": [
      "\u001B[1;31m---------------------------------------------------------------------------\u001B[0m",
      "\u001B[1;31mKeyboardInterrupt\u001B[0m                         Traceback (most recent call last)",
      "File \u001B[1;32m<timed exec>:20\u001B[0m\n",
      "File \u001B[1;32m<timed exec>:8\u001B[0m, in \u001B[0;36mmode_mean_med\u001B[1;34m(traffic_frame)\u001B[0m\n",
      "File \u001B[1;32m~\\Desktop\\HackingLab\\iot_classifier\\venv\\lib\\site-packages\\pandas\\core\\groupby\\generic.py:895\u001B[0m, in \u001B[0;36mDataFrameGroupBy.aggregate\u001B[1;34m(self, func, engine, engine_kwargs, *args, **kwargs)\u001B[0m\n\u001B[0;32m    892\u001B[0m func \u001B[38;5;241m=\u001B[39m maybe_mangle_lambdas(func)\n\u001B[0;32m    894\u001B[0m op \u001B[38;5;241m=\u001B[39m GroupByApply(\u001B[38;5;28mself\u001B[39m, func, args, kwargs)\n\u001B[1;32m--> 895\u001B[0m result \u001B[38;5;241m=\u001B[39m \u001B[43mop\u001B[49m\u001B[38;5;241;43m.\u001B[39;49m\u001B[43magg\u001B[49m\u001B[43m(\u001B[49m\u001B[43m)\u001B[49m\n\u001B[0;32m    896\u001B[0m \u001B[38;5;28;01mif\u001B[39;00m \u001B[38;5;129;01mnot\u001B[39;00m is_dict_like(func) \u001B[38;5;129;01mand\u001B[39;00m result \u001B[38;5;129;01mis\u001B[39;00m \u001B[38;5;129;01mnot\u001B[39;00m \u001B[38;5;28;01mNone\u001B[39;00m:\n\u001B[0;32m    897\u001B[0m     \u001B[38;5;28;01mreturn\u001B[39;00m result\n",
      "File \u001B[1;32m~\\Desktop\\HackingLab\\iot_classifier\\venv\\lib\\site-packages\\pandas\\core\\apply.py:172\u001B[0m, in \u001B[0;36mApply.agg\u001B[1;34m(self)\u001B[0m\n\u001B[0;32m    169\u001B[0m     \u001B[38;5;28;01mreturn\u001B[39;00m \u001B[38;5;28mself\u001B[39m\u001B[38;5;241m.\u001B[39mapply_str()\n\u001B[0;32m    171\u001B[0m \u001B[38;5;28;01mif\u001B[39;00m is_dict_like(arg):\n\u001B[1;32m--> 172\u001B[0m     \u001B[38;5;28;01mreturn\u001B[39;00m \u001B[38;5;28;43mself\u001B[39;49m\u001B[38;5;241;43m.\u001B[39;49m\u001B[43magg_dict_like\u001B[49m\u001B[43m(\u001B[49m\u001B[43m)\u001B[49m\n\u001B[0;32m    173\u001B[0m \u001B[38;5;28;01melif\u001B[39;00m is_list_like(arg):\n\u001B[0;32m    174\u001B[0m     \u001B[38;5;66;03m# we require a list, but not a 'str'\u001B[39;00m\n\u001B[0;32m    175\u001B[0m     \u001B[38;5;28;01mreturn\u001B[39;00m \u001B[38;5;28mself\u001B[39m\u001B[38;5;241m.\u001B[39magg_list_like()\n",
      "File \u001B[1;32m~\\Desktop\\HackingLab\\iot_classifier\\venv\\lib\\site-packages\\pandas\\core\\apply.py:504\u001B[0m, in \u001B[0;36mApply.agg_dict_like\u001B[1;34m(self)\u001B[0m\n\u001B[0;32m    501\u001B[0m     results \u001B[38;5;241m=\u001B[39m {key: colg\u001B[38;5;241m.\u001B[39magg(how) \u001B[38;5;28;01mfor\u001B[39;00m key, how \u001B[38;5;129;01min\u001B[39;00m arg\u001B[38;5;241m.\u001B[39mitems()}\n\u001B[0;32m    502\u001B[0m \u001B[38;5;28;01melse\u001B[39;00m:\n\u001B[0;32m    503\u001B[0m     \u001B[38;5;66;03m# key used for column selection and output\u001B[39;00m\n\u001B[1;32m--> 504\u001B[0m     results \u001B[38;5;241m=\u001B[39m {\n\u001B[0;32m    505\u001B[0m         key: obj\u001B[38;5;241m.\u001B[39m_gotitem(key, ndim\u001B[38;5;241m=\u001B[39m\u001B[38;5;241m1\u001B[39m)\u001B[38;5;241m.\u001B[39magg(how) \u001B[38;5;28;01mfor\u001B[39;00m key, how \u001B[38;5;129;01min\u001B[39;00m arg\u001B[38;5;241m.\u001B[39mitems()\n\u001B[0;32m    506\u001B[0m     }\n\u001B[0;32m    508\u001B[0m \u001B[38;5;66;03m# set the final keys\u001B[39;00m\n\u001B[0;32m    509\u001B[0m keys \u001B[38;5;241m=\u001B[39m \u001B[38;5;28mlist\u001B[39m(arg\u001B[38;5;241m.\u001B[39mkeys())\n",
      "File \u001B[1;32m~\\Desktop\\HackingLab\\iot_classifier\\venv\\lib\\site-packages\\pandas\\core\\apply.py:505\u001B[0m, in \u001B[0;36m<dictcomp>\u001B[1;34m(.0)\u001B[0m\n\u001B[0;32m    501\u001B[0m     results \u001B[38;5;241m=\u001B[39m {key: colg\u001B[38;5;241m.\u001B[39magg(how) \u001B[38;5;28;01mfor\u001B[39;00m key, how \u001B[38;5;129;01min\u001B[39;00m arg\u001B[38;5;241m.\u001B[39mitems()}\n\u001B[0;32m    502\u001B[0m \u001B[38;5;28;01melse\u001B[39;00m:\n\u001B[0;32m    503\u001B[0m     \u001B[38;5;66;03m# key used for column selection and output\u001B[39;00m\n\u001B[0;32m    504\u001B[0m     results \u001B[38;5;241m=\u001B[39m {\n\u001B[1;32m--> 505\u001B[0m         key: \u001B[43mobj\u001B[49m\u001B[38;5;241;43m.\u001B[39;49m\u001B[43m_gotitem\u001B[49m\u001B[43m(\u001B[49m\u001B[43mkey\u001B[49m\u001B[43m,\u001B[49m\u001B[43m \u001B[49m\u001B[43mndim\u001B[49m\u001B[38;5;241;43m=\u001B[39;49m\u001B[38;5;241;43m1\u001B[39;49m\u001B[43m)\u001B[49m\u001B[38;5;241;43m.\u001B[39;49m\u001B[43magg\u001B[49m\u001B[43m(\u001B[49m\u001B[43mhow\u001B[49m\u001B[43m)\u001B[49m \u001B[38;5;28;01mfor\u001B[39;00m key, how \u001B[38;5;129;01min\u001B[39;00m arg\u001B[38;5;241m.\u001B[39mitems()\n\u001B[0;32m    506\u001B[0m     }\n\u001B[0;32m    508\u001B[0m \u001B[38;5;66;03m# set the final keys\u001B[39;00m\n\u001B[0;32m    509\u001B[0m keys \u001B[38;5;241m=\u001B[39m \u001B[38;5;28mlist\u001B[39m(arg\u001B[38;5;241m.\u001B[39mkeys())\n",
      "File \u001B[1;32m~\\Desktop\\HackingLab\\iot_classifier\\venv\\lib\\site-packages\\pandas\\core\\groupby\\generic.py:281\u001B[0m, in \u001B[0;36mSeriesGroupBy.aggregate\u001B[1;34m(self, func, engine, engine_kwargs, *args, **kwargs)\u001B[0m\n\u001B[0;32m    277\u001B[0m \u001B[38;5;28;01melif\u001B[39;00m \u001B[38;5;28misinstance\u001B[39m(func, abc\u001B[38;5;241m.\u001B[39mIterable):\n\u001B[0;32m    278\u001B[0m     \u001B[38;5;66;03m# Catch instances of lists / tuples\u001B[39;00m\n\u001B[0;32m    279\u001B[0m     \u001B[38;5;66;03m# but not the class list / tuple itself.\u001B[39;00m\n\u001B[0;32m    280\u001B[0m     func \u001B[38;5;241m=\u001B[39m maybe_mangle_lambdas(func)\n\u001B[1;32m--> 281\u001B[0m     ret \u001B[38;5;241m=\u001B[39m \u001B[38;5;28;43mself\u001B[39;49m\u001B[38;5;241;43m.\u001B[39;49m\u001B[43m_aggregate_multiple_funcs\u001B[49m\u001B[43m(\u001B[49m\u001B[43mfunc\u001B[49m\u001B[43m)\u001B[49m\n\u001B[0;32m    282\u001B[0m     \u001B[38;5;28;01mif\u001B[39;00m relabeling:\n\u001B[0;32m    283\u001B[0m         \u001B[38;5;66;03m# columns is not narrowed by mypy from relabeling flag\u001B[39;00m\n\u001B[0;32m    284\u001B[0m         \u001B[38;5;28;01massert\u001B[39;00m columns \u001B[38;5;129;01mis\u001B[39;00m \u001B[38;5;129;01mnot\u001B[39;00m \u001B[38;5;28;01mNone\u001B[39;00m  \u001B[38;5;66;03m# for mypy\u001B[39;00m\n",
      "File \u001B[1;32m~\\Desktop\\HackingLab\\iot_classifier\\venv\\lib\\site-packages\\pandas\\core\\groupby\\generic.py:336\u001B[0m, in \u001B[0;36mSeriesGroupBy._aggregate_multiple_funcs\u001B[1;34m(self, arg)\u001B[0m\n\u001B[0;32m    333\u001B[0m \u001B[38;5;28;01mfor\u001B[39;00m idx, (name, func) \u001B[38;5;129;01min\u001B[39;00m \u001B[38;5;28menumerate\u001B[39m(arg):\n\u001B[0;32m    335\u001B[0m     key \u001B[38;5;241m=\u001B[39m base\u001B[38;5;241m.\u001B[39mOutputKey(label\u001B[38;5;241m=\u001B[39mname, position\u001B[38;5;241m=\u001B[39midx)\n\u001B[1;32m--> 336\u001B[0m     results[key] \u001B[38;5;241m=\u001B[39m \u001B[38;5;28;43mself\u001B[39;49m\u001B[38;5;241;43m.\u001B[39;49m\u001B[43maggregate\u001B[49m\u001B[43m(\u001B[49m\u001B[43mfunc\u001B[49m\u001B[43m)\u001B[49m\n\u001B[0;32m    338\u001B[0m \u001B[38;5;28;01mif\u001B[39;00m \u001B[38;5;28many\u001B[39m(\u001B[38;5;28misinstance\u001B[39m(x, DataFrame) \u001B[38;5;28;01mfor\u001B[39;00m x \u001B[38;5;129;01min\u001B[39;00m results\u001B[38;5;241m.\u001B[39mvalues()):\n\u001B[0;32m    339\u001B[0m     \u001B[38;5;28;01mfrom\u001B[39;00m \u001B[38;5;21;01mpandas\u001B[39;00m \u001B[38;5;28;01mimport\u001B[39;00m concat\n",
      "File \u001B[1;32m~\\Desktop\\HackingLab\\iot_classifier\\venv\\lib\\site-packages\\pandas\\core\\groupby\\generic.py:294\u001B[0m, in \u001B[0;36mSeriesGroupBy.aggregate\u001B[1;34m(self, func, engine, engine_kwargs, *args, **kwargs)\u001B[0m\n\u001B[0;32m    291\u001B[0m     \u001B[38;5;28;01mreturn\u001B[39;00m \u001B[38;5;28mgetattr\u001B[39m(\u001B[38;5;28mself\u001B[39m, cyfunc)()\n\u001B[0;32m    293\u001B[0m \u001B[38;5;28;01mif\u001B[39;00m \u001B[38;5;28mself\u001B[39m\u001B[38;5;241m.\u001B[39mgrouper\u001B[38;5;241m.\u001B[39mnkeys \u001B[38;5;241m>\u001B[39m \u001B[38;5;241m1\u001B[39m:\n\u001B[1;32m--> 294\u001B[0m     \u001B[38;5;28;01mreturn\u001B[39;00m \u001B[38;5;28mself\u001B[39m\u001B[38;5;241m.\u001B[39m_python_agg_general(func, \u001B[38;5;241m*\u001B[39margs, \u001B[38;5;241m*\u001B[39m\u001B[38;5;241m*\u001B[39mkwargs)\n\u001B[0;32m    296\u001B[0m \u001B[38;5;28;01mtry\u001B[39;00m:\n\u001B[0;32m    297\u001B[0m     \u001B[38;5;28;01mreturn\u001B[39;00m \u001B[38;5;28mself\u001B[39m\u001B[38;5;241m.\u001B[39m_python_agg_general(func, \u001B[38;5;241m*\u001B[39margs, \u001B[38;5;241m*\u001B[39m\u001B[38;5;241m*\u001B[39mkwargs)\n",
      "File \u001B[1;32m~\\Desktop\\HackingLab\\iot_classifier\\venv\\lib\\site-packages\\pandas\\core\\groupby\\groupby.py:1682\u001B[0m, in \u001B[0;36mGroupBy._python_agg_general\u001B[1;34m(self, func, raise_on_typeerror, *args, **kwargs)\u001B[0m\n\u001B[0;32m   1678\u001B[0m name \u001B[38;5;241m=\u001B[39m obj\u001B[38;5;241m.\u001B[39mname\n\u001B[0;32m   1680\u001B[0m \u001B[38;5;28;01mtry\u001B[39;00m:\n\u001B[0;32m   1681\u001B[0m     \u001B[38;5;66;03m# if this function is invalid for this dtype, we will ignore it.\u001B[39;00m\n\u001B[1;32m-> 1682\u001B[0m     result \u001B[38;5;241m=\u001B[39m \u001B[38;5;28;43mself\u001B[39;49m\u001B[38;5;241;43m.\u001B[39;49m\u001B[43mgrouper\u001B[49m\u001B[38;5;241;43m.\u001B[39;49m\u001B[43magg_series\u001B[49m\u001B[43m(\u001B[49m\u001B[43mobj\u001B[49m\u001B[43m,\u001B[49m\u001B[43m \u001B[49m\u001B[43mf\u001B[49m\u001B[43m)\u001B[49m\n\u001B[0;32m   1683\u001B[0m \u001B[38;5;28;01mexcept\u001B[39;00m \u001B[38;5;167;01mTypeError\u001B[39;00m:\n\u001B[0;32m   1684\u001B[0m     \u001B[38;5;28;01mif\u001B[39;00m raise_on_typeerror:\n",
      "File \u001B[1;32m~\\Desktop\\HackingLab\\iot_classifier\\venv\\lib\\site-packages\\pandas\\core\\groupby\\ops.py:1081\u001B[0m, in \u001B[0;36mBaseGrouper.agg_series\u001B[1;34m(self, obj, func, preserve_dtype)\u001B[0m\n\u001B[0;32m   1078\u001B[0m     preserve_dtype \u001B[38;5;241m=\u001B[39m \u001B[38;5;28;01mTrue\u001B[39;00m\n\u001B[0;32m   1080\u001B[0m \u001B[38;5;28;01melse\u001B[39;00m:\n\u001B[1;32m-> 1081\u001B[0m     result \u001B[38;5;241m=\u001B[39m \u001B[38;5;28;43mself\u001B[39;49m\u001B[38;5;241;43m.\u001B[39;49m\u001B[43m_aggregate_series_pure_python\u001B[49m\u001B[43m(\u001B[49m\u001B[43mobj\u001B[49m\u001B[43m,\u001B[49m\u001B[43m \u001B[49m\u001B[43mfunc\u001B[49m\u001B[43m)\u001B[49m\n\u001B[0;32m   1083\u001B[0m npvalues \u001B[38;5;241m=\u001B[39m lib\u001B[38;5;241m.\u001B[39mmaybe_convert_objects(result, try_float\u001B[38;5;241m=\u001B[39m\u001B[38;5;28;01mFalse\u001B[39;00m)\n\u001B[0;32m   1084\u001B[0m \u001B[38;5;28;01mif\u001B[39;00m preserve_dtype:\n",
      "File \u001B[1;32m~\\Desktop\\HackingLab\\iot_classifier\\venv\\lib\\site-packages\\pandas\\core\\groupby\\ops.py:1104\u001B[0m, in \u001B[0;36mBaseGrouper._aggregate_series_pure_python\u001B[1;34m(self, obj, func)\u001B[0m\n\u001B[0;32m   1101\u001B[0m splitter \u001B[38;5;241m=\u001B[39m get_splitter(obj, ids, ngroups, axis\u001B[38;5;241m=\u001B[39m\u001B[38;5;241m0\u001B[39m)\n\u001B[0;32m   1103\u001B[0m \u001B[38;5;28;01mfor\u001B[39;00m i, group \u001B[38;5;129;01min\u001B[39;00m \u001B[38;5;28menumerate\u001B[39m(splitter):\n\u001B[1;32m-> 1104\u001B[0m     res \u001B[38;5;241m=\u001B[39m \u001B[43mfunc\u001B[49m\u001B[43m(\u001B[49m\u001B[43mgroup\u001B[49m\u001B[43m)\u001B[49m\n\u001B[0;32m   1105\u001B[0m     res \u001B[38;5;241m=\u001B[39m libreduction\u001B[38;5;241m.\u001B[39mextract_result(res)\n\u001B[0;32m   1107\u001B[0m     \u001B[38;5;28;01mif\u001B[39;00m \u001B[38;5;129;01mnot\u001B[39;00m initialized:\n\u001B[0;32m   1108\u001B[0m         \u001B[38;5;66;03m# We only do this validation on the first iteration\u001B[39;00m\n",
      "File \u001B[1;32m~\\Desktop\\HackingLab\\iot_classifier\\venv\\lib\\site-packages\\pandas\\core\\groupby\\groupby.py:1668\u001B[0m, in \u001B[0;36mGroupBy._python_agg_general.<locals>.<lambda>\u001B[1;34m(x)\u001B[0m\n\u001B[0;32m   1665\u001B[0m \u001B[38;5;129m@final\u001B[39m\n\u001B[0;32m   1666\u001B[0m \u001B[38;5;28;01mdef\u001B[39;00m \u001B[38;5;21m_python_agg_general\u001B[39m(\u001B[38;5;28mself\u001B[39m, func, \u001B[38;5;241m*\u001B[39margs, raise_on_typeerror\u001B[38;5;241m=\u001B[39m\u001B[38;5;28;01mFalse\u001B[39;00m, \u001B[38;5;241m*\u001B[39m\u001B[38;5;241m*\u001B[39mkwargs):\n\u001B[0;32m   1667\u001B[0m     func \u001B[38;5;241m=\u001B[39m com\u001B[38;5;241m.\u001B[39mis_builtin_func(func)\n\u001B[1;32m-> 1668\u001B[0m     f \u001B[38;5;241m=\u001B[39m \u001B[38;5;28;01mlambda\u001B[39;00m x: func(x, \u001B[38;5;241m*\u001B[39margs, \u001B[38;5;241m*\u001B[39m\u001B[38;5;241m*\u001B[39mkwargs)\n\u001B[0;32m   1670\u001B[0m     \u001B[38;5;66;03m# iterate through \"columns\" ex exclusions to populate output dict\u001B[39;00m\n\u001B[0;32m   1671\u001B[0m     output: \u001B[38;5;28mdict\u001B[39m[base\u001B[38;5;241m.\u001B[39mOutputKey, ArrayLike] \u001B[38;5;241m=\u001B[39m {}\n",
      "File \u001B[1;32m<timed exec>:8\u001B[0m, in \u001B[0;36m<lambda>\u001B[1;34m(x)\u001B[0m\n",
      "File \u001B[1;32m~\\Desktop\\HackingLab\\iot_classifier\\venv\\lib\\site-packages\\pandas\\core\\series.py:2174\u001B[0m, in \u001B[0;36mSeries.mode\u001B[1;34m(self, dropna)\u001B[0m\n\u001B[0;32m   2172\u001B[0m values \u001B[38;5;241m=\u001B[39m \u001B[38;5;28mself\u001B[39m\u001B[38;5;241m.\u001B[39m_values\n\u001B[0;32m   2173\u001B[0m \u001B[38;5;28;01mif\u001B[39;00m \u001B[38;5;28misinstance\u001B[39m(values, np\u001B[38;5;241m.\u001B[39mndarray):\n\u001B[1;32m-> 2174\u001B[0m     res_values \u001B[38;5;241m=\u001B[39m \u001B[43malgorithms\u001B[49m\u001B[38;5;241;43m.\u001B[39;49m\u001B[43mmode\u001B[49m\u001B[43m(\u001B[49m\u001B[43mvalues\u001B[49m\u001B[43m,\u001B[49m\u001B[43m \u001B[49m\u001B[43mdropna\u001B[49m\u001B[38;5;241;43m=\u001B[39;49m\u001B[43mdropna\u001B[49m\u001B[43m)\u001B[49m\n\u001B[0;32m   2175\u001B[0m \u001B[38;5;28;01melse\u001B[39;00m:\n\u001B[0;32m   2176\u001B[0m     res_values \u001B[38;5;241m=\u001B[39m values\u001B[38;5;241m.\u001B[39m_mode(dropna\u001B[38;5;241m=\u001B[39mdropna)\n",
      "File \u001B[1;32m~\\Desktop\\HackingLab\\iot_classifier\\venv\\lib\\site-packages\\pandas\\core\\algorithms.py:1096\u001B[0m, in \u001B[0;36mmode\u001B[1;34m(values, dropna, mask)\u001B[0m\n\u001B[0;32m   1094\u001B[0m npresult \u001B[38;5;241m=\u001B[39m htable\u001B[38;5;241m.\u001B[39mmode(values, dropna\u001B[38;5;241m=\u001B[39mdropna, mask\u001B[38;5;241m=\u001B[39mmask)\n\u001B[0;32m   1095\u001B[0m \u001B[38;5;28;01mtry\u001B[39;00m:\n\u001B[1;32m-> 1096\u001B[0m     npresult \u001B[38;5;241m=\u001B[39m \u001B[43mnp\u001B[49m\u001B[38;5;241;43m.\u001B[39;49m\u001B[43msort\u001B[49m\u001B[43m(\u001B[49m\u001B[43mnpresult\u001B[49m\u001B[43m)\u001B[49m\n\u001B[0;32m   1097\u001B[0m \u001B[38;5;28;01mexcept\u001B[39;00m \u001B[38;5;167;01mTypeError\u001B[39;00m \u001B[38;5;28;01mas\u001B[39;00m err:\n\u001B[0;32m   1098\u001B[0m     warnings\u001B[38;5;241m.\u001B[39mwarn(\n\u001B[0;32m   1099\u001B[0m         \u001B[38;5;124mf\u001B[39m\u001B[38;5;124m\"\u001B[39m\u001B[38;5;124mUnable to sort modes: \u001B[39m\u001B[38;5;132;01m{\u001B[39;00merr\u001B[38;5;132;01m}\u001B[39;00m\u001B[38;5;124m\"\u001B[39m,\n\u001B[0;32m   1100\u001B[0m         stacklevel\u001B[38;5;241m=\u001B[39mfind_stack_level(),\n\u001B[0;32m   1101\u001B[0m     )\n",
      "File \u001B[1;32m<__array_function__ internals>:200\u001B[0m, in \u001B[0;36msort\u001B[1;34m(*args, **kwargs)\u001B[0m\n",
      "File \u001B[1;32m~\\Desktop\\HackingLab\\iot_classifier\\venv\\lib\\site-packages\\numpy\\core\\fromnumeric.py:1029\u001B[0m, in \u001B[0;36msort\u001B[1;34m(a, axis, kind, order)\u001B[0m\n\u001B[0;32m   1027\u001B[0m     axis \u001B[38;5;241m=\u001B[39m \u001B[38;5;241m-\u001B[39m\u001B[38;5;241m1\u001B[39m\n\u001B[0;32m   1028\u001B[0m \u001B[38;5;28;01melse\u001B[39;00m:\n\u001B[1;32m-> 1029\u001B[0m     a \u001B[38;5;241m=\u001B[39m \u001B[43masanyarray\u001B[49m\u001B[43m(\u001B[49m\u001B[43ma\u001B[49m\u001B[43m)\u001B[49m\u001B[38;5;241;43m.\u001B[39;49m\u001B[43mcopy\u001B[49m\u001B[43m(\u001B[49m\u001B[43morder\u001B[49m\u001B[38;5;241;43m=\u001B[39;49m\u001B[38;5;124;43m\"\u001B[39;49m\u001B[38;5;124;43mK\u001B[39;49m\u001B[38;5;124;43m\"\u001B[39;49m\u001B[43m)\u001B[49m\n\u001B[0;32m   1030\u001B[0m a\u001B[38;5;241m.\u001B[39msort(axis\u001B[38;5;241m=\u001B[39maxis, kind\u001B[38;5;241m=\u001B[39mkind, order\u001B[38;5;241m=\u001B[39morder)\n\u001B[0;32m   1031\u001B[0m \u001B[38;5;28;01mreturn\u001B[39;00m a\n",
      "\u001B[1;31mKeyboardInterrupt\u001B[0m: "
     ]
    }
   ],
   "source": [
    "def mode_mean_med(traffic_frame: pd.DataFrame):\n",
    "    \"\"\"Calculate the mode, mean, and median of a window\"\"\"\n",
    "\n",
    "    # Keep only the mac address name and package size\n",
    "    df = traffic_frame.loc[:, ['window_id' ,'eth_src', 'packet_size']]\n",
    "\n",
    "    # Group the dataframe by window_id and mac adress & Calculate the statistical measures\n",
    "    grouped = df.groupby(['window_id', 'eth_src']).agg({'packet_size': ['mean', 'median', lambda x: x.mode().iat[0]]})\n",
    "\n",
    "    # Reset index to make window_id a column again\n",
    "    grouped = grouped.reset_index()\n",
    "\n",
    "    # Save the results\n",
    "    grouped.to_csv('stats.cvs', index=False)\n",
    "\n",
    "    return grouped\n",
    "\n",
    "result = mode_mean_med(windowed_frame)\n"
   ]
  },
  {
   "cell_type": "code",
   "execution_count": 81,
   "metadata": {},
   "outputs": [
    {
     "name": "stdout",
     "output_type": "stream",
     "text": [
      "                                    packet_size                   \n",
      "                                           mean  median <lambda_0>\n",
      "device_name                                                       \n",
      "Amazon Echo                          118.734701    75.0         66\n",
      "Android Phone                        167.706915    66.0         66\n",
      "Belkin Wemo switch                   415.264227   118.0         66\n",
      "Belkin wemo motion sensor            113.394691    66.0         66\n",
      "Blipcare Blood Pressure meter        108.393701    59.0         54\n",
      "Dropcam                              206.533368   156.0        156\n",
      "HP Printer                           168.309073    60.0        140\n",
      "IPhone                               109.954947    66.0         54\n",
      "Insteon Camera                       104.441343    90.0        102\n",
      "Laptop                               111.325552    54.0         54\n",
      "Light Bulbs LiFX Smart Bulb           96.446889    92.0        123\n",
      "MacBook                              128.950355    66.0         66\n",
      "MacBook/Iphone                       224.933943    66.0         54\n",
      "NEST Protect smoke alarm             302.039608   350.0        509\n",
      "Nest Dropcam                        1253.644709  1514.0       1514\n",
      "Netatmo Welcome                      536.676278    66.0       1510\n",
      "Netatmo weather station              182.715046   113.0        350\n",
      "PIX-STAR Photo-frame                 114.231342    76.0         66\n",
      "Samsung Galaxy Tab                   116.706967    66.0         66\n",
      "Samsung SmartCam                     352.712231   421.0         66\n",
      "Smart Things                          71.422311    60.0         60\n",
      "TP-Link Day Night Cloud camera       532.030309   160.0       1514\n",
      "TP-Link Smart plug                   107.807471    66.0        172\n",
      "TPLink Router Bridge LAN (Gateway)   805.802405  1306.0       1434\n",
      "Triby Speaker                        104.430609    66.0         66\n",
      "Unknown                              132.706371   163.0        163\n",
      "Withings Aura smart sleep sensor     138.450648    66.0         66\n",
      "Withings Smart Baby Monitor           79.476996    66.0         66\n",
      "Withings Smart scale                 303.992542   333.0        333\n",
      "iHome                                 98.896038   108.0         54\n",
      "CPU times: total: 5.64 s\n",
      "Wall time: 6.32 s\n"
     ]
    }
   ],
   "source": [
    "%%time\n",
    "\n",
    "def mode_mean_med_without_window(df: pd.DataFrame, devices: pd.DataFrame):\n",
    "    \"\"\"Calculate the mode, mean, and median of a window\"\"\"\n",
    "\n",
    "    # Keep only the device name and mac address\n",
    "    device_names = devices.loc[:, ['device_name', 'eth_src']]\n",
    "\n",
    "    # Keep only the mac address name and package size\n",
    "    df_size = df.loc[:, ['eth_src', 'packet_size']]\n",
    "\n",
    "    # Merge the stats with the devices names\n",
    "    merge_df = device_names.merge(df_size, on='eth_src')\n",
    "\n",
    "    # Group the merged frame and calculate the stats\n",
    "    stats = merge_df.groupby(['device_name']).agg({'packet_size': ['mean', 'median', lambda x: x.mode().iat[0]]})\n",
    "\n",
    "    # Save the results\n",
    "    stats.to_csv('stats_no_window.cvs', index=False)\n",
    "\n",
    "    print(stats)\n",
    "\n",
    "    return stats\n",
    "\n",
    "devices = pd.read_csv(\"./data/list_of_devices.csv\")\n",
    "result_no_window = mode_mean_med_without_window(data, devices)\n"
   ]
  },
  {
   "cell_type": "code",
   "execution_count": 78,
   "metadata": {},
   "outputs": [],
   "source": [
    "# n_neighbors = 5\n",
    "#\n",
    "# for metric in mmm_frame.columns[2:5]:\n",
    "#     X = mmm_frame[metric].values\n",
    "#     y = mmm_frame.iloc[:, -1].values\n",
    "#     X = X.reshape(-1, 1)\n",
    "#\n",
    "#     X_train, X_test, y_train, y_test = model_selection.train_test_split(X, y, test_size=0.25)\n",
    "#\n",
    "#     for weights in [\"uniform\", \"distance\"]:\n",
    "#         # we create an instance of Neighbours Classifier and fit the data.\n",
    "#         clf = neighbors.KNeighborsClassifier(n_neighbors, weights=weights)\n",
    "#         clf.fit(X_train, y_train)\n",
    "#\n",
    "#         accuracy = metrics.accuracy_score(y_test, clf.predict(X_test))\n",
    "#         print(\"Accuracy of {} with {}: {}\".format(metric, weights, accuracy))"
   ]
  },
  {
   "cell_type": "code",
   "execution_count": 78,
   "metadata": {},
   "outputs": [],
   "source": []
  },
  {
   "cell_type": "code",
   "execution_count": 78,
   "metadata": {},
   "outputs": [],
   "source": []
  },
  {
   "cell_type": "code",
   "execution_count": 78,
   "metadata": {},
   "outputs": [],
   "source": []
  }
 ],
 "metadata": {
  "kernelspec": {
   "display_name": "Python 3 (ipykernel)",
   "language": "python",
   "name": "python3"
  },
  "language_info": {
   "codemirror_mode": {
    "name": "ipython",
    "version": 3
   },
   "file_extension": ".py",
   "mimetype": "text/x-python",
   "name": "python",
   "nbconvert_exporter": "python",
   "pygments_lexer": "ipython3",
   "version": "3.10.9"
  },
  "vscode": {
   "interpreter": {
    "hash": "916dbcbb3f70747c44a77c7bcd40155683ae19c65e1c03b4aa3499c5328201f1"
   }
  }
 },
 "nbformat": 4,
 "nbformat_minor": 2
}
