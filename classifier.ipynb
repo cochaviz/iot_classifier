{
 "cells": [
  {
   "cell_type": "code",
   "execution_count": 1,
   "metadata": {},
   "outputs": [],
   "source": [
    "import pandas as pd\n",
    "import glob\n",
    "import matplotlib.pyplot as plt\n",
    "import seaborn as sns\n",
    "import pandas as pd\n",
    "import numpy as np\n",
    "from matplotlib.colors import ListedColormap\n",
    "from sklearn import neighbors, model_selection, metrics\n",
    "from sklearn.inspection import DecisionBoundaryDisplay"
   ]
  },
  {
   "cell_type": "markdown",
   "metadata": {},
   "source": []
  },
  {
   "cell_type": "code",
   "execution_count": 12,
   "metadata": {},
   "outputs": [
    {
     "data": {
      "text/plain": "         packet_id            timestamp  packet_size            eth_src  \\\n0                0  1474552802257569024           70  18:b7:9e:02:20:44   \n1                1  1474552802257692160           66  18:b7:9e:02:20:44   \n2                2  1474552802323085056           66  14:cc:20:51:33:ea   \n3                3  1474552802383173888           60  d0:52:a8:00:67:5e   \n4                4  1474552802396326144           98  14:cc:20:51:33:ea   \n...            ...                  ...          ...                ...   \n4918278    4948801  1476242930915371008         1434  14:cc:20:51:33:ea   \n4918279    4948802  1476242930915453952         1434  14:cc:20:51:33:ea   \n4918280    4948803  1476242930915572992         1434  14:cc:20:51:33:ea   \n4918281    4948804  1476242930915685888         1434  14:cc:20:51:33:ea   \n4918282    4948805  1476242930915865856         1306  14:cc:20:51:33:ea   \n\n         device_name protocol    iot  \n0                NaN      Raw  False  \n1                NaN      TCP  False  \n2                NaN      TCP  False  \n3                NaN  Padding  False  \n4                NaN      Raw  False  \n...              ...      ...    ...  \n4918278          NaN      Raw  False  \n4918279          NaN      Raw  False  \n4918280          NaN      Raw  False  \n4918281          NaN      Raw  False  \n4918282          NaN      Raw  False  \n\n[14184086 rows x 7 columns]",
      "text/html": "<div>\n<style scoped>\n    .dataframe tbody tr th:only-of-type {\n        vertical-align: middle;\n    }\n\n    .dataframe tbody tr th {\n        vertical-align: top;\n    }\n\n    .dataframe thead th {\n        text-align: right;\n    }\n</style>\n<table border=\"1\" class=\"dataframe\">\n  <thead>\n    <tr style=\"text-align: right;\">\n      <th></th>\n      <th>packet_id</th>\n      <th>timestamp</th>\n      <th>packet_size</th>\n      <th>eth_src</th>\n      <th>device_name</th>\n      <th>protocol</th>\n      <th>iot</th>\n    </tr>\n  </thead>\n  <tbody>\n    <tr>\n      <th>0</th>\n      <td>0</td>\n      <td>1474552802257569024</td>\n      <td>70</td>\n      <td>18:b7:9e:02:20:44</td>\n      <td>NaN</td>\n      <td>Raw</td>\n      <td>False</td>\n    </tr>\n    <tr>\n      <th>1</th>\n      <td>1</td>\n      <td>1474552802257692160</td>\n      <td>66</td>\n      <td>18:b7:9e:02:20:44</td>\n      <td>NaN</td>\n      <td>TCP</td>\n      <td>False</td>\n    </tr>\n    <tr>\n      <th>2</th>\n      <td>2</td>\n      <td>1474552802323085056</td>\n      <td>66</td>\n      <td>14:cc:20:51:33:ea</td>\n      <td>NaN</td>\n      <td>TCP</td>\n      <td>False</td>\n    </tr>\n    <tr>\n      <th>3</th>\n      <td>3</td>\n      <td>1474552802383173888</td>\n      <td>60</td>\n      <td>d0:52:a8:00:67:5e</td>\n      <td>NaN</td>\n      <td>Padding</td>\n      <td>False</td>\n    </tr>\n    <tr>\n      <th>4</th>\n      <td>4</td>\n      <td>1474552802396326144</td>\n      <td>98</td>\n      <td>14:cc:20:51:33:ea</td>\n      <td>NaN</td>\n      <td>Raw</td>\n      <td>False</td>\n    </tr>\n    <tr>\n      <th>...</th>\n      <td>...</td>\n      <td>...</td>\n      <td>...</td>\n      <td>...</td>\n      <td>...</td>\n      <td>...</td>\n      <td>...</td>\n    </tr>\n    <tr>\n      <th>4918278</th>\n      <td>4948801</td>\n      <td>1476242930915371008</td>\n      <td>1434</td>\n      <td>14:cc:20:51:33:ea</td>\n      <td>NaN</td>\n      <td>Raw</td>\n      <td>False</td>\n    </tr>\n    <tr>\n      <th>4918279</th>\n      <td>4948802</td>\n      <td>1476242930915453952</td>\n      <td>1434</td>\n      <td>14:cc:20:51:33:ea</td>\n      <td>NaN</td>\n      <td>Raw</td>\n      <td>False</td>\n    </tr>\n    <tr>\n      <th>4918280</th>\n      <td>4948803</td>\n      <td>1476242930915572992</td>\n      <td>1434</td>\n      <td>14:cc:20:51:33:ea</td>\n      <td>NaN</td>\n      <td>Raw</td>\n      <td>False</td>\n    </tr>\n    <tr>\n      <th>4918281</th>\n      <td>4948804</td>\n      <td>1476242930915685888</td>\n      <td>1434</td>\n      <td>14:cc:20:51:33:ea</td>\n      <td>NaN</td>\n      <td>Raw</td>\n      <td>False</td>\n    </tr>\n    <tr>\n      <th>4918282</th>\n      <td>4948805</td>\n      <td>1476242930915865856</td>\n      <td>1306</td>\n      <td>14:cc:20:51:33:ea</td>\n      <td>NaN</td>\n      <td>Raw</td>\n      <td>False</td>\n    </tr>\n  </tbody>\n</table>\n<p>14184086 rows × 7 columns</p>\n</div>"
     },
     "execution_count": 12,
     "metadata": {},
     "output_type": "execute_result"
    }
   ],
   "source": [
    "# Path to folder containing the CSVs\n",
    "data_folder = \"data/traces/\"\n",
    "\n",
    "def read_date(dates: [str]):\n",
    "    \"\"\"Aggregate data of a single from parts\"\"\"\n",
    "    data = pd.DataFrame()\n",
    "\n",
    "    for date in dates:\n",
    "        for i in range(50):\n",
    "            try:\n",
    "                frame = pd.read_csv(data_folder + date + \"-{}.csv\".format(i))\n",
    "                data = pd.concat([data, frame], axis=0)\n",
    "            except OSError:\n",
    "                pass\n",
    "\n",
    "    return data\n",
    "\n",
    "\n",
    "def read_date_part(date_part: str):\n",
    "    \"\"\"Read data of a part of a capture date\"\"\"\n",
    "    data = pd.DataFrame()\n",
    "\n",
    "    try:\n",
    "        frame = pd.read_csv(data_folder + date_part + \".csv\")\n",
    "        data = pd.concat([data, frame], axis=0)\n",
    "    except OSError:\n",
    "        pass\n",
    "\n",
    "    return data\n",
    "\n",
    "data = read_date([\"16-09\",\"16-10\"])\n",
    "\n",
    "data.set_index(\"timestamp\")\n",
    "\n",
    "data"
   ]
  },
  {
   "cell_type": "code",
   "execution_count": 18,
   "outputs": [
    {
     "data": {
      "text/plain": "                         device_name            eth_src connection_type    iot\n0                       Smart Things  d0:52:a8:00:67:5e           Wired   True\n1                        Amazon Echo  44:65:0d:56:cc:d3        Wireless   True\n2                    Netatmo Welcome  70:ee:50:18:34:43        Wireless   True\n3     TP-Link Day Night Cloud camera  f4:f2:6d:93:51:f1        Wireless   True\n4                   Samsung SmartCam  00:16:6c:ab:6b:88        Wireless   True\n5                            Dropcam  30:8c:fb:2f:e4:b2        Wireless   True\n6                     Insteon Camera  00:62:6e:51:27:2e           Wired   True\n8        Withings Smart Baby Monitor  00:24:e4:11:18:a8           Wired   True\n9                 Belkin Wemo switch  ec:1a:59:79:f4:89        Wireless   True\n10                TP-Link Smart plug  50:c7:bf:00:56:39        Wireless   True\n11                             iHome  74:c6:3b:29:d7:1d        Wireless   True\n12         Belkin wemo motion sensor  ec:1a:59:83:28:11        Wireless   True\n13          NEST Protect smoke alarm  18:b4:30:25:be:e4        Wireless   True\n14           Netatmo weather station  70:ee:50:03:b8:ac        Wireless   True\n15              Withings Smart scale  00:24:e4:1b:6f:96        Wireless   True\n16     Blipcare Blood Pressure meter  74:6a:89:00:2e:25        Wireless   True\n17  Withings Aura smart sleep sensor  00:24:e4:20:28:c6        Wireless   True\n18       Light Bulbs LiFX Smart Bulb  d0:73:d5:01:83:08        Wireless   True\n19                     Triby Speaker  18:b7:9e:02:20:44        Wireless   True\n20              PIX-STAR Photo-frame  e0:76:d0:33:bb:85        Wireless   True\n21                        HP Printer  70:5a:0f:e4:9b:c0        Wireless  False",
      "text/html": "<div>\n<style scoped>\n    .dataframe tbody tr th:only-of-type {\n        vertical-align: middle;\n    }\n\n    .dataframe tbody tr th {\n        vertical-align: top;\n    }\n\n    .dataframe thead th {\n        text-align: right;\n    }\n</style>\n<table border=\"1\" class=\"dataframe\">\n  <thead>\n    <tr style=\"text-align: right;\">\n      <th></th>\n      <th>device_name</th>\n      <th>eth_src</th>\n      <th>connection_type</th>\n      <th>iot</th>\n    </tr>\n  </thead>\n  <tbody>\n    <tr>\n      <th>0</th>\n      <td>Smart Things</td>\n      <td>d0:52:a8:00:67:5e</td>\n      <td>Wired</td>\n      <td>True</td>\n    </tr>\n    <tr>\n      <th>1</th>\n      <td>Amazon Echo</td>\n      <td>44:65:0d:56:cc:d3</td>\n      <td>Wireless</td>\n      <td>True</td>\n    </tr>\n    <tr>\n      <th>2</th>\n      <td>Netatmo Welcome</td>\n      <td>70:ee:50:18:34:43</td>\n      <td>Wireless</td>\n      <td>True</td>\n    </tr>\n    <tr>\n      <th>3</th>\n      <td>TP-Link Day Night Cloud camera</td>\n      <td>f4:f2:6d:93:51:f1</td>\n      <td>Wireless</td>\n      <td>True</td>\n    </tr>\n    <tr>\n      <th>4</th>\n      <td>Samsung SmartCam</td>\n      <td>00:16:6c:ab:6b:88</td>\n      <td>Wireless</td>\n      <td>True</td>\n    </tr>\n    <tr>\n      <th>5</th>\n      <td>Dropcam</td>\n      <td>30:8c:fb:2f:e4:b2</td>\n      <td>Wireless</td>\n      <td>True</td>\n    </tr>\n    <tr>\n      <th>6</th>\n      <td>Insteon Camera</td>\n      <td>00:62:6e:51:27:2e</td>\n      <td>Wired</td>\n      <td>True</td>\n    </tr>\n    <tr>\n      <th>8</th>\n      <td>Withings Smart Baby Monitor</td>\n      <td>00:24:e4:11:18:a8</td>\n      <td>Wired</td>\n      <td>True</td>\n    </tr>\n    <tr>\n      <th>9</th>\n      <td>Belkin Wemo switch</td>\n      <td>ec:1a:59:79:f4:89</td>\n      <td>Wireless</td>\n      <td>True</td>\n    </tr>\n    <tr>\n      <th>10</th>\n      <td>TP-Link Smart plug</td>\n      <td>50:c7:bf:00:56:39</td>\n      <td>Wireless</td>\n      <td>True</td>\n    </tr>\n    <tr>\n      <th>11</th>\n      <td>iHome</td>\n      <td>74:c6:3b:29:d7:1d</td>\n      <td>Wireless</td>\n      <td>True</td>\n    </tr>\n    <tr>\n      <th>12</th>\n      <td>Belkin wemo motion sensor</td>\n      <td>ec:1a:59:83:28:11</td>\n      <td>Wireless</td>\n      <td>True</td>\n    </tr>\n    <tr>\n      <th>13</th>\n      <td>NEST Protect smoke alarm</td>\n      <td>18:b4:30:25:be:e4</td>\n      <td>Wireless</td>\n      <td>True</td>\n    </tr>\n    <tr>\n      <th>14</th>\n      <td>Netatmo weather station</td>\n      <td>70:ee:50:03:b8:ac</td>\n      <td>Wireless</td>\n      <td>True</td>\n    </tr>\n    <tr>\n      <th>15</th>\n      <td>Withings Smart scale</td>\n      <td>00:24:e4:1b:6f:96</td>\n      <td>Wireless</td>\n      <td>True</td>\n    </tr>\n    <tr>\n      <th>16</th>\n      <td>Blipcare Blood Pressure meter</td>\n      <td>74:6a:89:00:2e:25</td>\n      <td>Wireless</td>\n      <td>True</td>\n    </tr>\n    <tr>\n      <th>17</th>\n      <td>Withings Aura smart sleep sensor</td>\n      <td>00:24:e4:20:28:c6</td>\n      <td>Wireless</td>\n      <td>True</td>\n    </tr>\n    <tr>\n      <th>18</th>\n      <td>Light Bulbs LiFX Smart Bulb</td>\n      <td>d0:73:d5:01:83:08</td>\n      <td>Wireless</td>\n      <td>True</td>\n    </tr>\n    <tr>\n      <th>19</th>\n      <td>Triby Speaker</td>\n      <td>18:b7:9e:02:20:44</td>\n      <td>Wireless</td>\n      <td>True</td>\n    </tr>\n    <tr>\n      <th>20</th>\n      <td>PIX-STAR Photo-frame</td>\n      <td>e0:76:d0:33:bb:85</td>\n      <td>Wireless</td>\n      <td>True</td>\n    </tr>\n    <tr>\n      <th>21</th>\n      <td>HP Printer</td>\n      <td>70:5a:0f:e4:9b:c0</td>\n      <td>Wireless</td>\n      <td>False</td>\n    </tr>\n  </tbody>\n</table>\n</div>"
     },
     "execution_count": 18,
     "metadata": {},
     "output_type": "execute_result"
    }
   ],
   "source": [
    "def devices(df : pd.DataFrame, all : bool) -> pd.DataFrame:\n",
    "    if not all :\n",
    "        return df[df['incl']].drop('incl', axis=1)\n",
    "    else :\n",
    "        return df.drop('incl', axis=1)\n",
    "\n",
    "devices = devices(pd.read_csv(\"./data/list_of_devices.csv\"), False)\n",
    "\n",
    "devices"
   ],
   "metadata": {
    "collapsed": false
   }
  },
  {
   "cell_type": "code",
   "execution_count": 19,
   "outputs": [
    {
     "data": {
      "text/plain": "                                 packet_size                  \n                                        mean median <lambda_0>\ndevice_name                                                   \nAmazon Echo                       111.107594   66.0         66\nBelkin Wemo switch                401.417551  118.0         66\nBelkin wemo motion sensor         120.807015   66.0         66\nBlipcare Blood Pressure meter     108.031250   59.0         54\nDropcam                           185.323517  156.0        156\nHP Printer                        119.924045   86.0        140\nInsteon Camera                    114.641222   73.0         60\nLight Bulbs LiFX Smart Bulb        96.533507   92.0        123\nNEST Protect smoke alarm          303.680796  350.0        509\nNetatmo Welcome                   561.266181   74.0       1510\nNetatmo weather station           189.052586  113.0        350\nPIX-STAR Photo-frame              111.620901   76.0         66\nSamsung SmartCam                  364.257587  458.0         66\nSmart Things                       71.455096   60.0         60\nTP-Link Day Night Cloud camera    627.576450  343.0       1514\nTP-Link Smart plug                107.201874   66.0        172\nTriby Speaker                     106.036372   66.0         66\nWithings Aura smart sleep sensor  142.360192   66.0         66\nWithings Smart Baby Monitor        79.083713   66.0         66\nWithings Smart scale              304.583823  333.0        333\niHome                              96.710584  108.0         54",
      "text/html": "<div>\n<style scoped>\n    .dataframe tbody tr th:only-of-type {\n        vertical-align: middle;\n    }\n\n    .dataframe tbody tr th {\n        vertical-align: top;\n    }\n\n    .dataframe thead tr th {\n        text-align: left;\n    }\n\n    .dataframe thead tr:last-of-type th {\n        text-align: right;\n    }\n</style>\n<table border=\"1\" class=\"dataframe\">\n  <thead>\n    <tr>\n      <th></th>\n      <th colspan=\"3\" halign=\"left\">packet_size</th>\n    </tr>\n    <tr>\n      <th></th>\n      <th>mean</th>\n      <th>median</th>\n      <th>&lt;lambda_0&gt;</th>\n    </tr>\n    <tr>\n      <th>device_name</th>\n      <th></th>\n      <th></th>\n      <th></th>\n    </tr>\n  </thead>\n  <tbody>\n    <tr>\n      <th>Amazon Echo</th>\n      <td>111.107594</td>\n      <td>66.0</td>\n      <td>66</td>\n    </tr>\n    <tr>\n      <th>Belkin Wemo switch</th>\n      <td>401.417551</td>\n      <td>118.0</td>\n      <td>66</td>\n    </tr>\n    <tr>\n      <th>Belkin wemo motion sensor</th>\n      <td>120.807015</td>\n      <td>66.0</td>\n      <td>66</td>\n    </tr>\n    <tr>\n      <th>Blipcare Blood Pressure meter</th>\n      <td>108.031250</td>\n      <td>59.0</td>\n      <td>54</td>\n    </tr>\n    <tr>\n      <th>Dropcam</th>\n      <td>185.323517</td>\n      <td>156.0</td>\n      <td>156</td>\n    </tr>\n    <tr>\n      <th>HP Printer</th>\n      <td>119.924045</td>\n      <td>86.0</td>\n      <td>140</td>\n    </tr>\n    <tr>\n      <th>Insteon Camera</th>\n      <td>114.641222</td>\n      <td>73.0</td>\n      <td>60</td>\n    </tr>\n    <tr>\n      <th>Light Bulbs LiFX Smart Bulb</th>\n      <td>96.533507</td>\n      <td>92.0</td>\n      <td>123</td>\n    </tr>\n    <tr>\n      <th>NEST Protect smoke alarm</th>\n      <td>303.680796</td>\n      <td>350.0</td>\n      <td>509</td>\n    </tr>\n    <tr>\n      <th>Netatmo Welcome</th>\n      <td>561.266181</td>\n      <td>74.0</td>\n      <td>1510</td>\n    </tr>\n    <tr>\n      <th>Netatmo weather station</th>\n      <td>189.052586</td>\n      <td>113.0</td>\n      <td>350</td>\n    </tr>\n    <tr>\n      <th>PIX-STAR Photo-frame</th>\n      <td>111.620901</td>\n      <td>76.0</td>\n      <td>66</td>\n    </tr>\n    <tr>\n      <th>Samsung SmartCam</th>\n      <td>364.257587</td>\n      <td>458.0</td>\n      <td>66</td>\n    </tr>\n    <tr>\n      <th>Smart Things</th>\n      <td>71.455096</td>\n      <td>60.0</td>\n      <td>60</td>\n    </tr>\n    <tr>\n      <th>TP-Link Day Night Cloud camera</th>\n      <td>627.576450</td>\n      <td>343.0</td>\n      <td>1514</td>\n    </tr>\n    <tr>\n      <th>TP-Link Smart plug</th>\n      <td>107.201874</td>\n      <td>66.0</td>\n      <td>172</td>\n    </tr>\n    <tr>\n      <th>Triby Speaker</th>\n      <td>106.036372</td>\n      <td>66.0</td>\n      <td>66</td>\n    </tr>\n    <tr>\n      <th>Withings Aura smart sleep sensor</th>\n      <td>142.360192</td>\n      <td>66.0</td>\n      <td>66</td>\n    </tr>\n    <tr>\n      <th>Withings Smart Baby Monitor</th>\n      <td>79.083713</td>\n      <td>66.0</td>\n      <td>66</td>\n    </tr>\n    <tr>\n      <th>Withings Smart scale</th>\n      <td>304.583823</td>\n      <td>333.0</td>\n      <td>333</td>\n    </tr>\n    <tr>\n      <th>iHome</th>\n      <td>96.710584</td>\n      <td>108.0</td>\n      <td>54</td>\n    </tr>\n  </tbody>\n</table>\n</div>"
     },
     "execution_count": 19,
     "metadata": {},
     "output_type": "execute_result"
    }
   ],
   "source": [
    "def mode_mean_med(df: pd.DataFrame, devices: pd.DataFrame):\n",
    "    \"\"\"Calculate the mode, mean, and median of a window\"\"\"\n",
    "\n",
    "    # Keep only the device name and mac address\n",
    "    device_names = devices.loc[:, ['device_name', 'eth_src']]\n",
    "\n",
    "    # Keep only the mac address name and package size\n",
    "    df_size = df.loc[:, ['eth_src', 'packet_size']]\n",
    "\n",
    "    # Merge the stats with the devices names\n",
    "    merge_df = device_names.merge(df_size, on='eth_src')\n",
    "\n",
    "    # Group the merged frame and calculate the stats\n",
    "    stats = merge_df.groupby(['device_name']).agg({'packet_size': ['mean', 'median', lambda x: x.mode().iat[0]]})\n",
    "\n",
    "    return stats\n",
    "\n",
    "statistics = mode_mean_med(data, devices)\n",
    "\n",
    "statistics"
   ],
   "metadata": {
    "collapsed": false
   }
  },
  {
   "cell_type": "code",
   "execution_count": 23,
   "metadata": {},
   "outputs": [
    {
     "data": {
      "text/plain": "           packet_id            timestamp  packet_size            eth_src  \\\nwindow_id                                                                   \n0                  0  1474552802257569024           70  18:b7:9e:02:20:44   \n0                  1  1474552802257692160           66  18:b7:9e:02:20:44   \n0                  2  1474552802323085056           66  14:cc:20:51:33:ea   \n0                  3  1474552802383173888           60  d0:52:a8:00:67:5e   \n0                  4  1474552802396326144           98  14:cc:20:51:33:ea   \n...              ...                  ...          ...                ...   \n1690128      4948801  1476242930915371008         1434  14:cc:20:51:33:ea   \n1690128      4948802  1476242930915453952         1434  14:cc:20:51:33:ea   \n1690128      4948803  1476242930915572992         1434  14:cc:20:51:33:ea   \n1690128      4948804  1476242930915685888         1434  14:cc:20:51:33:ea   \n1690128      4948805  1476242930915865856         1306  14:cc:20:51:33:ea   \n\n           device_name protocol    iot  \nwindow_id                               \n0                  NaN      Raw  False  \n0                  NaN      TCP  False  \n0                  NaN      TCP  False  \n0                  NaN  Padding  False  \n0                  NaN      Raw  False  \n...                ...      ...    ...  \n1690128            NaN      Raw  False  \n1690128            NaN      Raw  False  \n1690128            NaN      Raw  False  \n1690128            NaN      Raw  False  \n1690128            NaN      Raw  False  \n\n[14184086 rows x 7 columns]",
      "text/html": "<div>\n<style scoped>\n    .dataframe tbody tr th:only-of-type {\n        vertical-align: middle;\n    }\n\n    .dataframe tbody tr th {\n        vertical-align: top;\n    }\n\n    .dataframe thead th {\n        text-align: right;\n    }\n</style>\n<table border=\"1\" class=\"dataframe\">\n  <thead>\n    <tr style=\"text-align: right;\">\n      <th></th>\n      <th>packet_id</th>\n      <th>timestamp</th>\n      <th>packet_size</th>\n      <th>eth_src</th>\n      <th>device_name</th>\n      <th>protocol</th>\n      <th>iot</th>\n    </tr>\n    <tr>\n      <th>window_id</th>\n      <th></th>\n      <th></th>\n      <th></th>\n      <th></th>\n      <th></th>\n      <th></th>\n      <th></th>\n    </tr>\n  </thead>\n  <tbody>\n    <tr>\n      <th>0</th>\n      <td>0</td>\n      <td>1474552802257569024</td>\n      <td>70</td>\n      <td>18:b7:9e:02:20:44</td>\n      <td>NaN</td>\n      <td>Raw</td>\n      <td>False</td>\n    </tr>\n    <tr>\n      <th>0</th>\n      <td>1</td>\n      <td>1474552802257692160</td>\n      <td>66</td>\n      <td>18:b7:9e:02:20:44</td>\n      <td>NaN</td>\n      <td>TCP</td>\n      <td>False</td>\n    </tr>\n    <tr>\n      <th>0</th>\n      <td>2</td>\n      <td>1474552802323085056</td>\n      <td>66</td>\n      <td>14:cc:20:51:33:ea</td>\n      <td>NaN</td>\n      <td>TCP</td>\n      <td>False</td>\n    </tr>\n    <tr>\n      <th>0</th>\n      <td>3</td>\n      <td>1474552802383173888</td>\n      <td>60</td>\n      <td>d0:52:a8:00:67:5e</td>\n      <td>NaN</td>\n      <td>Padding</td>\n      <td>False</td>\n    </tr>\n    <tr>\n      <th>0</th>\n      <td>4</td>\n      <td>1474552802396326144</td>\n      <td>98</td>\n      <td>14:cc:20:51:33:ea</td>\n      <td>NaN</td>\n      <td>Raw</td>\n      <td>False</td>\n    </tr>\n    <tr>\n      <th>...</th>\n      <td>...</td>\n      <td>...</td>\n      <td>...</td>\n      <td>...</td>\n      <td>...</td>\n      <td>...</td>\n      <td>...</td>\n    </tr>\n    <tr>\n      <th>1690128</th>\n      <td>4948801</td>\n      <td>1476242930915371008</td>\n      <td>1434</td>\n      <td>14:cc:20:51:33:ea</td>\n      <td>NaN</td>\n      <td>Raw</td>\n      <td>False</td>\n    </tr>\n    <tr>\n      <th>1690128</th>\n      <td>4948802</td>\n      <td>1476242930915453952</td>\n      <td>1434</td>\n      <td>14:cc:20:51:33:ea</td>\n      <td>NaN</td>\n      <td>Raw</td>\n      <td>False</td>\n    </tr>\n    <tr>\n      <th>1690128</th>\n      <td>4948803</td>\n      <td>1476242930915572992</td>\n      <td>1434</td>\n      <td>14:cc:20:51:33:ea</td>\n      <td>NaN</td>\n      <td>Raw</td>\n      <td>False</td>\n    </tr>\n    <tr>\n      <th>1690128</th>\n      <td>4948804</td>\n      <td>1476242930915685888</td>\n      <td>1434</td>\n      <td>14:cc:20:51:33:ea</td>\n      <td>NaN</td>\n      <td>Raw</td>\n      <td>False</td>\n    </tr>\n    <tr>\n      <th>1690128</th>\n      <td>4948805</td>\n      <td>1476242930915865856</td>\n      <td>1306</td>\n      <td>14:cc:20:51:33:ea</td>\n      <td>NaN</td>\n      <td>Raw</td>\n      <td>False</td>\n    </tr>\n  </tbody>\n</table>\n<p>14184086 rows × 7 columns</p>\n</div>"
     },
     "execution_count": 23,
     "metadata": {},
     "output_type": "execute_result"
    }
   ],
   "source": [
    "def attach_window_id(timestamped_frame: pd.DataFrame) -> list[pd.DataFrame]:\n",
    "    \"\"\"Slice the dataframe into 1-second intervals\"\"\"\n",
    "    first_packet_time = timestamped_frame.iloc[0]['timestamp']\n",
    "    last_packet_time = timestamped_frame.iloc[-1]['timestamp']\n",
    "    windowed_frame = timestamped_frame.set_index('timestamp', drop=False)\n",
    "\n",
    "    ns_in_sec = int(1e9)\n",
    "    number_of_windows = int((last_packet_time - first_packet_time) / ns_in_sec) + 1\n",
    "\n",
    "    try:\n",
    "        windowed_frame.insert(0, value=0, column=\"window_id\")\n",
    "    except Exception as e:\n",
    "        print(\"It seems like the column 'window_id' already exists. Just updating values...\")\n",
    "        print(e)\n",
    "    finally:\n",
    "        windowed_frame.window_id.astype(np.int64)\n",
    "\n",
    "    for window_id in range(0, number_of_windows):\n",
    "        from_time = first_packet_time + window_id * ns_in_sec\n",
    "        to_time = first_packet_time + (window_id  + 1) * ns_in_sec\n",
    "        windowed_frame.loc[from_time:to_time, 'window_id'] = window_id\n",
    "\n",
    "    windowed_frame.set_index('window_id', inplace=True)\n",
    "    return windowed_frame\n",
    "\n",
    "\n",
    "def attach_window_id_fast(timestamped_frame: pd.DataFrame) -> pd.DataFrame:\n",
    "    first_packet_time = timestamped_frame.iloc[0]['timestamp']\n",
    "    last_packet_time = timestamped_frame.iloc[-1]['timestamp']\n",
    "\n",
    "    ns_in_sec = int(1e9)\n",
    "    windows = range(first_packet_time - 1, last_packet_time + ns_in_sec, ns_in_sec)\n",
    "\n",
    "    windowed_frame = pd.cut(timestamped_frame['timestamp'], windows, labels=range(len(windows) - 1)).to_frame()\n",
    "    windowed_frame.columns = [\"window_id\"]\n",
    "    return pd.concat([timestamped_frame, windowed_frame], axis=1).set_index('window_id')\n",
    "\n",
    "windowed_frame = attach_window_id_fast(data)\n",
    "\n",
    "windowed_frame"
   ]
  },
  {
   "cell_type": "code",
   "execution_count": 24,
   "metadata": {},
   "outputs": [
    {
     "data": {
      "text/plain": "                  mean         std  n_bytes  \\\nwindow_id                                     \n0            60.000000    0.000000       60   \n1            99.500000   55.861436      199   \n11           60.000000    0.000000       60   \n16           60.000000    0.000000       60   \n21           60.000000    0.000000       60   \n...                ...         ...      ...   \n1690124    1379.388771  239.297328  1302143   \n1690125    1384.212121  226.137487  1370370   \n1690126    1386.777328  219.127197  1370136   \n1690127    1350.658847  301.655916  1381724   \n1690128    1352.484589  299.241557   789851   \n\n                                  device_name    iot  \nwindow_id                                             \n0                                Smart Things   True  \n1                                Smart Things   True  \n11                               Smart Things   True  \n16                               Smart Things   True  \n21                               Smart Things   True  \n...                                       ...    ...  \n1690124    TPLink Router Bridge LAN (Gateway)  False  \n1690125    TPLink Router Bridge LAN (Gateway)  False  \n1690126    TPLink Router Bridge LAN (Gateway)  False  \n1690127    TPLink Router Bridge LAN (Gateway)  False  \n1690128    TPLink Router Bridge LAN (Gateway)  False  \n\n[2871882 rows x 5 columns]",
      "text/html": "<div>\n<style scoped>\n    .dataframe tbody tr th:only-of-type {\n        vertical-align: middle;\n    }\n\n    .dataframe tbody tr th {\n        vertical-align: top;\n    }\n\n    .dataframe thead th {\n        text-align: right;\n    }\n</style>\n<table border=\"1\" class=\"dataframe\">\n  <thead>\n    <tr style=\"text-align: right;\">\n      <th></th>\n      <th>mean</th>\n      <th>std</th>\n      <th>n_bytes</th>\n      <th>device_name</th>\n      <th>iot</th>\n    </tr>\n    <tr>\n      <th>window_id</th>\n      <th></th>\n      <th></th>\n      <th></th>\n      <th></th>\n      <th></th>\n    </tr>\n  </thead>\n  <tbody>\n    <tr>\n      <th>0</th>\n      <td>60.000000</td>\n      <td>0.000000</td>\n      <td>60</td>\n      <td>Smart Things</td>\n      <td>True</td>\n    </tr>\n    <tr>\n      <th>1</th>\n      <td>99.500000</td>\n      <td>55.861436</td>\n      <td>199</td>\n      <td>Smart Things</td>\n      <td>True</td>\n    </tr>\n    <tr>\n      <th>11</th>\n      <td>60.000000</td>\n      <td>0.000000</td>\n      <td>60</td>\n      <td>Smart Things</td>\n      <td>True</td>\n    </tr>\n    <tr>\n      <th>16</th>\n      <td>60.000000</td>\n      <td>0.000000</td>\n      <td>60</td>\n      <td>Smart Things</td>\n      <td>True</td>\n    </tr>\n    <tr>\n      <th>21</th>\n      <td>60.000000</td>\n      <td>0.000000</td>\n      <td>60</td>\n      <td>Smart Things</td>\n      <td>True</td>\n    </tr>\n    <tr>\n      <th>...</th>\n      <td>...</td>\n      <td>...</td>\n      <td>...</td>\n      <td>...</td>\n      <td>...</td>\n    </tr>\n    <tr>\n      <th>1690124</th>\n      <td>1379.388771</td>\n      <td>239.297328</td>\n      <td>1302143</td>\n      <td>TPLink Router Bridge LAN (Gateway)</td>\n      <td>False</td>\n    </tr>\n    <tr>\n      <th>1690125</th>\n      <td>1384.212121</td>\n      <td>226.137487</td>\n      <td>1370370</td>\n      <td>TPLink Router Bridge LAN (Gateway)</td>\n      <td>False</td>\n    </tr>\n    <tr>\n      <th>1690126</th>\n      <td>1386.777328</td>\n      <td>219.127197</td>\n      <td>1370136</td>\n      <td>TPLink Router Bridge LAN (Gateway)</td>\n      <td>False</td>\n    </tr>\n    <tr>\n      <th>1690127</th>\n      <td>1350.658847</td>\n      <td>301.655916</td>\n      <td>1381724</td>\n      <td>TPLink Router Bridge LAN (Gateway)</td>\n      <td>False</td>\n    </tr>\n    <tr>\n      <th>1690128</th>\n      <td>1352.484589</td>\n      <td>299.241557</td>\n      <td>789851</td>\n      <td>TPLink Router Bridge LAN (Gateway)</td>\n      <td>False</td>\n    </tr>\n  </tbody>\n</table>\n<p>2871882 rows × 5 columns</p>\n</div>"
     },
     "execution_count": 24,
     "metadata": {},
     "output_type": "execute_result"
    }
   ],
   "source": [
    "def generate_features_labeled(windowed_frame: pd.DataFrame, device_frame: pd.DataFrame):\n",
    "    \"\"\"Calculate the mode, mean, and median of a window\"\"\"\n",
    "    features = pd.DataFrame()\n",
    "\n",
    "    for device_index in device_frame.index:\n",
    "        device = device_frame.iloc[device_index]\n",
    "        device_packets = windowed_frame.loc[windowed_frame['eth_src'] == device['eth_src']]\n",
    "        device_features = generate_features(device_packets)\n",
    "\n",
    "        device_features.insert(len(device_features.columns), \"device_name\", device['device_name'])\n",
    "        device_features.insert(len(device_features.columns), \"iot\", device['iot'])\n",
    "\n",
    "        features = pd.concat([features, device_features])\n",
    "\n",
    "    features.columns = [\"mean\", \"std\", \"n_bytes\", \"device_name\", \"iot\"]\n",
    "    return features\n",
    "\n",
    "def generate_features(windowed_frame: pd.DataFrame):\n",
    "    window_groups = windowed_frame.groupby(\"window_id\", observed=True)\n",
    "\n",
    "    mean = window_groups['packet_size'].mean()\n",
    "    std = window_groups['packet_size'].std()\n",
    "    n_bytes = window_groups['packet_size'].sum()\n",
    "\n",
    "    # TODO Not sure if fillna is a good idea\n",
    "    return pd.concat([mean, std, n_bytes], axis=1).fillna(0)\n",
    "\n",
    "def get_devices_in_window(windowed_frame: pd.DataFrame):\n",
    "    devices_in_window = pd.DataFrame()\n",
    "\n",
    "    for window_id in windowed_frame.index.unique():\n",
    "        devices = windowed_frame.loc[window_id]['device_name']\n",
    "        # iot = windowed_frame.loc[window_id]['iot']\n",
    "\n",
    "        if not isinstance(devices, str):\n",
    "            devices = devices.unique()\n",
    "\n",
    "        devices_in_window = pd.concat([devices_in_window, pd.DataFrame({\"window_id\": window_id, \"devices\": devices})])\n",
    "\n",
    "    return devices_in_window\n",
    "\n",
    "labeled_features = generate_features_labeled(windowed_frame, devices)\n",
    "\n",
    "labeled_features"
   ]
  },
  {
   "cell_type": "code",
   "execution_count": null,
   "metadata": {
    "pycharm": {
     "is_executing": true
    }
   },
   "outputs": [],
   "source": [
    "import sklearn.svm as svm\n",
    "import sklearn.neighbors as neighbors\n",
    "import sklearn.tree as tree\n",
    "import sklearn.ensemble as ensemble\n",
    "\n",
    "def train_and_test_classifiers(labeled_features, target_label, n_splits=10, shuffle=False, random_state=None):\n",
    "    \"\"\"\n",
    "    Trains and tests a series of models on the given, labeled data\n",
    "    (Knn, RF, DT, SVM, Majority Voting)\n",
    "    \"\"\"\n",
    "\n",
    "    X = labeled_features.iloc[:, 1:3]\n",
    "    y = labeled_features.iloc[:][target_label]\n",
    "    kf = model_selection.StratifiedKFold(n_splits=n_splits, shuffle=shuffle, random_state=random_state)\n",
    "\n",
    "    models = {\n",
    "        \"Knn\" : neighbors.KNeighborsClassifier(n_neighbors=5, weights=\"distance\"),\n",
    "        \"SVM\" : svm.SVC(),\n",
    "        \"DT\"  : tree.DecisionTreeClassifier(),\n",
    "        \"RF\"  : ensemble.RandomForestClassifier(n_estimators=10, max_depth=None, min_samples_split=2, random_state=0)\n",
    "    }\n",
    "    models[\"Majority Voting\"] = ensemble.VotingClassifier([ pair for pair in models.items() ], voting='hard')\n",
    "\n",
    "    print(\"Training and testing models on {}\".format(target_label))\n",
    "    for (name, model) in models.items():\n",
    "        accuracy = 0.0\n",
    "\n",
    "        for (train_index, test_index) in kf.split(X, y):\n",
    "            model.fit(X.iloc[train_index], y.iloc[train_index])\n",
    "\n",
    "            accuracy += metrics.accuracy_score(y.iloc[test_index], model.predict(X.iloc[test_index]))\n",
    "\n",
    "        print(\"{} mean accuracy over {} splits: {}\".format(name, n_splits, accuracy/n_splits))\n",
    "\n",
    "    return models\n",
    "\n",
    "iot_classifiers = train_and_test_classifiers(labeled_features, 'iot')\n",
    "device_classifiers = train_and_test_classifiers(labeled_features.loc[labeled_features['iot'] == True], 'device_name')"
   ]
  },
  {
   "cell_type": "code",
   "execution_count": null,
   "metadata": {},
   "outputs": [],
   "source": [
    "def test_realistic(iot_classifier, device_classifier, unlabeled_features, devices_in_window):\n",
    "    assert len(unlabeled_features) == len(devices_in_window)\n",
    "\n",
    "    # accuracy = metrics.accuracy_score(devices_in_window, iot_classifier.predict(unlabeled_features))\n",
    "    accuracy = metrics.accuracy_score(devices_in_window, device_classifier.predict(unlabeled_features))\n",
    "    print(\"Accuracy:\", accuracy)\n",
    "\n",
    "\n",
    "unlabeled_features = generate_features(windowed_frame)\n",
    "devices_in_window = get_devices_in_window(windowed_frame)\n",
    "\n",
    "test_realistic(iot_classifiers, device_classifiers, unlabeled_features, devices_in_window)"
   ]
  },
  {
   "cell_type": "code",
   "execution_count": 82,
   "metadata": {},
   "outputs": [
    {
     "ename": "KeyboardInterrupt",
     "evalue": "",
     "output_type": "error",
     "traceback": [
      "\u001B[1;31m---------------------------------------------------------------------------\u001B[0m",
      "\u001B[1;31mKeyboardInterrupt\u001B[0m                         Traceback (most recent call last)",
      "File \u001B[1;32m<timed exec>:20\u001B[0m\n",
      "File \u001B[1;32m<timed exec>:8\u001B[0m, in \u001B[0;36mmode_mean_med\u001B[1;34m(traffic_frame)\u001B[0m\n",
      "File \u001B[1;32m~\\Desktop\\HackingLab\\iot_classifier\\venv\\lib\\site-packages\\pandas\\core\\groupby\\generic.py:895\u001B[0m, in \u001B[0;36mDataFrameGroupBy.aggregate\u001B[1;34m(self, func, engine, engine_kwargs, *args, **kwargs)\u001B[0m\n\u001B[0;32m    892\u001B[0m func \u001B[38;5;241m=\u001B[39m maybe_mangle_lambdas(func)\n\u001B[0;32m    894\u001B[0m op \u001B[38;5;241m=\u001B[39m GroupByApply(\u001B[38;5;28mself\u001B[39m, func, args, kwargs)\n\u001B[1;32m--> 895\u001B[0m result \u001B[38;5;241m=\u001B[39m \u001B[43mop\u001B[49m\u001B[38;5;241;43m.\u001B[39;49m\u001B[43magg\u001B[49m\u001B[43m(\u001B[49m\u001B[43m)\u001B[49m\n\u001B[0;32m    896\u001B[0m \u001B[38;5;28;01mif\u001B[39;00m \u001B[38;5;129;01mnot\u001B[39;00m is_dict_like(func) \u001B[38;5;129;01mand\u001B[39;00m result \u001B[38;5;129;01mis\u001B[39;00m \u001B[38;5;129;01mnot\u001B[39;00m \u001B[38;5;28;01mNone\u001B[39;00m:\n\u001B[0;32m    897\u001B[0m     \u001B[38;5;28;01mreturn\u001B[39;00m result\n",
      "File \u001B[1;32m~\\Desktop\\HackingLab\\iot_classifier\\venv\\lib\\site-packages\\pandas\\core\\apply.py:172\u001B[0m, in \u001B[0;36mApply.agg\u001B[1;34m(self)\u001B[0m\n\u001B[0;32m    169\u001B[0m     \u001B[38;5;28;01mreturn\u001B[39;00m \u001B[38;5;28mself\u001B[39m\u001B[38;5;241m.\u001B[39mapply_str()\n\u001B[0;32m    171\u001B[0m \u001B[38;5;28;01mif\u001B[39;00m is_dict_like(arg):\n\u001B[1;32m--> 172\u001B[0m     \u001B[38;5;28;01mreturn\u001B[39;00m \u001B[38;5;28;43mself\u001B[39;49m\u001B[38;5;241;43m.\u001B[39;49m\u001B[43magg_dict_like\u001B[49m\u001B[43m(\u001B[49m\u001B[43m)\u001B[49m\n\u001B[0;32m    173\u001B[0m \u001B[38;5;28;01melif\u001B[39;00m is_list_like(arg):\n\u001B[0;32m    174\u001B[0m     \u001B[38;5;66;03m# we require a list, but not a 'str'\u001B[39;00m\n\u001B[0;32m    175\u001B[0m     \u001B[38;5;28;01mreturn\u001B[39;00m \u001B[38;5;28mself\u001B[39m\u001B[38;5;241m.\u001B[39magg_list_like()\n",
      "File \u001B[1;32m~\\Desktop\\HackingLab\\iot_classifier\\venv\\lib\\site-packages\\pandas\\core\\apply.py:504\u001B[0m, in \u001B[0;36mApply.agg_dict_like\u001B[1;34m(self)\u001B[0m\n\u001B[0;32m    501\u001B[0m     results \u001B[38;5;241m=\u001B[39m {key: colg\u001B[38;5;241m.\u001B[39magg(how) \u001B[38;5;28;01mfor\u001B[39;00m key, how \u001B[38;5;129;01min\u001B[39;00m arg\u001B[38;5;241m.\u001B[39mitems()}\n\u001B[0;32m    502\u001B[0m \u001B[38;5;28;01melse\u001B[39;00m:\n\u001B[0;32m    503\u001B[0m     \u001B[38;5;66;03m# key used for column selection and output\u001B[39;00m\n\u001B[1;32m--> 504\u001B[0m     results \u001B[38;5;241m=\u001B[39m {\n\u001B[0;32m    505\u001B[0m         key: obj\u001B[38;5;241m.\u001B[39m_gotitem(key, ndim\u001B[38;5;241m=\u001B[39m\u001B[38;5;241m1\u001B[39m)\u001B[38;5;241m.\u001B[39magg(how) \u001B[38;5;28;01mfor\u001B[39;00m key, how \u001B[38;5;129;01min\u001B[39;00m arg\u001B[38;5;241m.\u001B[39mitems()\n\u001B[0;32m    506\u001B[0m     }\n\u001B[0;32m    508\u001B[0m \u001B[38;5;66;03m# set the final keys\u001B[39;00m\n\u001B[0;32m    509\u001B[0m keys \u001B[38;5;241m=\u001B[39m \u001B[38;5;28mlist\u001B[39m(arg\u001B[38;5;241m.\u001B[39mkeys())\n",
      "File \u001B[1;32m~\\Desktop\\HackingLab\\iot_classifier\\venv\\lib\\site-packages\\pandas\\core\\apply.py:505\u001B[0m, in \u001B[0;36m<dictcomp>\u001B[1;34m(.0)\u001B[0m\n\u001B[0;32m    501\u001B[0m     results \u001B[38;5;241m=\u001B[39m {key: colg\u001B[38;5;241m.\u001B[39magg(how) \u001B[38;5;28;01mfor\u001B[39;00m key, how \u001B[38;5;129;01min\u001B[39;00m arg\u001B[38;5;241m.\u001B[39mitems()}\n\u001B[0;32m    502\u001B[0m \u001B[38;5;28;01melse\u001B[39;00m:\n\u001B[0;32m    503\u001B[0m     \u001B[38;5;66;03m# key used for column selection and output\u001B[39;00m\n\u001B[0;32m    504\u001B[0m     results \u001B[38;5;241m=\u001B[39m {\n\u001B[1;32m--> 505\u001B[0m         key: \u001B[43mobj\u001B[49m\u001B[38;5;241;43m.\u001B[39;49m\u001B[43m_gotitem\u001B[49m\u001B[43m(\u001B[49m\u001B[43mkey\u001B[49m\u001B[43m,\u001B[49m\u001B[43m \u001B[49m\u001B[43mndim\u001B[49m\u001B[38;5;241;43m=\u001B[39;49m\u001B[38;5;241;43m1\u001B[39;49m\u001B[43m)\u001B[49m\u001B[38;5;241;43m.\u001B[39;49m\u001B[43magg\u001B[49m\u001B[43m(\u001B[49m\u001B[43mhow\u001B[49m\u001B[43m)\u001B[49m \u001B[38;5;28;01mfor\u001B[39;00m key, how \u001B[38;5;129;01min\u001B[39;00m arg\u001B[38;5;241m.\u001B[39mitems()\n\u001B[0;32m    506\u001B[0m     }\n\u001B[0;32m    508\u001B[0m \u001B[38;5;66;03m# set the final keys\u001B[39;00m\n\u001B[0;32m    509\u001B[0m keys \u001B[38;5;241m=\u001B[39m \u001B[38;5;28mlist\u001B[39m(arg\u001B[38;5;241m.\u001B[39mkeys())\n",
      "File \u001B[1;32m~\\Desktop\\HackingLab\\iot_classifier\\venv\\lib\\site-packages\\pandas\\core\\groupby\\generic.py:281\u001B[0m, in \u001B[0;36mSeriesGroupBy.aggregate\u001B[1;34m(self, func, engine, engine_kwargs, *args, **kwargs)\u001B[0m\n\u001B[0;32m    277\u001B[0m \u001B[38;5;28;01melif\u001B[39;00m \u001B[38;5;28misinstance\u001B[39m(func, abc\u001B[38;5;241m.\u001B[39mIterable):\n\u001B[0;32m    278\u001B[0m     \u001B[38;5;66;03m# Catch instances of lists / tuples\u001B[39;00m\n\u001B[0;32m    279\u001B[0m     \u001B[38;5;66;03m# but not the class list / tuple itself.\u001B[39;00m\n\u001B[0;32m    280\u001B[0m     func \u001B[38;5;241m=\u001B[39m maybe_mangle_lambdas(func)\n\u001B[1;32m--> 281\u001B[0m     ret \u001B[38;5;241m=\u001B[39m \u001B[38;5;28;43mself\u001B[39;49m\u001B[38;5;241;43m.\u001B[39;49m\u001B[43m_aggregate_multiple_funcs\u001B[49m\u001B[43m(\u001B[49m\u001B[43mfunc\u001B[49m\u001B[43m)\u001B[49m\n\u001B[0;32m    282\u001B[0m     \u001B[38;5;28;01mif\u001B[39;00m relabeling:\n\u001B[0;32m    283\u001B[0m         \u001B[38;5;66;03m# columns is not narrowed by mypy from relabeling flag\u001B[39;00m\n\u001B[0;32m    284\u001B[0m         \u001B[38;5;28;01massert\u001B[39;00m columns \u001B[38;5;129;01mis\u001B[39;00m \u001B[38;5;129;01mnot\u001B[39;00m \u001B[38;5;28;01mNone\u001B[39;00m  \u001B[38;5;66;03m# for mypy\u001B[39;00m\n",
      "File \u001B[1;32m~\\Desktop\\HackingLab\\iot_classifier\\venv\\lib\\site-packages\\pandas\\core\\groupby\\generic.py:336\u001B[0m, in \u001B[0;36mSeriesGroupBy._aggregate_multiple_funcs\u001B[1;34m(self, arg)\u001B[0m\n\u001B[0;32m    333\u001B[0m \u001B[38;5;28;01mfor\u001B[39;00m idx, (name, func) \u001B[38;5;129;01min\u001B[39;00m \u001B[38;5;28menumerate\u001B[39m(arg):\n\u001B[0;32m    335\u001B[0m     key \u001B[38;5;241m=\u001B[39m base\u001B[38;5;241m.\u001B[39mOutputKey(label\u001B[38;5;241m=\u001B[39mname, position\u001B[38;5;241m=\u001B[39midx)\n\u001B[1;32m--> 336\u001B[0m     results[key] \u001B[38;5;241m=\u001B[39m \u001B[38;5;28;43mself\u001B[39;49m\u001B[38;5;241;43m.\u001B[39;49m\u001B[43maggregate\u001B[49m\u001B[43m(\u001B[49m\u001B[43mfunc\u001B[49m\u001B[43m)\u001B[49m\n\u001B[0;32m    338\u001B[0m \u001B[38;5;28;01mif\u001B[39;00m \u001B[38;5;28many\u001B[39m(\u001B[38;5;28misinstance\u001B[39m(x, DataFrame) \u001B[38;5;28;01mfor\u001B[39;00m x \u001B[38;5;129;01min\u001B[39;00m results\u001B[38;5;241m.\u001B[39mvalues()):\n\u001B[0;32m    339\u001B[0m     \u001B[38;5;28;01mfrom\u001B[39;00m \u001B[38;5;21;01mpandas\u001B[39;00m \u001B[38;5;28;01mimport\u001B[39;00m concat\n",
      "File \u001B[1;32m~\\Desktop\\HackingLab\\iot_classifier\\venv\\lib\\site-packages\\pandas\\core\\groupby\\generic.py:294\u001B[0m, in \u001B[0;36mSeriesGroupBy.aggregate\u001B[1;34m(self, func, engine, engine_kwargs, *args, **kwargs)\u001B[0m\n\u001B[0;32m    291\u001B[0m     \u001B[38;5;28;01mreturn\u001B[39;00m \u001B[38;5;28mgetattr\u001B[39m(\u001B[38;5;28mself\u001B[39m, cyfunc)()\n\u001B[0;32m    293\u001B[0m \u001B[38;5;28;01mif\u001B[39;00m \u001B[38;5;28mself\u001B[39m\u001B[38;5;241m.\u001B[39mgrouper\u001B[38;5;241m.\u001B[39mnkeys \u001B[38;5;241m>\u001B[39m \u001B[38;5;241m1\u001B[39m:\n\u001B[1;32m--> 294\u001B[0m     \u001B[38;5;28;01mreturn\u001B[39;00m \u001B[38;5;28mself\u001B[39m\u001B[38;5;241m.\u001B[39m_python_agg_general(func, \u001B[38;5;241m*\u001B[39margs, \u001B[38;5;241m*\u001B[39m\u001B[38;5;241m*\u001B[39mkwargs)\n\u001B[0;32m    296\u001B[0m \u001B[38;5;28;01mtry\u001B[39;00m:\n\u001B[0;32m    297\u001B[0m     \u001B[38;5;28;01mreturn\u001B[39;00m \u001B[38;5;28mself\u001B[39m\u001B[38;5;241m.\u001B[39m_python_agg_general(func, \u001B[38;5;241m*\u001B[39margs, \u001B[38;5;241m*\u001B[39m\u001B[38;5;241m*\u001B[39mkwargs)\n",
      "File \u001B[1;32m~\\Desktop\\HackingLab\\iot_classifier\\venv\\lib\\site-packages\\pandas\\core\\groupby\\groupby.py:1682\u001B[0m, in \u001B[0;36mGroupBy._python_agg_general\u001B[1;34m(self, func, raise_on_typeerror, *args, **kwargs)\u001B[0m\n\u001B[0;32m   1678\u001B[0m name \u001B[38;5;241m=\u001B[39m obj\u001B[38;5;241m.\u001B[39mname\n\u001B[0;32m   1680\u001B[0m \u001B[38;5;28;01mtry\u001B[39;00m:\n\u001B[0;32m   1681\u001B[0m     \u001B[38;5;66;03m# if this function is invalid for this dtype, we will ignore it.\u001B[39;00m\n\u001B[1;32m-> 1682\u001B[0m     result \u001B[38;5;241m=\u001B[39m \u001B[38;5;28;43mself\u001B[39;49m\u001B[38;5;241;43m.\u001B[39;49m\u001B[43mgrouper\u001B[49m\u001B[38;5;241;43m.\u001B[39;49m\u001B[43magg_series\u001B[49m\u001B[43m(\u001B[49m\u001B[43mobj\u001B[49m\u001B[43m,\u001B[49m\u001B[43m \u001B[49m\u001B[43mf\u001B[49m\u001B[43m)\u001B[49m\n\u001B[0;32m   1683\u001B[0m \u001B[38;5;28;01mexcept\u001B[39;00m \u001B[38;5;167;01mTypeError\u001B[39;00m:\n\u001B[0;32m   1684\u001B[0m     \u001B[38;5;28;01mif\u001B[39;00m raise_on_typeerror:\n",
      "File \u001B[1;32m~\\Desktop\\HackingLab\\iot_classifier\\venv\\lib\\site-packages\\pandas\\core\\groupby\\ops.py:1081\u001B[0m, in \u001B[0;36mBaseGrouper.agg_series\u001B[1;34m(self, obj, func, preserve_dtype)\u001B[0m\n\u001B[0;32m   1078\u001B[0m     preserve_dtype \u001B[38;5;241m=\u001B[39m \u001B[38;5;28;01mTrue\u001B[39;00m\n\u001B[0;32m   1080\u001B[0m \u001B[38;5;28;01melse\u001B[39;00m:\n\u001B[1;32m-> 1081\u001B[0m     result \u001B[38;5;241m=\u001B[39m \u001B[38;5;28;43mself\u001B[39;49m\u001B[38;5;241;43m.\u001B[39;49m\u001B[43m_aggregate_series_pure_python\u001B[49m\u001B[43m(\u001B[49m\u001B[43mobj\u001B[49m\u001B[43m,\u001B[49m\u001B[43m \u001B[49m\u001B[43mfunc\u001B[49m\u001B[43m)\u001B[49m\n\u001B[0;32m   1083\u001B[0m npvalues \u001B[38;5;241m=\u001B[39m lib\u001B[38;5;241m.\u001B[39mmaybe_convert_objects(result, try_float\u001B[38;5;241m=\u001B[39m\u001B[38;5;28;01mFalse\u001B[39;00m)\n\u001B[0;32m   1084\u001B[0m \u001B[38;5;28;01mif\u001B[39;00m preserve_dtype:\n",
      "File \u001B[1;32m~\\Desktop\\HackingLab\\iot_classifier\\venv\\lib\\site-packages\\pandas\\core\\groupby\\ops.py:1104\u001B[0m, in \u001B[0;36mBaseGrouper._aggregate_series_pure_python\u001B[1;34m(self, obj, func)\u001B[0m\n\u001B[0;32m   1101\u001B[0m splitter \u001B[38;5;241m=\u001B[39m get_splitter(obj, ids, ngroups, axis\u001B[38;5;241m=\u001B[39m\u001B[38;5;241m0\u001B[39m)\n\u001B[0;32m   1103\u001B[0m \u001B[38;5;28;01mfor\u001B[39;00m i, group \u001B[38;5;129;01min\u001B[39;00m \u001B[38;5;28menumerate\u001B[39m(splitter):\n\u001B[1;32m-> 1104\u001B[0m     res \u001B[38;5;241m=\u001B[39m \u001B[43mfunc\u001B[49m\u001B[43m(\u001B[49m\u001B[43mgroup\u001B[49m\u001B[43m)\u001B[49m\n\u001B[0;32m   1105\u001B[0m     res \u001B[38;5;241m=\u001B[39m libreduction\u001B[38;5;241m.\u001B[39mextract_result(res)\n\u001B[0;32m   1107\u001B[0m     \u001B[38;5;28;01mif\u001B[39;00m \u001B[38;5;129;01mnot\u001B[39;00m initialized:\n\u001B[0;32m   1108\u001B[0m         \u001B[38;5;66;03m# We only do this validation on the first iteration\u001B[39;00m\n",
      "File \u001B[1;32m~\\Desktop\\HackingLab\\iot_classifier\\venv\\lib\\site-packages\\pandas\\core\\groupby\\groupby.py:1668\u001B[0m, in \u001B[0;36mGroupBy._python_agg_general.<locals>.<lambda>\u001B[1;34m(x)\u001B[0m\n\u001B[0;32m   1665\u001B[0m \u001B[38;5;129m@final\u001B[39m\n\u001B[0;32m   1666\u001B[0m \u001B[38;5;28;01mdef\u001B[39;00m \u001B[38;5;21m_python_agg_general\u001B[39m(\u001B[38;5;28mself\u001B[39m, func, \u001B[38;5;241m*\u001B[39margs, raise_on_typeerror\u001B[38;5;241m=\u001B[39m\u001B[38;5;28;01mFalse\u001B[39;00m, \u001B[38;5;241m*\u001B[39m\u001B[38;5;241m*\u001B[39mkwargs):\n\u001B[0;32m   1667\u001B[0m     func \u001B[38;5;241m=\u001B[39m com\u001B[38;5;241m.\u001B[39mis_builtin_func(func)\n\u001B[1;32m-> 1668\u001B[0m     f \u001B[38;5;241m=\u001B[39m \u001B[38;5;28;01mlambda\u001B[39;00m x: func(x, \u001B[38;5;241m*\u001B[39margs, \u001B[38;5;241m*\u001B[39m\u001B[38;5;241m*\u001B[39mkwargs)\n\u001B[0;32m   1670\u001B[0m     \u001B[38;5;66;03m# iterate through \"columns\" ex exclusions to populate output dict\u001B[39;00m\n\u001B[0;32m   1671\u001B[0m     output: \u001B[38;5;28mdict\u001B[39m[base\u001B[38;5;241m.\u001B[39mOutputKey, ArrayLike] \u001B[38;5;241m=\u001B[39m {}\n",
      "File \u001B[1;32m<timed exec>:8\u001B[0m, in \u001B[0;36m<lambda>\u001B[1;34m(x)\u001B[0m\n",
      "File \u001B[1;32m~\\Desktop\\HackingLab\\iot_classifier\\venv\\lib\\site-packages\\pandas\\core\\series.py:2174\u001B[0m, in \u001B[0;36mSeries.mode\u001B[1;34m(self, dropna)\u001B[0m\n\u001B[0;32m   2172\u001B[0m values \u001B[38;5;241m=\u001B[39m \u001B[38;5;28mself\u001B[39m\u001B[38;5;241m.\u001B[39m_values\n\u001B[0;32m   2173\u001B[0m \u001B[38;5;28;01mif\u001B[39;00m \u001B[38;5;28misinstance\u001B[39m(values, np\u001B[38;5;241m.\u001B[39mndarray):\n\u001B[1;32m-> 2174\u001B[0m     res_values \u001B[38;5;241m=\u001B[39m \u001B[43malgorithms\u001B[49m\u001B[38;5;241;43m.\u001B[39;49m\u001B[43mmode\u001B[49m\u001B[43m(\u001B[49m\u001B[43mvalues\u001B[49m\u001B[43m,\u001B[49m\u001B[43m \u001B[49m\u001B[43mdropna\u001B[49m\u001B[38;5;241;43m=\u001B[39;49m\u001B[43mdropna\u001B[49m\u001B[43m)\u001B[49m\n\u001B[0;32m   2175\u001B[0m \u001B[38;5;28;01melse\u001B[39;00m:\n\u001B[0;32m   2176\u001B[0m     res_values \u001B[38;5;241m=\u001B[39m values\u001B[38;5;241m.\u001B[39m_mode(dropna\u001B[38;5;241m=\u001B[39mdropna)\n",
      "File \u001B[1;32m~\\Desktop\\HackingLab\\iot_classifier\\venv\\lib\\site-packages\\pandas\\core\\algorithms.py:1096\u001B[0m, in \u001B[0;36mmode\u001B[1;34m(values, dropna, mask)\u001B[0m\n\u001B[0;32m   1094\u001B[0m npresult \u001B[38;5;241m=\u001B[39m htable\u001B[38;5;241m.\u001B[39mmode(values, dropna\u001B[38;5;241m=\u001B[39mdropna, mask\u001B[38;5;241m=\u001B[39mmask)\n\u001B[0;32m   1095\u001B[0m \u001B[38;5;28;01mtry\u001B[39;00m:\n\u001B[1;32m-> 1096\u001B[0m     npresult \u001B[38;5;241m=\u001B[39m \u001B[43mnp\u001B[49m\u001B[38;5;241;43m.\u001B[39;49m\u001B[43msort\u001B[49m\u001B[43m(\u001B[49m\u001B[43mnpresult\u001B[49m\u001B[43m)\u001B[49m\n\u001B[0;32m   1097\u001B[0m \u001B[38;5;28;01mexcept\u001B[39;00m \u001B[38;5;167;01mTypeError\u001B[39;00m \u001B[38;5;28;01mas\u001B[39;00m err:\n\u001B[0;32m   1098\u001B[0m     warnings\u001B[38;5;241m.\u001B[39mwarn(\n\u001B[0;32m   1099\u001B[0m         \u001B[38;5;124mf\u001B[39m\u001B[38;5;124m\"\u001B[39m\u001B[38;5;124mUnable to sort modes: \u001B[39m\u001B[38;5;132;01m{\u001B[39;00merr\u001B[38;5;132;01m}\u001B[39;00m\u001B[38;5;124m\"\u001B[39m,\n\u001B[0;32m   1100\u001B[0m         stacklevel\u001B[38;5;241m=\u001B[39mfind_stack_level(),\n\u001B[0;32m   1101\u001B[0m     )\n",
      "File \u001B[1;32m<__array_function__ internals>:200\u001B[0m, in \u001B[0;36msort\u001B[1;34m(*args, **kwargs)\u001B[0m\n",
      "File \u001B[1;32m~\\Desktop\\HackingLab\\iot_classifier\\venv\\lib\\site-packages\\numpy\\core\\fromnumeric.py:1029\u001B[0m, in \u001B[0;36msort\u001B[1;34m(a, axis, kind, order)\u001B[0m\n\u001B[0;32m   1027\u001B[0m     axis \u001B[38;5;241m=\u001B[39m \u001B[38;5;241m-\u001B[39m\u001B[38;5;241m1\u001B[39m\n\u001B[0;32m   1028\u001B[0m \u001B[38;5;28;01melse\u001B[39;00m:\n\u001B[1;32m-> 1029\u001B[0m     a \u001B[38;5;241m=\u001B[39m \u001B[43masanyarray\u001B[49m\u001B[43m(\u001B[49m\u001B[43ma\u001B[49m\u001B[43m)\u001B[49m\u001B[38;5;241;43m.\u001B[39;49m\u001B[43mcopy\u001B[49m\u001B[43m(\u001B[49m\u001B[43morder\u001B[49m\u001B[38;5;241;43m=\u001B[39;49m\u001B[38;5;124;43m\"\u001B[39;49m\u001B[38;5;124;43mK\u001B[39;49m\u001B[38;5;124;43m\"\u001B[39;49m\u001B[43m)\u001B[49m\n\u001B[0;32m   1030\u001B[0m a\u001B[38;5;241m.\u001B[39msort(axis\u001B[38;5;241m=\u001B[39maxis, kind\u001B[38;5;241m=\u001B[39mkind, order\u001B[38;5;241m=\u001B[39morder)\n\u001B[0;32m   1031\u001B[0m \u001B[38;5;28;01mreturn\u001B[39;00m a\n",
      "\u001B[1;31mKeyboardInterrupt\u001B[0m: "
     ]
    }
   ],
   "source": [
    "def mode_mean_med(traffic_frame: pd.DataFrame):\n",
    "    \"\"\"Calculate the mode, mean, and median of a window\"\"\"\n",
    "\n",
    "    # Keep only the mac address name and package size\n",
    "    df = traffic_frame.loc[:, ['window_id' ,'eth_src', 'packet_size']]\n",
    "\n",
    "    # Group the dataframe by window_id and mac adress & Calculate the statistical measures\n",
    "    grouped = df.groupby(['window_id', 'eth_src']).agg({'packet_size': ['mean', 'median', lambda x: x.mode().iat[0]]})\n",
    "\n",
    "    # Reset index to make window_id a column again\n",
    "    grouped = grouped.reset_index()\n",
    "\n",
    "    # Save the results\n",
    "    grouped.to_csv('stats.cvs', index=False)\n",
    "\n",
    "    return grouped\n",
    "\n",
    "result = mode_mean_med(windowed_frame)\n"
   ]
  },
  {
   "cell_type": "code",
   "execution_count": 81,
   "metadata": {},
   "outputs": [
    {
     "name": "stdout",
     "output_type": "stream",
     "text": [
      "                                    packet_size                   \n",
      "                                           mean  median <lambda_0>\n",
      "device_name                                                       \n",
      "Amazon Echo                          118.734701    75.0         66\n",
      "Android Phone                        167.706915    66.0         66\n",
      "Belkin Wemo switch                   415.264227   118.0         66\n",
      "Belkin wemo motion sensor            113.394691    66.0         66\n",
      "Blipcare Blood Pressure meter        108.393701    59.0         54\n",
      "Dropcam                              206.533368   156.0        156\n",
      "HP Printer                           168.309073    60.0        140\n",
      "IPhone                               109.954947    66.0         54\n",
      "Insteon Camera                       104.441343    90.0        102\n",
      "Laptop                               111.325552    54.0         54\n",
      "Light Bulbs LiFX Smart Bulb           96.446889    92.0        123\n",
      "MacBook                              128.950355    66.0         66\n",
      "MacBook/Iphone                       224.933943    66.0         54\n",
      "NEST Protect smoke alarm             302.039608   350.0        509\n",
      "Nest Dropcam                        1253.644709  1514.0       1514\n",
      "Netatmo Welcome                      536.676278    66.0       1510\n",
      "Netatmo weather station              182.715046   113.0        350\n",
      "PIX-STAR Photo-frame                 114.231342    76.0         66\n",
      "Samsung Galaxy Tab                   116.706967    66.0         66\n",
      "Samsung SmartCam                     352.712231   421.0         66\n",
      "Smart Things                          71.422311    60.0         60\n",
      "TP-Link Day Night Cloud camera       532.030309   160.0       1514\n",
      "TP-Link Smart plug                   107.807471    66.0        172\n",
      "TPLink Router Bridge LAN (Gateway)   805.802405  1306.0       1434\n",
      "Triby Speaker                        104.430609    66.0         66\n",
      "Unknown                              132.706371   163.0        163\n",
      "Withings Aura smart sleep sensor     138.450648    66.0         66\n",
      "Withings Smart Baby Monitor           79.476996    66.0         66\n",
      "Withings Smart scale                 303.992542   333.0        333\n",
      "iHome                                 98.896038   108.0         54\n",
      "CPU times: total: 5.64 s\n",
      "Wall time: 6.32 s\n"
     ]
    }
   ],
   "source": [
    "\n",
    "def mode_mean_med_without_window(df: pd.DataFrame, devices: pd.DataFrame):\n",
    "    \"\"\"Calculate the mode, mean, and median of a window\"\"\"\n",
    "\n",
    "    # Keep only the device name and mac address\n",
    "    device_names = devices.loc[:, ['device_name', 'eth_src']]\n",
    "\n",
    "    # Keep only the mac address name and package size\n",
    "    df_size = df.loc[:, ['eth_src', 'packet_size']]\n",
    "\n",
    "    # Merge the stats with the devices names\n",
    "    merge_df = device_names.merge(df_size, on='eth_src')\n",
    "\n",
    "    # Group the merged frame and calculate the stats\n",
    "    stats = merge_df.groupby(['device_name']).agg({'packet_size': ['mean', 'median', lambda x: x.mode().iat[0]]})\n",
    "\n",
    "    # Save the results\n",
    "    stats.to_csv('stats_no_window.cvs', index=False)\n",
    "\n",
    "    print(stats)\n",
    "\n",
    "    return stats\n",
    "\n",
    "devices = pd.read_csv(\"./data/list_of_devices.csv\")\n",
    "result_no_window = mode_mean_med_without_window(data, devices)\n"
   ]
  },
  {
   "cell_type": "code",
   "execution_count": 78,
   "metadata": {},
   "outputs": [],
   "source": [
    "# n_neighbors = 5\n",
    "#\n",
    "# for metric in mmm_frame.columns[2:5]:\n",
    "#     X = mmm_frame[metric].values\n",
    "#     y = mmm_frame.iloc[:, -1].values\n",
    "#     X = X.reshape(-1, 1)\n",
    "#\n",
    "#     X_train, X_test, y_train, y_test = model_selection.train_test_split(X, y, test_size=0.25)\n",
    "#\n",
    "#     for weights in [\"uniform\", \"distance\"]:\n",
    "#         # we create an instance of Neighbours Classifier and fit the data.\n",
    "#         clf = neighbors.KNeighborsClassifier(n_neighbors, weights=weights)\n",
    "#         clf.fit(X_train, y_train)\n",
    "#\n",
    "#         accuracy = metrics.accuracy_score(y_test, clf.predict(X_test))\n",
    "#         print(\"Accuracy of {} with {}: {}\".format(metric, weights, accuracy))"
   ]
  },
  {
   "cell_type": "code",
   "execution_count": 78,
   "metadata": {},
   "outputs": [],
   "source": []
  },
  {
   "cell_type": "code",
   "execution_count": 78,
   "metadata": {},
   "outputs": [],
   "source": []
  },
  {
   "cell_type": "code",
   "execution_count": 78,
   "metadata": {},
   "outputs": [],
   "source": []
  }
 ],
 "metadata": {
  "kernelspec": {
   "display_name": "Python 3 (ipykernel)",
   "language": "python",
   "name": "python3"
  },
  "language_info": {
   "codemirror_mode": {
    "name": "ipython",
    "version": 3
   },
   "file_extension": ".py",
   "mimetype": "text/x-python",
   "name": "python",
   "nbconvert_exporter": "python",
   "pygments_lexer": "ipython3",
   "version": "3.10.9"
  },
  "vscode": {
   "interpreter": {
    "hash": "916dbcbb3f70747c44a77c7bcd40155683ae19c65e1c03b4aa3499c5328201f1"
   }
  }
 },
 "nbformat": 4,
 "nbformat_minor": 2
}
