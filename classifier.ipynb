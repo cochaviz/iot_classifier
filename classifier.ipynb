{
 "cells": [
  {
   "cell_type": "code",
   "execution_count": 2,
   "metadata": {},
   "outputs": [],
   "source": [
    "import matplotlib.pyplot as plt\n",
    "import seaborn as sns\n",
    "import pandas as pd\n",
    "import numpy as np\n",
    "from matplotlib.colors import ListedColormap\n",
    "from sklearn import neighbors, model_selection, metrics\n",
    "from sklearn.inspection import DecisionBoundaryDisplay"
   ]
  },
  {
   "cell_type": "code",
   "execution_count": 33,
   "metadata": {},
   "outputs": [
    {
     "name": "stdout",
     "output_type": "stream",
     "text": [
      "        packet_id            timestamp  packet_size            eth_src   \n",
      "0               0  1474552802257569024           70  18:b7:9e:02:20:44  \\\n",
      "1               1  1474552802257692160           66  18:b7:9e:02:20:44   \n",
      "2               2  1474552802323085056           66  14:cc:20:51:33:ea   \n",
      "3               3  1474552802383173888           60  d0:52:a8:00:67:5e   \n",
      "4               5  1474552802447910912           88  70:ee:50:18:34:43   \n",
      "...           ...                  ...          ...                ...   \n",
      "902933     947067  1474639199059330816           54  14:cc:20:51:33:ea   \n",
      "902934     947068  1474639199620186112           60  00:24:e4:11:18:a8   \n",
      "902935     947069  1474639199620225024           42  14:cc:20:51:33:ea   \n",
      "902936     947070  1474639199771064064          156  30:8c:fb:2f:e4:b2   \n",
      "902937     947071  1474639199986316032           66  14:cc:20:51:33:ea   \n",
      "\n",
      "        device_name protocol    iot  \n",
      "0               NaN      Raw  False  \n",
      "1               NaN      TCP  False  \n",
      "2               NaN      TCP  False  \n",
      "3               NaN  Padding  False  \n",
      "4               NaN      DNS  False  \n",
      "...             ...      ...    ...  \n",
      "902933          NaN      TCP  False  \n",
      "902934          NaN  Padding  False  \n",
      "902935          NaN      ARP  False  \n",
      "902936          NaN      Raw  False  \n",
      "902937          NaN      TCP  False  \n",
      "\n",
      "[902938 rows x 7 columns]\n"
     ]
    }
   ],
   "source": [
    "data_folder = \"data/traces/\"\n",
    "\n",
    "def read_date(date: str):\n",
    "    \"\"\"Aggregate data of a single from parts\"\"\"\n",
    "    data = pd.DataFrame()\n",
    "\n",
    "    for i in range(50):\n",
    "        try:\n",
    "            frame = pd.read_csv(data_folder + date + \"-{}.csv\".format(i))\n",
    "            data = pd.concat([data, frame], axis=0)\n",
    "        except OSError:\n",
    "            pass\n",
    "\n",
    "    return data\n",
    "\n",
    "\n",
    "def read_date_part(date_part: str):\n",
    "    \"\"\"Read data of a part of a capture date\"\"\"\n",
    "    data = pd.DataFrame()\n",
    "\n",
    "    try:\n",
    "        frame = pd.read_csv(data_folder + date_part + \".csv\")\n",
    "        data = pd.concat([data, frame], axis=0)\n",
    "    except OSError:\n",
    "        pass\n",
    "\n",
    "    return data\n",
    "\n",
    "data = read_date_part(\"16-09-23\")\n",
    "data.set_index(\"timestamp\")\n",
    "print(data)"
   ]
  },
  {
   "cell_type": "code",
   "execution_count": 53,
   "metadata": {},
   "outputs": [
    {
     "ename": "TypeError",
     "evalue": "Index(...) must be called with a collection of some kind, 'window_id' was passed",
     "output_type": "error",
     "traceback": [
      "\u001b[0;31m---------------------------------------------------------------------------\u001b[0m",
      "\u001b[0;31mTypeError\u001b[0m                                 Traceback (most recent call last)",
      "Cell \u001b[0;32mIn[53], line 40\u001b[0m\n\u001b[1;32m     36\u001b[0m     \u001b[39mreturn\u001b[39;00m pd\u001b[39m.\u001b[39mconcat([timestamped_frame, windowed_frame], axis\u001b[39m=\u001b[39m\u001b[39m1\u001b[39m)\u001b[39m.\u001b[39mset_axis(\u001b[39m'\u001b[39m\u001b[39mwindow_id\u001b[39m\u001b[39m'\u001b[39m)\n\u001b[1;32m     39\u001b[0m devices \u001b[39m=\u001b[39m pd\u001b[39m.\u001b[39mread_csv(\u001b[39m\"\u001b[39m\u001b[39mdata/list_of_devices.csv\u001b[39m\u001b[39m\"\u001b[39m)\n\u001b[0;32m---> 40\u001b[0m windowed_frame \u001b[39m=\u001b[39m attach_window_id_fast(data)\n",
      "Cell \u001b[0;32mIn[53], line 36\u001b[0m, in \u001b[0;36mattach_window_id_fast\u001b[0;34m(timestamped_frame)\u001b[0m\n\u001b[1;32m     34\u001b[0m windowed_frame \u001b[39m=\u001b[39m pd\u001b[39m.\u001b[39mcut(timestamped_frame[\u001b[39m'\u001b[39m\u001b[39mtimestamp\u001b[39m\u001b[39m'\u001b[39m], windows, labels\u001b[39m=\u001b[39m\u001b[39mrange\u001b[39m(\u001b[39mlen\u001b[39m(windows) \u001b[39m-\u001b[39m \u001b[39m1\u001b[39m))\u001b[39m.\u001b[39mto_frame()\n\u001b[1;32m     35\u001b[0m windowed_frame\u001b[39m.\u001b[39mcolumns \u001b[39m=\u001b[39m [\u001b[39m\"\u001b[39m\u001b[39mwindow_id\u001b[39m\u001b[39m\"\u001b[39m]\n\u001b[0;32m---> 36\u001b[0m \u001b[39mreturn\u001b[39;00m pd\u001b[39m.\u001b[39;49mconcat([timestamped_frame, windowed_frame], axis\u001b[39m=\u001b[39;49m\u001b[39m1\u001b[39;49m)\u001b[39m.\u001b[39;49mset_axis(\u001b[39m'\u001b[39;49m\u001b[39mwindow_id\u001b[39;49m\u001b[39m'\u001b[39;49m)\n",
      "File \u001b[0;32m~/.local/lib/python3.11/site-packages/pandas/core/frame.py:5042\u001b[0m, in \u001b[0;36mDataFrame.set_axis\u001b[0;34m(self, labels, axis, copy)\u001b[0m\n\u001b[1;32m   5005\u001b[0m \u001b[39m@Appender\u001b[39m(\n\u001b[1;32m   5006\u001b[0m \u001b[39m    \u001b[39m\u001b[39m\"\"\"\u001b[39;00m\n\u001b[1;32m   5007\u001b[0m \u001b[39m    Examples\u001b[39;00m\n\u001b[0;32m   (...)\u001b[0m\n\u001b[1;32m   5040\u001b[0m     copy: \u001b[39mbool\u001b[39m \u001b[39m|\u001b[39m \u001b[39mNone\u001b[39;00m \u001b[39m=\u001b[39m \u001b[39mNone\u001b[39;00m,\n\u001b[1;32m   5041\u001b[0m ) \u001b[39m-\u001b[39m\u001b[39m>\u001b[39m DataFrame:\n\u001b[0;32m-> 5042\u001b[0m     \u001b[39mreturn\u001b[39;00m \u001b[39msuper\u001b[39;49m()\u001b[39m.\u001b[39;49mset_axis(labels, axis\u001b[39m=\u001b[39;49maxis, copy\u001b[39m=\u001b[39;49mcopy)\n",
      "File \u001b[0;32m~/.local/lib/python3.11/site-packages/pandas/core/generic.py:708\u001b[0m, in \u001b[0;36mNDFrame.set_axis\u001b[0;34m(self, labels, axis, copy)\u001b[0m\n\u001b[1;32m    672\u001b[0m \u001b[39mdef\u001b[39;00m \u001b[39mset_axis\u001b[39m(\n\u001b[1;32m    673\u001b[0m     \u001b[39mself\u001b[39m: NDFrameT,\n\u001b[1;32m    674\u001b[0m     labels,\n\u001b[0;32m   (...)\u001b[0m\n\u001b[1;32m    677\u001b[0m     copy: bool_t \u001b[39m|\u001b[39m \u001b[39mNone\u001b[39;00m \u001b[39m=\u001b[39m \u001b[39mNone\u001b[39;00m,\n\u001b[1;32m    678\u001b[0m ) \u001b[39m-\u001b[39m\u001b[39m>\u001b[39m NDFrameT:\n\u001b[1;32m    679\u001b[0m \u001b[39m    \u001b[39m\u001b[39m\"\"\"\u001b[39;00m\n\u001b[1;32m    680\u001b[0m \u001b[39m    Assign desired index to given axis.\u001b[39;00m\n\u001b[1;32m    681\u001b[0m \n\u001b[0;32m   (...)\u001b[0m\n\u001b[1;32m    706\u001b[0m \u001b[39m    %(klass)s.rename_axis : Alter the name of the index%(see_also_sub)s.\u001b[39;00m\n\u001b[1;32m    707\u001b[0m \u001b[39m    \"\"\"\u001b[39;00m\n\u001b[0;32m--> 708\u001b[0m     \u001b[39mreturn\u001b[39;00m \u001b[39mself\u001b[39;49m\u001b[39m.\u001b[39;49m_set_axis_nocheck(labels, axis, inplace\u001b[39m=\u001b[39;49m\u001b[39mFalse\u001b[39;49;00m, copy\u001b[39m=\u001b[39;49mcopy)\n",
      "File \u001b[0;32m~/.local/lib/python3.11/site-packages/pandas/core/generic.py:720\u001b[0m, in \u001b[0;36mNDFrame._set_axis_nocheck\u001b[0;34m(self, labels, axis, inplace, copy)\u001b[0m\n\u001b[1;32m    716\u001b[0m \u001b[39melse\u001b[39;00m:\n\u001b[1;32m    717\u001b[0m     \u001b[39m# With copy=False, we create a new object but don't copy the\u001b[39;00m\n\u001b[1;32m    718\u001b[0m     \u001b[39m#  underlying data.\u001b[39;00m\n\u001b[1;32m    719\u001b[0m     obj \u001b[39m=\u001b[39m \u001b[39mself\u001b[39m\u001b[39m.\u001b[39mcopy(deep\u001b[39m=\u001b[39mcopy \u001b[39mand\u001b[39;00m \u001b[39mnot\u001b[39;00m using_copy_on_write())\n\u001b[0;32m--> 720\u001b[0m     \u001b[39msetattr\u001b[39;49m(obj, obj\u001b[39m.\u001b[39;49m_get_axis_name(axis), labels)\n\u001b[1;32m    721\u001b[0m     \u001b[39mreturn\u001b[39;00m obj\n",
      "File \u001b[0;32m~/.local/lib/python3.11/site-packages/pandas/core/generic.py:6002\u001b[0m, in \u001b[0;36mNDFrame.__setattr__\u001b[0;34m(self, name, value)\u001b[0m\n\u001b[1;32m   6000\u001b[0m \u001b[39mtry\u001b[39;00m:\n\u001b[1;32m   6001\u001b[0m     \u001b[39mobject\u001b[39m\u001b[39m.\u001b[39m\u001b[39m__getattribute__\u001b[39m(\u001b[39mself\u001b[39m, name)\n\u001b[0;32m-> 6002\u001b[0m     \u001b[39mreturn\u001b[39;00m \u001b[39mobject\u001b[39;49m\u001b[39m.\u001b[39;49m\u001b[39m__setattr__\u001b[39;49m(\u001b[39mself\u001b[39;49m, name, value)\n\u001b[1;32m   6003\u001b[0m \u001b[39mexcept\u001b[39;00m \u001b[39mAttributeError\u001b[39;00m:\n\u001b[1;32m   6004\u001b[0m     \u001b[39mpass\u001b[39;00m\n",
      "File \u001b[0;32m~/.local/lib/python3.11/site-packages/pandas/_libs/properties.pyx:69\u001b[0m, in \u001b[0;36mpandas._libs.properties.AxisProperty.__set__\u001b[0;34m()\u001b[0m\n",
      "File \u001b[0;32m~/.local/lib/python3.11/site-packages/pandas/core/generic.py:729\u001b[0m, in \u001b[0;36mNDFrame._set_axis\u001b[0;34m(self, axis, labels)\u001b[0m\n\u001b[1;32m    723\u001b[0m \u001b[39m@final\u001b[39m\n\u001b[1;32m    724\u001b[0m \u001b[39mdef\u001b[39;00m \u001b[39m_set_axis\u001b[39m(\u001b[39mself\u001b[39m, axis: AxisInt, labels: AnyArrayLike \u001b[39m|\u001b[39m \u001b[39mlist\u001b[39m) \u001b[39m-\u001b[39m\u001b[39m>\u001b[39m \u001b[39mNone\u001b[39;00m:\n\u001b[1;32m    725\u001b[0m \u001b[39m    \u001b[39m\u001b[39m\"\"\"\u001b[39;00m\n\u001b[1;32m    726\u001b[0m \u001b[39m    This is called from the cython code when we set the `index` attribute\u001b[39;00m\n\u001b[1;32m    727\u001b[0m \u001b[39m    directly, e.g. `series.index = [1, 2, 3]`.\u001b[39;00m\n\u001b[1;32m    728\u001b[0m \u001b[39m    \"\"\"\u001b[39;00m\n\u001b[0;32m--> 729\u001b[0m     labels \u001b[39m=\u001b[39m ensure_index(labels)\n\u001b[1;32m    730\u001b[0m     \u001b[39mself\u001b[39m\u001b[39m.\u001b[39m_mgr\u001b[39m.\u001b[39mset_axis(axis, labels)\n\u001b[1;32m    731\u001b[0m     \u001b[39mself\u001b[39m\u001b[39m.\u001b[39m_clear_item_cache()\n",
      "File \u001b[0;32m~/.local/lib/python3.11/site-packages/pandas/core/indexes/base.py:7125\u001b[0m, in \u001b[0;36mensure_index\u001b[0;34m(index_like, copy)\u001b[0m\n\u001b[1;32m   7123\u001b[0m         \u001b[39mreturn\u001b[39;00m Index(index_like, copy\u001b[39m=\u001b[39mcopy, tupleize_cols\u001b[39m=\u001b[39m\u001b[39mFalse\u001b[39;00m)\n\u001b[1;32m   7124\u001b[0m \u001b[39melse\u001b[39;00m:\n\u001b[0;32m-> 7125\u001b[0m     \u001b[39mreturn\u001b[39;00m Index(index_like, copy\u001b[39m=\u001b[39;49mcopy)\n",
      "File \u001b[0;32m~/.local/lib/python3.11/site-packages/pandas/core/indexes/base.py:516\u001b[0m, in \u001b[0;36mIndex.__new__\u001b[0;34m(cls, data, dtype, copy, name, tupleize_cols)\u001b[0m\n\u001b[1;32m    513\u001b[0m         data \u001b[39m=\u001b[39m com\u001b[39m.\u001b[39masarray_tuplesafe(data, dtype\u001b[39m=\u001b[39m_dtype_obj)\n\u001b[1;32m    515\u001b[0m \u001b[39melif\u001b[39;00m is_scalar(data):\n\u001b[0;32m--> 516\u001b[0m     \u001b[39mraise\u001b[39;00m \u001b[39mcls\u001b[39;49m\u001b[39m.\u001b[39;49m_raise_scalar_data_error(data)\n\u001b[1;32m    517\u001b[0m \u001b[39melif\u001b[39;00m \u001b[39mhasattr\u001b[39m(data, \u001b[39m\"\u001b[39m\u001b[39m__array__\u001b[39m\u001b[39m\"\u001b[39m):\n\u001b[1;32m    518\u001b[0m     \u001b[39mreturn\u001b[39;00m Index(np\u001b[39m.\u001b[39masarray(data), dtype\u001b[39m=\u001b[39mdtype, copy\u001b[39m=\u001b[39mcopy, name\u001b[39m=\u001b[39mname)\n",
      "File \u001b[0;32m~/.local/lib/python3.11/site-packages/pandas/core/indexes/base.py:5065\u001b[0m, in \u001b[0;36mIndex._raise_scalar_data_error\u001b[0;34m(cls, data)\u001b[0m\n\u001b[1;32m   5060\u001b[0m \u001b[39m@final\u001b[39m\n\u001b[1;32m   5061\u001b[0m \u001b[39m@classmethod\u001b[39m\n\u001b[1;32m   5062\u001b[0m \u001b[39mdef\u001b[39;00m \u001b[39m_raise_scalar_data_error\u001b[39m(\u001b[39mcls\u001b[39m, data):\n\u001b[1;32m   5063\u001b[0m     \u001b[39m# We return the TypeError so that we can raise it from the constructor\u001b[39;00m\n\u001b[1;32m   5064\u001b[0m     \u001b[39m#  in order to keep mypy happy\u001b[39;00m\n\u001b[0;32m-> 5065\u001b[0m     \u001b[39mraise\u001b[39;00m \u001b[39mTypeError\u001b[39;00m(\n\u001b[1;32m   5066\u001b[0m         \u001b[39mf\u001b[39m\u001b[39m\"\u001b[39m\u001b[39m{\u001b[39;00m\u001b[39mcls\u001b[39m\u001b[39m.\u001b[39m\u001b[39m__name__\u001b[39m\u001b[39m}\u001b[39;00m\u001b[39m(...) must be called with a collection of some \u001b[39m\u001b[39m\"\u001b[39m\n\u001b[1;32m   5067\u001b[0m         \u001b[39mf\u001b[39m\u001b[39m\"\u001b[39m\u001b[39mkind, \u001b[39m\u001b[39m{\u001b[39;00m\u001b[39mrepr\u001b[39m(data)\u001b[39m}\u001b[39;00m\u001b[39m was passed\u001b[39m\u001b[39m\"\u001b[39m\n\u001b[1;32m   5068\u001b[0m     )\n",
      "\u001b[0;31mTypeError\u001b[0m: Index(...) must be called with a collection of some kind, 'window_id' was passed"
     ]
    }
   ],
   "source": [
    "def attach_window_id(timestamped_frame: pd.DataFrame) -> list[pd.DataFrame]:\n",
    "    \"\"\"Slice the dataframe into 1-second intervals\"\"\"\n",
    "    first_packet_time = timestamped_frame.iloc[0]['timestamp']\n",
    "    last_packet_time = timestamped_frame.iloc[-1]['timestamp']\n",
    "    windowed_frame = timestamped_frame.set_index('timestamp', drop=False) \n",
    "\n",
    "    ns_in_sec = int(1e9)\n",
    "    number_of_windows = int((last_packet_time - first_packet_time) / ns_in_sec) + 1\n",
    "\n",
    "    try:\n",
    "        windowed_frame.insert(0, value=0, column=\"window_id\")\n",
    "    except Exception as e:\n",
    "        print(\"It seems like the column 'window_id' already exists. Just updating values...\")\n",
    "        print(e)\n",
    "    finally:\n",
    "        windowed_frame.window_id.astype(np.int64)\n",
    "\n",
    "    for window_id in range(0, number_of_windows):\n",
    "        from_time = first_packet_time + window_id * ns_in_sec\n",
    "        to_time = first_packet_time + (window_id  + 1) * ns_in_sec\n",
    "        windowed_frame.loc[from_time:to_time, 'window_id'] = window_id\n",
    "    \n",
    "    windowed_frame.set_index('window_id', inplace=True)\n",
    "    return windowed_frame\n",
    "\n",
    "\n",
    "def attach_window_id_fast(timestamped_frame: pd.DataFrame) -> pd.DataFrame:\n",
    "    first_packet_time = timestamped_frame.iloc[0]['timestamp']\n",
    "    last_packet_time = timestamped_frame.iloc[-1]['timestamp']\n",
    "\n",
    "    ns_in_sec = int(1e9)\n",
    "    windows = range(first_packet_time - 1, last_packet_time + ns_in_sec, ns_in_sec)\n",
    "\n",
    "    windowed_frame = pd.cut(timestamped_frame['timestamp'], windows, labels=range(len(windows) - 1)).to_frame()\n",
    "    windowed_frame.columns = [\"window_id\"]\n",
    "    return pd.concat([timestamped_frame, windowed_frame], axis=1).set_index('window_id', inplace=True)\n",
    "    \n",
    "\n",
    "devices = pd.read_csv(\"data/list_of_devices.csv\")\n",
    "windowed_frame = attach_window_id_fast(data)"
   ]
  },
  {
   "cell_type": "code",
   "execution_count": 52,
   "metadata": {},
   "outputs": [
    {
     "name": "stdout",
     "output_type": "stream",
     "text": [
      "                mean        std  n_bytes                         device_name   \n",
      "window_id                                                                      \n",
      "0          60.000000   0.000000       60                        Smart Things  \\\n",
      "1          99.500000  55.861436      199                        Smart Things   \n",
      "2           0.000000   0.000000        0                        Smart Things   \n",
      "3           0.000000   0.000000        0                        Smart Things   \n",
      "4           0.000000   0.000000        0                        Smart Things   \n",
      "...              ...        ...      ...                                 ...   \n",
      "86393      82.666667  51.081634      248  TPLink Router Bridge LAN (Gateway)   \n",
      "86394      66.000000   0.000000      132  TPLink Router Bridge LAN (Gateway)   \n",
      "86395      42.000000   0.000000       42  TPLink Router Bridge LAN (Gateway)   \n",
      "86396      71.666667  21.079216      215  TPLink Router Bridge LAN (Gateway)   \n",
      "86397      54.000000  16.970563      108  TPLink Router Bridge LAN (Gateway)   \n",
      "\n",
      "             iot  \n",
      "window_id         \n",
      "0           True  \n",
      "1           True  \n",
      "2           True  \n",
      "3           True  \n",
      "4           True  \n",
      "...          ...  \n",
      "86393      False  \n",
      "86394      False  \n",
      "86395      False  \n",
      "86396      False  \n",
      "86397      False  \n",
      "\n",
      "[2678338 rows x 5 columns]\n"
     ]
    }
   ],
   "source": [
    "def generate_features_labeled(windowed_frame: pd.DataFrame, device_frame: pd.DataFrame):\n",
    "    \"\"\"Calculate the mode, mean, and median of a window\"\"\"\n",
    "    features = pd.DataFrame()\n",
    "\n",
    "    for device_index in device_frame.index:\n",
    "        device = device_frame.iloc[device_index]\n",
    "        device_packets = windowed_frame.loc[windowed_frame['eth_src'] == device['eth_src']]\n",
    "        device_features = generate_features(device_packets)\n",
    "\n",
    "        device_features.insert(len(device_features.columns), \"device_name\", device['device_name'])\n",
    "        device_features.insert(len(device_features.columns), \"iot\", device['iot'])\n",
    "\n",
    "        features = pd.concat([features, device_features])\n",
    "\n",
    "    features.columns = [\"mean\", \"std\", \"n_bytes\", \"device_name\", \"iot\"]\n",
    "    return features\n",
    "\n",
    "def generate_features(windowed_frame: pd.DataFrame):\n",
    "    window_groups = windowed_frame.groupby([\"window_id\"])\n",
    "\n",
    "    mean = window_groups['packet_size'].mean()\n",
    "    std = window_groups['packet_size'].std()\n",
    "    n_bytes = window_groups['packet_size'].sum()\n",
    "\n",
    "    # TODO Not sure if fillna is a good idea\n",
    "    return pd.concat([mean, std, n_bytes], axis=1).fillna(0)\n",
    "\n",
    "def get_devices_in_window(windowed_frame: pd.DataFrame):\n",
    "    devices_in_window = pd.DataFrame()\n",
    "    \n",
    "    for window_id in windowed_frame.index.unique():\n",
    "        devices = windowed_frame.loc[window_id]['device_name']\n",
    "        # iot = windowed_frame.loc[window_id]['iot']\n",
    "\n",
    "        if not isinstance(devices, str):\n",
    "            devices = devices.unique() \n",
    "            \n",
    "        devices_in_window = pd.concat([devices_in_window, pd.DataFrame({\"window_id\": window_id, \"devices\": devices})])\n",
    "\n",
    "    return devices_in_window\n",
    "\n",
    "labeled_features = generate_features_labeled(windowed_frame, devices)\n",
    "print(labeled_features)"
   ]
  },
  {
   "cell_type": "code",
   "execution_count": 34,
   "metadata": {},
   "outputs": [
    {
     "name": "stdout",
     "output_type": "stream",
     "text": [
      "Training and testing models on iot\n",
      "Knn mean accuracy over 10 splits: 0.812222222222222\n",
      "SVM mean accuracy over 10 splits: 0.6711111111111112\n",
      "DT mean accuracy over 10 splits: 0.8122222222222222\n",
      "RF mean accuracy over 10 splits: 0.828888888888889\n",
      "Majority Voting mean accuracy over 10 splits: 0.8044444444444444\n",
      "Training and testing models on device_name\n",
      "Knn mean accuracy over 10 splits: 0.7368579234972678\n",
      "SVM mean accuracy over 10 splits: 0.4635519125683061\n"
     ]
    },
    {
     "name": "stderr",
     "output_type": "stream",
     "text": [
      "/home/zohar/.local/lib/python3.10/site-packages/sklearn/model_selection/_split.py:700: UserWarning: The least populated class in y has only 2 members, which is less than n_splits=10.\n",
      "  warnings.warn(\n",
      "/home/zohar/.local/lib/python3.10/site-packages/sklearn/model_selection/_split.py:700: UserWarning: The least populated class in y has only 2 members, which is less than n_splits=10.\n",
      "  warnings.warn(\n",
      "/home/zohar/.local/lib/python3.10/site-packages/sklearn/model_selection/_split.py:700: UserWarning: The least populated class in y has only 2 members, which is less than n_splits=10.\n",
      "  warnings.warn(\n"
     ]
    },
    {
     "name": "stdout",
     "output_type": "stream",
     "text": [
      "DT mean accuracy over 10 splits: 0.791311475409836\n",
      "RF mean accuracy over 10 splits: 0.7813661202185791\n"
     ]
    },
    {
     "name": "stderr",
     "output_type": "stream",
     "text": [
      "/home/zohar/.local/lib/python3.10/site-packages/sklearn/model_selection/_split.py:700: UserWarning: The least populated class in y has only 2 members, which is less than n_splits=10.\n",
      "  warnings.warn(\n",
      "/home/zohar/.local/lib/python3.10/site-packages/sklearn/model_selection/_split.py:700: UserWarning: The least populated class in y has only 2 members, which is less than n_splits=10.\n",
      "  warnings.warn(\n"
     ]
    },
    {
     "name": "stdout",
     "output_type": "stream",
     "text": [
      "Majority Voting mean accuracy over 10 splits: 0.7368306010928962\n"
     ]
    }
   ],
   "source": [
    "import sklearn.svm as svm\n",
    "import sklearn.neighbors as neighbors\n",
    "import sklearn.tree as tree\n",
    "import sklearn.ensemble as ensemble\n",
    "\n",
    "def train_and_test_classifiers(labeled_features, target_label, n_splits=10, shuffle=False, random_state=None):\n",
    "    \"\"\"\n",
    "    Trains and tests a series of models on the given, labeled data\n",
    "    (Knn, RF, DT, SVM, Majority Voting)\n",
    "    \"\"\"\n",
    "\n",
    "    X = labeled_features.iloc[:, 1:3]\n",
    "    y = labeled_features.iloc[:][target_label]\n",
    "    kf = model_selection.StratifiedKFold(n_splits=n_splits, shuffle=shuffle, random_state=random_state)\n",
    "\n",
    "    models = {\n",
    "        \"Knn\" : neighbors.KNeighborsClassifier(n_neighbors=5, weights=\"distance\"),\n",
    "        \"SVM\" : svm.SVC(),\n",
    "        \"DT\"  : tree.DecisionTreeClassifier(),\n",
    "        \"RF\"  : ensemble.RandomForestClassifier(n_estimators=10, max_depth=None, min_samples_split=2, random_state=0)\n",
    "    }\n",
    "    models[\"Majority Voting\"] = ensemble.VotingClassifier([ pair for pair in models.items() ], voting='hard')\n",
    "\n",
    "    print(\"Training and testing models on {}\".format(target_label))\n",
    "    for (name, model) in models.items():\n",
    "        accuracy = 0.0\n",
    "        \n",
    "        for (train_index, test_index) in kf.split(X, y):\n",
    "            model.fit(X.iloc[train_index], y.iloc[train_index])\n",
    "\n",
    "            accuracy += metrics.accuracy_score(y.iloc[test_index], model.predict(X.iloc[test_index]))\n",
    "\n",
    "        print(\"{} mean accuracy over {} splits: {}\".format(name, n_splits, accuracy/n_splits))\n",
    "        \n",
    "    return models\n",
    "\n",
    "iot_classfiers = train_and_test_classifiers(labeled_features, 'iot')\n",
    "device_classifiers = train_and_test_classifiers(labeled_features.loc[labeled_features['iot'] == True], 'device_name')"
   ]
  },
  {
   "cell_type": "code",
   "execution_count": null,
   "metadata": {},
   "outputs": [
    {
     "ename": "ValueError",
     "evalue": "If using all scalar values, you must pass an index",
     "output_type": "error",
     "traceback": [
      "\u001b[0;31m---------------------------------------------------------------------------\u001b[0m",
      "\u001b[0;31mValueError\u001b[0m                                Traceback (most recent call last)",
      "\u001b[1;32m/home/zohar/Documents/Study/msc/y1/q3/ASA/iot_classifier/classifier.ipynb Cell 7\u001b[0m in \u001b[0;36m<cell line: 9>\u001b[0;34m()\u001b[0m\n\u001b[1;32m      <a href='vscode-notebook-cell:/home/zohar/Documents/Study/msc/y1/q3/ASA/iot_classifier/classifier.ipynb#X61sZmlsZQ%3D%3D?line=5'>6</a>\u001b[0m     \u001b[39mprint\u001b[39m(\u001b[39m\"\u001b[39m\u001b[39mAccuracy:\u001b[39m\u001b[39m\"\u001b[39m, accuracy)\n\u001b[1;32m      <a href='vscode-notebook-cell:/home/zohar/Documents/Study/msc/y1/q3/ASA/iot_classifier/classifier.ipynb#X61sZmlsZQ%3D%3D?line=7'>8</a>\u001b[0m unlabeled_features \u001b[39m=\u001b[39m generate_features(windowed_frame)\n\u001b[0;32m----> <a href='vscode-notebook-cell:/home/zohar/Documents/Study/msc/y1/q3/ASA/iot_classifier/classifier.ipynb#X61sZmlsZQ%3D%3D?line=8'>9</a>\u001b[0m devices_in_window \u001b[39m=\u001b[39m get_devices_in_window(windowed_frame)\n\u001b[1;32m     <a href='vscode-notebook-cell:/home/zohar/Documents/Study/msc/y1/q3/ASA/iot_classifier/classifier.ipynb#X61sZmlsZQ%3D%3D?line=10'>11</a>\u001b[0m test_realistic(iot_classifier, device_classifier, unlabeled_features, devices_in_window)\n",
      "\u001b[1;32m/home/zohar/Documents/Study/msc/y1/q3/ASA/iot_classifier/classifier.ipynb Cell 7\u001b[0m in \u001b[0;36mget_devices_in_window\u001b[0;34m(windowed_frame)\u001b[0m\n\u001b[1;32m     <a href='vscode-notebook-cell:/home/zohar/Documents/Study/msc/y1/q3/ASA/iot_classifier/classifier.ipynb#X61sZmlsZQ%3D%3D?line=40'>41</a>\u001b[0m     \u001b[39mif\u001b[39;00m \u001b[39mnot\u001b[39;00m \u001b[39misinstance\u001b[39m(devices, \u001b[39mstr\u001b[39m):\n\u001b[1;32m     <a href='vscode-notebook-cell:/home/zohar/Documents/Study/msc/y1/q3/ASA/iot_classifier/classifier.ipynb#X61sZmlsZQ%3D%3D?line=41'>42</a>\u001b[0m         devices \u001b[39m=\u001b[39m devices\u001b[39m.\u001b[39munique() \n\u001b[0;32m---> <a href='vscode-notebook-cell:/home/zohar/Documents/Study/msc/y1/q3/ASA/iot_classifier/classifier.ipynb#X61sZmlsZQ%3D%3D?line=43'>44</a>\u001b[0m     devices_in_window \u001b[39m=\u001b[39m pd\u001b[39m.\u001b[39mconcat([devices_in_window, pd\u001b[39m.\u001b[39;49mDataFrame({\u001b[39m\"\u001b[39;49m\u001b[39mwindow_id\u001b[39;49m\u001b[39m\"\u001b[39;49m: window_id, \u001b[39m\"\u001b[39;49m\u001b[39mdevices\u001b[39;49m\u001b[39m\"\u001b[39;49m: devices})])\n\u001b[1;32m     <a href='vscode-notebook-cell:/home/zohar/Documents/Study/msc/y1/q3/ASA/iot_classifier/classifier.ipynb#X61sZmlsZQ%3D%3D?line=45'>46</a>\u001b[0m \u001b[39mreturn\u001b[39;00m devices_in_window\n",
      "File \u001b[0;32m~/.local/lib/python3.10/site-packages/pandas/core/frame.py:664\u001b[0m, in \u001b[0;36mDataFrame.__init__\u001b[0;34m(self, data, index, columns, dtype, copy)\u001b[0m\n\u001b[1;32m    658\u001b[0m     mgr \u001b[39m=\u001b[39m \u001b[39mself\u001b[39m\u001b[39m.\u001b[39m_init_mgr(\n\u001b[1;32m    659\u001b[0m         data, axes\u001b[39m=\u001b[39m{\u001b[39m\"\u001b[39m\u001b[39mindex\u001b[39m\u001b[39m\"\u001b[39m: index, \u001b[39m\"\u001b[39m\u001b[39mcolumns\u001b[39m\u001b[39m\"\u001b[39m: columns}, dtype\u001b[39m=\u001b[39mdtype, copy\u001b[39m=\u001b[39mcopy\n\u001b[1;32m    660\u001b[0m     )\n\u001b[1;32m    662\u001b[0m \u001b[39melif\u001b[39;00m \u001b[39misinstance\u001b[39m(data, \u001b[39mdict\u001b[39m):\n\u001b[1;32m    663\u001b[0m     \u001b[39m# GH#38939 de facto copy defaults to False only in non-dict cases\u001b[39;00m\n\u001b[0;32m--> 664\u001b[0m     mgr \u001b[39m=\u001b[39m dict_to_mgr(data, index, columns, dtype\u001b[39m=\u001b[39;49mdtype, copy\u001b[39m=\u001b[39;49mcopy, typ\u001b[39m=\u001b[39;49mmanager)\n\u001b[1;32m    665\u001b[0m \u001b[39melif\u001b[39;00m \u001b[39misinstance\u001b[39m(data, ma\u001b[39m.\u001b[39mMaskedArray):\n\u001b[1;32m    666\u001b[0m     \u001b[39mimport\u001b[39;00m \u001b[39mnumpy\u001b[39;00m\u001b[39m.\u001b[39;00m\u001b[39mma\u001b[39;00m\u001b[39m.\u001b[39;00m\u001b[39mmrecords\u001b[39;00m \u001b[39mas\u001b[39;00m \u001b[39mmrecords\u001b[39;00m\n",
      "File \u001b[0;32m~/.local/lib/python3.10/site-packages/pandas/core/internals/construction.py:493\u001b[0m, in \u001b[0;36mdict_to_mgr\u001b[0;34m(data, index, columns, dtype, typ, copy)\u001b[0m\n\u001b[1;32m    489\u001b[0m     \u001b[39melse\u001b[39;00m:\n\u001b[1;32m    490\u001b[0m         \u001b[39m# dtype check to exclude e.g. range objects, scalars\u001b[39;00m\n\u001b[1;32m    491\u001b[0m         arrays \u001b[39m=\u001b[39m [x\u001b[39m.\u001b[39mcopy() \u001b[39mif\u001b[39;00m \u001b[39mhasattr\u001b[39m(x, \u001b[39m\"\u001b[39m\u001b[39mdtype\u001b[39m\u001b[39m\"\u001b[39m) \u001b[39melse\u001b[39;00m x \u001b[39mfor\u001b[39;00m x \u001b[39min\u001b[39;00m arrays]\n\u001b[0;32m--> 493\u001b[0m \u001b[39mreturn\u001b[39;00m arrays_to_mgr(arrays, columns, index, dtype\u001b[39m=\u001b[39;49mdtype, typ\u001b[39m=\u001b[39;49mtyp, consolidate\u001b[39m=\u001b[39;49mcopy)\n",
      "File \u001b[0;32m~/.local/lib/python3.10/site-packages/pandas/core/internals/construction.py:118\u001b[0m, in \u001b[0;36marrays_to_mgr\u001b[0;34m(arrays, columns, index, dtype, verify_integrity, typ, consolidate)\u001b[0m\n\u001b[1;32m    115\u001b[0m \u001b[39mif\u001b[39;00m verify_integrity:\n\u001b[1;32m    116\u001b[0m     \u001b[39m# figure out the index, if necessary\u001b[39;00m\n\u001b[1;32m    117\u001b[0m     \u001b[39mif\u001b[39;00m index \u001b[39mis\u001b[39;00m \u001b[39mNone\u001b[39;00m:\n\u001b[0;32m--> 118\u001b[0m         index \u001b[39m=\u001b[39m _extract_index(arrays)\n\u001b[1;32m    119\u001b[0m     \u001b[39melse\u001b[39;00m:\n\u001b[1;32m    120\u001b[0m         index \u001b[39m=\u001b[39m ensure_index(index)\n",
      "File \u001b[0;32m~/.local/lib/python3.10/site-packages/pandas/core/internals/construction.py:656\u001b[0m, in \u001b[0;36m_extract_index\u001b[0;34m(data)\u001b[0m\n\u001b[1;32m    653\u001b[0m         \u001b[39mraise\u001b[39;00m \u001b[39mValueError\u001b[39;00m(\u001b[39m\"\u001b[39m\u001b[39mPer-column arrays must each be 1-dimensional\u001b[39m\u001b[39m\"\u001b[39m)\n\u001b[1;32m    655\u001b[0m \u001b[39mif\u001b[39;00m \u001b[39mnot\u001b[39;00m indexes \u001b[39mand\u001b[39;00m \u001b[39mnot\u001b[39;00m raw_lengths:\n\u001b[0;32m--> 656\u001b[0m     \u001b[39mraise\u001b[39;00m \u001b[39mValueError\u001b[39;00m(\u001b[39m\"\u001b[39m\u001b[39mIf using all scalar values, you must pass an index\u001b[39m\u001b[39m\"\u001b[39m)\n\u001b[1;32m    658\u001b[0m \u001b[39melif\u001b[39;00m have_series:\n\u001b[1;32m    659\u001b[0m     index \u001b[39m=\u001b[39m union_indexes(indexes)\n",
      "\u001b[0;31mValueError\u001b[0m: If using all scalar values, you must pass an index"
     ]
    }
   ],
   "source": [
    "def test_realistic(iot_classifier, device_classifier, unlabeled_features, devices_in_window):\n",
    "    assert len(unlabeled_features) == len(devices_in_window)\n",
    "\n",
    "    # accuracy = metrics.accuracy_score(devices_in_window, iot_classifier.predict(unlabeled_features))\n",
    "    accuracy = metrics.accuracy_score(devices_in_window, device_classifier.predict(unlabeled_features))\n",
    "    print(\"Accuracy:\", accuracy)\n",
    " \n",
    "\n",
    "unlabeled_features = generate_features(windowed_frame)\n",
    "devices_in_window = get_devices_in_window(windowed_frame)\n",
    "\n",
    "test_realistic(iot_classifier, device_classifier, unlabeled_features, devices_in_window)"
   ]
  }
 ],
 "metadata": {
  "kernelspec": {
   "display_name": "Python 3",
   "language": "python",
   "name": "python3"
  },
  "language_info": {
   "codemirror_mode": {
    "name": "ipython",
    "version": 3
   },
   "file_extension": ".py",
   "mimetype": "text/x-python",
   "name": "python",
   "nbconvert_exporter": "python",
   "pygments_lexer": "ipython3",
   "version": "3.11.2"
  },
  "orig_nbformat": 4,
  "vscode": {
   "interpreter": {
    "hash": "916dbcbb3f70747c44a77c7bcd40155683ae19c65e1c03b4aa3499c5328201f1"
   }
  }
 },
 "nbformat": 4,
 "nbformat_minor": 2
}
