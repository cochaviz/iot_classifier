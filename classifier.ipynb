{
 "cells": [
  {
   "cell_type": "code",
   "execution_count": 2,
   "metadata": {},
   "outputs": [],
   "source": [
    "import matplotlib.pyplot as plt\n",
    "import seaborn as sns\n",
    "import pandas as pd\n",
    "import numpy as np\n",
    "from matplotlib.colors import ListedColormap\n",
    "from sklearn import neighbors, model_selection, metrics\n",
    "from sklearn.inspection import DecisionBoundaryDisplay"
   ]
  },
  {
   "cell_type": "code",
   "execution_count": 3,
   "metadata": {},
   "outputs": [
    {
     "name": "stdout",
     "output_type": "stream",
     "text": [
      "Empty DataFrame\n",
      "Columns: []\n",
      "Index: []\n"
     ]
    }
   ],
   "source": [
    "data_folder = \"data/traces/\"\n",
    "\n",
    "def read_date(date: str):\n",
    "    \"\"\"Aggregate data of a single from parts\"\"\"\n",
    "    data = pd.DataFrame()\n",
    "\n",
    "    for i in range(50):\n",
    "        try:\n",
    "            frame = pd.read_csv(data_folder + date + \"-{}.csv\".format(i))\n",
    "            data = pd.concat([data, frame], axis=0)\n",
    "        except OSError:\n",
    "            pass\n",
    "\n",
    "    return data\n",
    "\n",
    "\n",
    "def read_date_part(date_part: str):\n",
    "    \"\"\"Read data of a part of a capture date\"\"\"\n",
    "    data = pd.DataFrame()\n",
    "\n",
    "    try:\n",
    "        frame = pd.read_csv(data_folder + date_part + \".csv\")\n",
    "        data = pd.concat([data, frame], axis=0)\n",
    "    except OSError:\n",
    "        pass\n",
    "\n",
    "    return data\n",
    "\n",
    "data = read_date_part(\"16-09-23\")\n",
    "print(data)"
   ]
  },
  {
   "cell_type": "code",
   "execution_count": 5,
   "metadata": {},
   "outputs": [
    {
     "ename": "KeyError",
     "evalue": "\"None of ['timestamp'] are in the columns\"",
     "output_type": "error",
     "traceback": [
      "\u001b[0;31m---------------------------------------------------------------------------\u001b[0m",
      "\u001b[0;31mKeyError\u001b[0m                                  Traceback (most recent call last)",
      "\u001b[1;32m/home/zohar/Documents/Study/msc/y1/q3/ASA/iot_classifier/classifier.ipynb Cell 3\u001b[0m in \u001b[0;36m<cell line: 26>\u001b[0;34m()\u001b[0m\n\u001b[1;32m     <a href='vscode-notebook-cell:/home/zohar/Documents/Study/msc/y1/q3/ASA/iot_classifier/classifier.ipynb#W2sZmlsZQ%3D%3D?line=22'>23</a>\u001b[0m     \u001b[39mreturn\u001b[39;00m frames\n\u001b[1;32m     <a href='vscode-notebook-cell:/home/zohar/Documents/Study/msc/y1/q3/ASA/iot_classifier/classifier.ipynb#W2sZmlsZQ%3D%3D?line=24'>25</a>\u001b[0m devices \u001b[39m=\u001b[39m pd\u001b[39m.\u001b[39mread_csv(\u001b[39m\"\u001b[39m\u001b[39mdata/list_of_devices.csv\u001b[39m\u001b[39m\"\u001b[39m)\n\u001b[0;32m---> <a href='vscode-notebook-cell:/home/zohar/Documents/Study/msc/y1/q3/ASA/iot_classifier/classifier.ipynb#W2sZmlsZQ%3D%3D?line=25'>26</a>\u001b[0m windowed_frame \u001b[39m=\u001b[39m attach_window_id(data)\n",
      "\u001b[1;32m/home/zohar/Documents/Study/msc/y1/q3/ASA/iot_classifier/classifier.ipynb Cell 3\u001b[0m in \u001b[0;36mattach_window_id\u001b[0;34m(timestamped_frame)\u001b[0m\n\u001b[1;32m      <a href='vscode-notebook-cell:/home/zohar/Documents/Study/msc/y1/q3/ASA/iot_classifier/classifier.ipynb#W2sZmlsZQ%3D%3D?line=0'>1</a>\u001b[0m \u001b[39mdef\u001b[39;00m \u001b[39mattach_window_id\u001b[39m(timestamped_frame: pd\u001b[39m.\u001b[39mDataFrame) \u001b[39m-\u001b[39m\u001b[39m>\u001b[39m \u001b[39mlist\u001b[39m[pd\u001b[39m.\u001b[39mDataFrame]:\n\u001b[1;32m      <a href='vscode-notebook-cell:/home/zohar/Documents/Study/msc/y1/q3/ASA/iot_classifier/classifier.ipynb#W2sZmlsZQ%3D%3D?line=1'>2</a>\u001b[0m     \u001b[39m\"\"\"Slice the dataframe into 1-second intervals\"\"\"\u001b[39;00m\n\u001b[0;32m----> <a href='vscode-notebook-cell:/home/zohar/Documents/Study/msc/y1/q3/ASA/iot_classifier/classifier.ipynb#W2sZmlsZQ%3D%3D?line=2'>3</a>\u001b[0m     timestamped_frame\u001b[39m.\u001b[39;49mset_index(\u001b[39m'\u001b[39;49m\u001b[39mtimestamp\u001b[39;49m\u001b[39m'\u001b[39;49m)\n\u001b[1;32m      <a href='vscode-notebook-cell:/home/zohar/Documents/Study/msc/y1/q3/ASA/iot_classifier/classifier.ipynb#W2sZmlsZQ%3D%3D?line=4'>5</a>\u001b[0m     first_packet_time \u001b[39m=\u001b[39m timestamped_frame\u001b[39m.\u001b[39miloc[\u001b[39m0\u001b[39m]\u001b[39m.\u001b[39mtimestamp\n\u001b[1;32m      <a href='vscode-notebook-cell:/home/zohar/Documents/Study/msc/y1/q3/ASA/iot_classifier/classifier.ipynb#W2sZmlsZQ%3D%3D?line=5'>6</a>\u001b[0m     last_packet_time \u001b[39m=\u001b[39m timestamped_frame\u001b[39m.\u001b[39miloc[\u001b[39m-\u001b[39m\u001b[39m1\u001b[39m]\u001b[39m.\u001b[39mtimestamp\n",
      "File \u001b[0;32m~/.local/lib/python3.10/site-packages/pandas/util/_decorators.py:331\u001b[0m, in \u001b[0;36mdeprecate_nonkeyword_arguments.<locals>.decorate.<locals>.wrapper\u001b[0;34m(*args, **kwargs)\u001b[0m\n\u001b[1;32m    325\u001b[0m \u001b[39mif\u001b[39;00m \u001b[39mlen\u001b[39m(args) \u001b[39m>\u001b[39m num_allow_args:\n\u001b[1;32m    326\u001b[0m     warnings\u001b[39m.\u001b[39mwarn(\n\u001b[1;32m    327\u001b[0m         msg\u001b[39m.\u001b[39mformat(arguments\u001b[39m=\u001b[39m_format_argument_list(allow_args)),\n\u001b[1;32m    328\u001b[0m         \u001b[39mFutureWarning\u001b[39;00m,\n\u001b[1;32m    329\u001b[0m         stacklevel\u001b[39m=\u001b[39mfind_stack_level(),\n\u001b[1;32m    330\u001b[0m     )\n\u001b[0;32m--> 331\u001b[0m \u001b[39mreturn\u001b[39;00m func(\u001b[39m*\u001b[39;49margs, \u001b[39m*\u001b[39;49m\u001b[39m*\u001b[39;49mkwargs)\n",
      "File \u001b[0;32m~/.local/lib/python3.10/site-packages/pandas/core/frame.py:6012\u001b[0m, in \u001b[0;36mDataFrame.set_index\u001b[0;34m(self, keys, drop, append, inplace, verify_integrity)\u001b[0m\n\u001b[1;32m   6009\u001b[0m                 missing\u001b[39m.\u001b[39mappend(col)\n\u001b[1;32m   6011\u001b[0m \u001b[39mif\u001b[39;00m missing:\n\u001b[0;32m-> 6012\u001b[0m     \u001b[39mraise\u001b[39;00m \u001b[39mKeyError\u001b[39;00m(\u001b[39mf\u001b[39m\u001b[39m\"\u001b[39m\u001b[39mNone of \u001b[39m\u001b[39m{\u001b[39;00mmissing\u001b[39m}\u001b[39;00m\u001b[39m are in the columns\u001b[39m\u001b[39m\"\u001b[39m)\n\u001b[1;32m   6014\u001b[0m \u001b[39mif\u001b[39;00m inplace:\n\u001b[1;32m   6015\u001b[0m     frame \u001b[39m=\u001b[39m \u001b[39mself\u001b[39m\n",
      "\u001b[0;31mKeyError\u001b[0m: \"None of ['timestamp'] are in the columns\""
     ]
    }
   ],
   "source": [
    "def attach_window_id(timestamped_frame: pd.DataFrame) -> list[pd.DataFrame]:\n",
    "    \"\"\"Slice the dataframe into 1-second intervals\"\"\"\n",
    "    timestamped_frame.set_index('timestamp')\n",
    "\n",
    "    first_packet_time = timestamped_frame.iloc[0].timestamp\n",
    "    last_packet_time = timestamped_frame.iloc[-1].timestamp\n",
    "\n",
    "    frames = []\n",
    "\n",
    "    ns_in_sec = int(1e9)\n",
    "    window_id = 0\n",
    "\n",
    "    while first_packet_time + window_id * ns_in_sec <= last_packet_time:\n",
    "        from_time = first_packet_time + window_id * ns_in_sec\n",
    "        to_time = first_packet_time + (window_id  + 1) * ns_in_sec\n",
    "\n",
    "        window_mask = (from_time <= timestamped_frame.timestamp) \\\n",
    "            & (timestamped_frame.timestamp <= to_time)\n",
    "\n",
    "        frames.append(timestamped_frame[window_mask])\n",
    "        window_id += 1 \n",
    "\n",
    "    return frames\n",
    "\n",
    "devices = pd.read_csv(\"data/list_of_devices.csv\")\n",
    "windowed_frame = attach_window_id(data)\n"
   ]
  },
  {
   "cell_type": "code",
   "execution_count": null,
   "metadata": {},
   "outputs": [
    {
     "name": "stdout",
     "output_type": "stream",
     "text": [
      "    window_id                         device_name  mode        mean  median  \\\n",
      "0           0                        Smart Things    60   60.000000    60.0   \n",
      "0           0                     Netatmo Welcome    88   88.000000    88.0   \n",
      "0           0                             Dropcam   156  156.000000   156.0   \n",
      "0           0                  Belkin Wemo switch    42   42.000000    42.0   \n",
      "0           0                       Triby Speaker    66   67.333333    66.0   \n",
      "..        ...                                 ...   ...         ...     ...   \n",
      "0        4999                             Dropcam   156  156.000000   156.0   \n",
      "0        4999         Withings Smart Baby Monitor    66   66.000000    66.0   \n",
      "0        4999  TPLink Router Bridge LAN (Gateway)    66   66.000000    66.0   \n",
      "0        5000                        Smart Things    60   60.000000    60.0   \n",
      "0        5000  TPLink Router Bridge LAN (Gateway)    66   62.000000    66.0   \n",
      "\n",
      "      iot  \n",
      "0    True  \n",
      "0    True  \n",
      "0    True  \n",
      "0    True  \n",
      "0    True  \n",
      "..    ...  \n",
      "0    True  \n",
      "0    True  \n",
      "0   False  \n",
      "0    True  \n",
      "0   False  \n",
      "\n",
      "[14978 rows x 6 columns]\n"
     ]
    }
   ],
   "source": [
    "def generate_features(traffic_frame: pd.DataFrame, device_frame: pd.DataFrame, window_id: int):\n",
    "    \"\"\"Calculate the mode, mean, and median of a window\"\"\"\n",
    "    features = pd.DataFrame()\n",
    "\n",
    "    for i in device_frame.index:\n",
    "        mean = traffic_frame.loc[traffic_frame['eth_src'] ==\n",
    "                                 device_frame['eth_src'][i], 'packet_size'].mean()\n",
    "        std = traffic_frame.loc[traffic_frame['eth_src'] == \n",
    "                                 device_frame['eth_src'][i] , 'packet_size'].std()\n",
    "        n_bytes = traffic_frame.loc[traffic_frame['eth_src'] == \n",
    "                                 device_frame['eth_src'][i] , 'packet_size'].sum()\n",
    "\n",
    "        if len(mode) == 0:\n",
    "            continue\n",
    "        \n",
    "        dev_features = pd.DataFrame([[window_id, device_frame['device_name'][i], mean, std, n_bytes, device_frame['iot'][i]]])\n",
    "        features = pd.concat([features, dev_mmm], axis=0)\n",
    "\n",
    "    return features\n",
    "\n",
    "def generate_features_for_all(windowed_data):\n",
    "    features = pd.DataFrame()\n",
    "\n",
    "    for window_id, window in enumerate(windowed_data):\n",
    "        if window_id > 5000:\n",
    "            break\n",
    "        \n",
    "        features = pd.concat([features, generate_features(window, devices, window_id)], axis=0)\n",
    "\n",
    "    features.columns=['window_id', 'device_name', 'mode', 'mean', 'median', 'iot']\n",
    "    return features\n",
    "\n",
    "features = generate_features_for_all(windowed_frame)\n"
   ]
  },
  {
   "cell_type": "code",
   "execution_count": 159,
   "metadata": {},
   "outputs": [
    {
     "name": "stdout",
     "output_type": "stream",
     "text": [
      "Accuracy of mode with uniform: 0.8299065420560747\n",
      "Accuracy of mode with distance: 0.8304405874499332\n",
      "Accuracy of mean with uniform: 0.841388518024032\n",
      "Accuracy of mean with distance: 0.8477970627503337\n",
      "Accuracy of median with uniform: 0.8309746328437917\n",
      "Accuracy of median with distance: 0.8331108144192256\n"
     ]
    }
   ],
   "source": [
    "n_neighbors = 5\n",
    "\n",
    "for metric in features.columns[2:5]:\n",
    "    X = features[metric].values\n",
    "    y = features.iloc[:, -1].values\n",
    "    X = X.reshape(-1, 1)\n",
    "\n",
    "    X_train, X_test, y_train, y_test = model_selection.train_test_split(X, y, test_size=0.25)\n",
    "\n",
    "    for weights in [\"uniform\", \"distance\"]:\n",
    "        # we create an instance of Neighbours Classifier and fit the data.\n",
    "        clf = neighbors.KNeighborsClassifier(n_neighbors, weights=weights)\n",
    "        clf.fit(X_train, y_train)\n",
    "\n",
    "        accuracy = metrics.accuracy_score(y_test, clf.predict(X_test))\n",
    "        print(\"Accuracy of {} with {}: {}\".format(metric, weights, accuracy))"
   ]
  },
  {
   "cell_type": "code",
   "execution_count": null,
   "metadata": {},
   "outputs": [],
   "source": []
  },
  {
   "cell_type": "code",
   "execution_count": null,
   "metadata": {},
   "outputs": [],
   "source": []
  },
  {
   "cell_type": "code",
   "execution_count": null,
   "metadata": {},
   "outputs": [],
   "source": []
  }
 ],
 "metadata": {
  "kernelspec": {
   "display_name": "Python 3",
   "language": "python",
   "name": "python3"
  },
  "language_info": {
   "codemirror_mode": {
    "name": "ipython",
    "version": 3
   },
   "file_extension": ".py",
   "mimetype": "text/x-python",
   "name": "python",
   "nbconvert_exporter": "python",
   "pygments_lexer": "ipython3",
   "version": "3.10.10"
  },
  "orig_nbformat": 4,
  "vscode": {
   "interpreter": {
    "hash": "916dbcbb3f70747c44a77c7bcd40155683ae19c65e1c03b4aa3499c5328201f1"
   }
  }
 },
 "nbformat": 4,
 "nbformat_minor": 2
}
