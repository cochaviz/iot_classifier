{
 "cells": [
  {
   "cell_type": "code",
   "execution_count": 139,
   "metadata": {},
   "outputs": [],
   "source": [
    "import matplotlib.pyplot as plt\n",
    "import seaborn as sns\n",
    "import pandas as pd\n",
    "import numpy as np\n",
    "from matplotlib.colors import ListedColormap\n",
    "from sklearn import neighbors, model_selection, metrics\n",
    "from sklearn.inspection import DecisionBoundaryDisplay"
   ]
  },
  {
   "cell_type": "code",
   "execution_count": 153,
   "metadata": {},
   "outputs": [
    {
     "name": "stdout",
     "output_type": "stream",
     "text": [
      "        packet_id            timestamp  packet_size            eth_src  \\\n",
      "0               0  1474552802257569024           70  18:b7:9e:02:20:44   \n",
      "1               1  1474552802257692160           66  18:b7:9e:02:20:44   \n",
      "2               2  1474552802323085056           66  14:cc:20:51:33:ea   \n",
      "3               3  1474552802383173888           60  d0:52:a8:00:67:5e   \n",
      "4               5  1474552802447910912           88  70:ee:50:18:34:43   \n",
      "...           ...                  ...          ...                ...   \n",
      "902933     947067  1474639199059330816           54  14:cc:20:51:33:ea   \n",
      "902934     947068  1474639199620186112           60  00:24:e4:11:18:a8   \n",
      "902935     947069  1474639199620225024           42  14:cc:20:51:33:ea   \n",
      "902936     947070  1474639199771064064          156  30:8c:fb:2f:e4:b2   \n",
      "902937     947071  1474639199986316032           66  14:cc:20:51:33:ea   \n",
      "\n",
      "                               device_name protocol    iot  \n",
      "0                            Triby Speaker      Raw   True  \n",
      "1                            Triby Speaker      TCP   True  \n",
      "2       TPLink Router Bridge LAN (Gateway)      TCP  False  \n",
      "3                             Smart Things  Padding   True  \n",
      "4                          Netatmo Welcome      DNS   True  \n",
      "...                                    ...      ...    ...  \n",
      "902933  TPLink Router Bridge LAN (Gateway)      TCP  False  \n",
      "902934         Withings Smart Baby Monitor  Padding   True  \n",
      "902935  TPLink Router Bridge LAN (Gateway)      ARP  False  \n",
      "902936                             Dropcam      Raw   True  \n",
      "902937  TPLink Router Bridge LAN (Gateway)      TCP  False  \n",
      "\n",
      "[902938 rows x 7 columns]\n"
     ]
    }
   ],
   "source": [
    "data_folder = \"../data/traces/\"\n",
    "\n",
    "def read_date(date: str):\n",
    "    \"\"\"Aggregate data of a single from parts\"\"\"\n",
    "    data = pd.DataFrame()\n",
    "\n",
    "    for i in range(50):\n",
    "        try:\n",
    "            frame = pd.read_csv(data_folder + date + \"-{}.csv\".format(i))\n",
    "            data = pd.concat([data, frame], axis=0)\n",
    "        except OSError:\n",
    "            pass\n",
    "\n",
    "    return data\n",
    "\n",
    "\n",
    "def read_date_part(date_part: str):\n",
    "    \"\"\"Read data of a part of a capture date\"\"\"\n",
    "    data = pd.DataFrame()\n",
    "\n",
    "    try:\n",
    "        frame = pd.read_csv(data_folder + date_part + \".csv\")\n",
    "        data = pd.concat([data, frame], axis=0)\n",
    "    except OSError:\n",
    "        pass\n",
    "\n",
    "    return data\n",
    "\n",
    "data = read_date_part(\"16-09-23\")\n",
    "print(data)"
   ]
  },
  {
   "cell_type": "code",
   "execution_count": 154,
   "metadata": {},
   "outputs": [],
   "source": [
    "def attach_window_id(timestamped_frame: pd.DataFrame) -> list[pd.DataFrame]:\n",
    "    \"\"\"Slice the dataframe into 1-second intervals\"\"\"\n",
    "    timestamped_frame.set_index('timestamp')\n",
    "\n",
    "    first_packet_time = timestamped_frame.iloc[0].timestamp\n",
    "    last_packet_time = timestamped_frame.iloc[-1].timestamp\n",
    "\n",
    "    frames = []\n",
    "\n",
    "    ns_in_sec = int(1e9)\n",
    "    window_id = 0\n",
    "\n",
    "    while first_packet_time + window_id * ns_in_sec <= last_packet_time:\n",
    "        from_time = first_packet_time + window_id * ns_in_sec\n",
    "        to_time = first_packet_time + (window_id  + 1) * ns_in_sec\n",
    "\n",
    "        window_mask = (from_time <= timestamped_frame.timestamp) \\\n",
    "            & (timestamped_frame.timestamp <= to_time)\n",
    "\n",
    "        frames.append(timestamped_frame[window_mask])\n",
    "        window_id += 1 \n",
    "\n",
    "    return frames\n",
    "\n",
    "devices = pd.read_csv(\"../data/list_of_devices.csv\")\n",
    "windowed_frame = attach_window_id(data)\n"
   ]
  },
  {
   "cell_type": "code",
   "execution_count": 158,
   "metadata": {},
   "outputs": [
    {
     "name": "stdout",
     "output_type": "stream",
     "text": [
      "    window_id                         device_name  mode        mean  median  \\\n",
      "0           0                        Smart Things    60   60.000000    60.0   \n",
      "0           0                     Netatmo Welcome    88   88.000000    88.0   \n",
      "0           0                             Dropcam   156  156.000000   156.0   \n",
      "0           0                  Belkin Wemo switch    42   42.000000    42.0   \n",
      "0           0                       Triby Speaker    66   67.333333    66.0   \n",
      "..        ...                                 ...   ...         ...     ...   \n",
      "0        4999                             Dropcam   156  156.000000   156.0   \n",
      "0        4999         Withings Smart Baby Monitor    66   66.000000    66.0   \n",
      "0        4999  TPLink Router Bridge LAN (Gateway)    66   66.000000    66.0   \n",
      "0        5000                        Smart Things    60   60.000000    60.0   \n",
      "0        5000  TPLink Router Bridge LAN (Gateway)    66   62.000000    66.0   \n",
      "\n",
      "      iot  \n",
      "0    True  \n",
      "0    True  \n",
      "0    True  \n",
      "0    True  \n",
      "0    True  \n",
      "..    ...  \n",
      "0    True  \n",
      "0    True  \n",
      "0   False  \n",
      "0    True  \n",
      "0   False  \n",
      "\n",
      "[14978 rows x 6 columns]\n"
     ]
    }
   ],
   "source": [
    "def mode_mean_med(traffic_frame: pd.DataFrame, device_frame: pd.DataFrame, window_id: int):\n",
    "    \"\"\"Calculate the mode, mean, and median of a window\"\"\"\n",
    "    mmm = pd.DataFrame()\n",
    "\n",
    "    for i in device_frame.index:\n",
    "        mode = traffic_frame.loc[traffic_frame['eth_src'] ==\n",
    "                                 device_frame['eth_src'][i], 'packet_size'].mode()\n",
    "        mean = traffic_frame.loc[traffic_frame['eth_src'] ==\n",
    "                                 device_frame['eth_src'][i], 'packet_size'].mean()\n",
    "        median = traffic_frame.loc[traffic_frame['eth_src'] ==\n",
    "                                   device_frame['eth_src'][i], 'packet_size'].median()\n",
    "\n",
    "        if len(mode) == 0:\n",
    "            continue\n",
    "        \n",
    "        dev_mmm = pd.DataFrame([[window_id, device_frame['device_name'][i], mode.iloc[-1], mean, median, device_frame['iot'][i]]])\n",
    "        mmm = pd.concat([mmm, dev_mmm], axis=0)\n",
    "\n",
    "    return mmm\n",
    "\n",
    "mmm_frame = pd.DataFrame()\n",
    "\n",
    "for window_id, window in enumerate(windowed_frame):\n",
    "    if window_id > 5000:\n",
    "        break\n",
    "    \n",
    "    mmm_frame = pd.concat([mmm_frame, mode_mean_med(window, devices, window_id)], axis=0)\n",
    "\n",
    "mmm_frame.columns=['window_id', 'device_name', 'mode', 'mean', 'median', 'iot']\n",
    "print(mmm_frame)\n"
   ]
  },
  {
   "cell_type": "code",
   "execution_count": 159,
   "metadata": {},
   "outputs": [
    {
     "name": "stdout",
     "output_type": "stream",
     "text": [
      "Accuracy of mode with uniform: 0.8299065420560747\n",
      "Accuracy of mode with distance: 0.8304405874499332\n",
      "Accuracy of mean with uniform: 0.841388518024032\n",
      "Accuracy of mean with distance: 0.8477970627503337\n",
      "Accuracy of median with uniform: 0.8309746328437917\n",
      "Accuracy of median with distance: 0.8331108144192256\n"
     ]
    }
   ],
   "source": [
    "n_neighbors = 5\n",
    "\n",
    "for metric in mmm_frame.columns[2:5]:\n",
    "    X = mmm_frame[metric].values\n",
    "    y = mmm_frame.iloc[:, -1].values\n",
    "    X = X.reshape(-1, 1)\n",
    "\n",
    "    X_train, X_test, y_train, y_test = model_selection.train_test_split(X, y, test_size=0.25)\n",
    "\n",
    "    for weights in [\"uniform\", \"distance\"]:\n",
    "        # we create an instance of Neighbours Classifier and fit the data.\n",
    "        clf = neighbors.KNeighborsClassifier(n_neighbors, weights=weights)\n",
    "        clf.fit(X_train, y_train)\n",
    "\n",
    "        accuracy = metrics.accuracy_score(y_test, clf.predict(X_test))\n",
    "        print(\"Accuracy of {} with {}: {}\".format(metric, weights, accuracy))"
   ]
  },
  {
   "cell_type": "code",
   "execution_count": null,
   "metadata": {},
   "outputs": [],
   "source": []
  },
  {
   "cell_type": "code",
   "execution_count": null,
   "metadata": {},
   "outputs": [],
   "source": []
  },
  {
   "cell_type": "code",
   "execution_count": null,
   "metadata": {},
   "outputs": [],
   "source": []
  }
 ],
 "metadata": {
  "kernelspec": {
   "display_name": "Python 3",
   "language": "python",
   "name": "python3"
  },
  "language_info": {
   "codemirror_mode": {
    "name": "ipython",
    "version": 3
   },
   "file_extension": ".py",
   "mimetype": "text/x-python",
   "name": "python",
   "nbconvert_exporter": "python",
   "pygments_lexer": "ipython3",
   "version": "3.10.9"
  },
  "orig_nbformat": 4,
  "vscode": {
   "interpreter": {
    "hash": "916dbcbb3f70747c44a77c7bcd40155683ae19c65e1c03b4aa3499c5328201f1"
   }
  }
 },
 "nbformat": 4,
 "nbformat_minor": 2
}
