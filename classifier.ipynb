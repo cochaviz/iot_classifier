{
 "cells": [
  {
   "cell_type": "code",
   "execution_count": 204,
   "metadata": {},
   "outputs": [],
   "source": [
    "import matplotlib.pyplot as plt\n",
    "import seaborn as sns\n",
    "import pandas as pd\n",
    "import numpy as np\n",
    "from matplotlib.colors import ListedColormap\n",
    "from sklearn import neighbors, model_selection, metrics\n",
    "from sklearn.inspection import DecisionBoundaryDisplay"
   ]
  },
  {
   "cell_type": "code",
   "execution_count": 205,
   "metadata": {},
   "outputs": [
    {
     "name": "stdout",
     "output_type": "stream",
     "text": [
      "      packet_id            timestamp  packet_size            eth_src  \\\n",
      "0             0  1474552802257569024           70  18:b7:9e:02:20:44   \n",
      "1             1  1474552802257692160           66  18:b7:9e:02:20:44   \n",
      "2             2  1474552802323085056           66  14:cc:20:51:33:ea   \n",
      "3             3  1474552802383173888           60  d0:52:a8:00:67:5e   \n",
      "4             5  1474552802447910912           88  70:ee:50:18:34:43   \n",
      "...         ...                  ...          ...                ...   \n",
      "1863       1996  1474553105698045952           66  ec:1a:59:83:28:11   \n",
      "1864       1997  1474553105698468864           66  ec:1a:59:83:28:11   \n",
      "1865       1998  1474553105698507008           66  ec:1a:59:83:28:11   \n",
      "1866       1999  1474553105698558976           66  ec:1a:59:83:28:11   \n",
      "1867       2000  1474553105700568064           66  ec:1a:59:79:f4:89   \n",
      "\n",
      "                             device_name protocol    iot  \n",
      "0                          Triby Speaker      Raw   True  \n",
      "1                          Triby Speaker      TCP   True  \n",
      "2     TPLink Router Bridge LAN (Gateway)      TCP  False  \n",
      "3                           Smart Things  Padding   True  \n",
      "4                        Netatmo Welcome      DNS   True  \n",
      "...                                  ...      ...    ...  \n",
      "1863           Belkin wemo motion sensor      TCP   True  \n",
      "1864           Belkin wemo motion sensor      TCP   True  \n",
      "1865           Belkin wemo motion sensor      TCP   True  \n",
      "1866           Belkin wemo motion sensor      TCP   True  \n",
      "1867                  Belkin Wemo switch      TCP   True  \n",
      "\n",
      "[1868 rows x 7 columns]\n"
     ]
    }
   ],
   "source": [
    "data_folder = \"data/traces/\"\n",
    "\n",
    "def read_date(date: str):\n",
    "    \"\"\"Aggregate data of a single from parts\"\"\"\n",
    "    data = pd.DataFrame()\n",
    "\n",
    "    for i in range(50):\n",
    "        try:\n",
    "            frame = pd.read_csv(data_folder + date + \"-{}.csv\".format(i))\n",
    "            data = pd.concat([data, frame], axis=0)\n",
    "        except OSError:\n",
    "            pass\n",
    "\n",
    "    return data\n",
    "\n",
    "\n",
    "def read_date_part(date_part: str):\n",
    "    \"\"\"Read data of a part of a capture date\"\"\"\n",
    "    data = pd.DataFrame()\n",
    "\n",
    "    try:\n",
    "        frame = pd.read_csv(data_folder + date_part + \".csv\")\n",
    "        data = pd.concat([data, frame], axis=0)\n",
    "    except OSError:\n",
    "        pass\n",
    "\n",
    "    return data\n",
    "\n",
    "data = read_date_part(\"16-09-23\")\n",
    "data.set_index(\"timestamp\")\n",
    "print(data)"
   ]
  },
  {
   "cell_type": "code",
   "execution_count": 206,
   "metadata": {},
   "outputs": [
    {
     "name": "stdout",
     "output_type": "stream",
     "text": [
      "           packet_id            timestamp  packet_size            eth_src  \\\n",
      "window_id                                                                   \n",
      "0                  0  1474552802257569024           70  18:b7:9e:02:20:44   \n",
      "0                  1  1474552802257692160           66  18:b7:9e:02:20:44   \n",
      "0                  2  1474552802323085056           66  14:cc:20:51:33:ea   \n",
      "0                  3  1474552802383173888           60  d0:52:a8:00:67:5e   \n",
      "0                  5  1474552802447910912           88  70:ee:50:18:34:43   \n",
      "...              ...                  ...          ...                ...   \n",
      "303             1996  1474553105698045952           66  ec:1a:59:83:28:11   \n",
      "303             1997  1474553105698468864           66  ec:1a:59:83:28:11   \n",
      "303             1998  1474553105698507008           66  ec:1a:59:83:28:11   \n",
      "303             1999  1474553105698558976           66  ec:1a:59:83:28:11   \n",
      "303             2000  1474553105700568064           66  ec:1a:59:79:f4:89   \n",
      "\n",
      "                                  device_name protocol    iot  \n",
      "window_id                                                      \n",
      "0                               Triby Speaker      Raw   True  \n",
      "0                               Triby Speaker      TCP   True  \n",
      "0          TPLink Router Bridge LAN (Gateway)      TCP  False  \n",
      "0                                Smart Things  Padding   True  \n",
      "0                             Netatmo Welcome      DNS   True  \n",
      "...                                       ...      ...    ...  \n",
      "303                 Belkin wemo motion sensor      TCP   True  \n",
      "303                 Belkin wemo motion sensor      TCP   True  \n",
      "303                 Belkin wemo motion sensor      TCP   True  \n",
      "303                 Belkin wemo motion sensor      TCP   True  \n",
      "303                        Belkin Wemo switch      TCP   True  \n",
      "\n",
      "[1868 rows x 7 columns]\n"
     ]
    }
   ],
   "source": [
    "def attach_window_id(timestamped_frame: pd.DataFrame) -> list[pd.DataFrame]:\n",
    "    \"\"\"Slice the dataframe into 1-second intervals\"\"\"\n",
    "    first_packet_time = timestamped_frame.iloc[0]['timestamp']\n",
    "    last_packet_time = timestamped_frame.iloc[-1]['timestamp']\n",
    "    windowed_frame = timestamped_frame.set_index('timestamp', drop=False) \n",
    "\n",
    "    ns_in_sec = int(1e9)\n",
    "    number_of_windows = int((last_packet_time - first_packet_time) / ns_in_sec) + 1\n",
    "\n",
    "    try:\n",
    "        windowed_frame.insert(0, value=0, column=\"window_id\")\n",
    "    except Exception as e:\n",
    "        print(\"It seems like the column 'window_id' already exists. Just updating values...\")\n",
    "        print(e)\n",
    "    finally:\n",
    "        windowed_frame.window_id.astype(np.int64)\n",
    "\n",
    "    for window_id in range(0, number_of_windows):\n",
    "        from_time = first_packet_time + window_id * ns_in_sec\n",
    "        to_time = first_packet_time + (window_id  + 1) * ns_in_sec\n",
    "        windowed_frame.loc[from_time:to_time, 'window_id'] = window_id\n",
    "    \n",
    "    windowed_frame.set_index('window_id', inplace=True)\n",
    "    return windowed_frame\n",
    "\n",
    "\n",
    "devices = pd.read_csv(\"data/list_of_devices.csv\")\n",
    "windowed_frame = attach_window_id(data)\n",
    "print(windowed_frame)"
   ]
  },
  {
   "cell_type": "code",
   "execution_count": 291,
   "metadata": {},
   "outputs": [],
   "source": [
    "def generate_features_labeled(windowed_frame: pd.DataFrame, device_frame: pd.DataFrame):\n",
    "    \"\"\"Calculate the mode, mean, and median of a window\"\"\"\n",
    "    features = pd.DataFrame()\n",
    "\n",
    "    for device_index in device_frame.index:\n",
    "        device = device_frame.iloc[device_index]\n",
    "        device_packets = windowed_frame.loc[windowed_frame['eth_src'] == device['eth_src']]\n",
    "        device_features = generate_features(device_packets)\n",
    "\n",
    "        device_features.insert(len(device_features.columns), \"device_name\", device['device_name'])\n",
    "        device_features.insert(len(device_features.columns), \"iot\", device['iot'])\n",
    "\n",
    "        features = pd.concat([features, device_features])\n",
    "\n",
    "    features.columns = [\"window_id\", \"mean\", \"std\", \"n_bytes\", \"device_name\", \"iot\"]\n",
    "    features.set_index(\"window_id\", inplace=True)\n",
    "\n",
    "    return features\n",
    "\n",
    "def generate_features(windowed_frame: pd.DataFrame):\n",
    "    features =  pd.DataFrame()\n",
    "\n",
    "    for window_id in windowed_frame.index.unique():\n",
    "        packet_sizes = windowed_frame.loc[window_id, 'packet_size']\n",
    "\n",
    "        mean = packet_sizes.mean()\n",
    "        std = packet_sizes.std()\n",
    "        n_bytes = packet_sizes.sum()\n",
    "\n",
    "        features = pd.concat([features, pd.DataFrame([[window_id, mean, std, n_bytes]])], axis=0)\n",
    "\n",
    "    return features\n",
    "\n",
    "def get_devices_in_window(windowed_frame: pd.DataFrame):\n",
    "    devices_in_window = pd.DataFrame()\n",
    "    \n",
    "    for window_id in windowed_frame.index.unique():\n",
    "        devices = windowed_frame.loc[window_id]['device_name']\n",
    "        # iot = windowed_frame.loc[window_id]['iot']\n",
    "\n",
    "        if not isinstance(devices, str):\n",
    "            devices = devices.unique() \n",
    "            \n",
    "        devices_in_window = pd.concat([devices_in_window, pd.DataFrame({\"window_id\": window_id, \"devices\": devices})])\n",
    "\n",
    "    return devices_in_window\n",
    "\n",
    "labeled_features = generate_features_labeled(windowed_frame, devices)"
   ]
  },
  {
   "cell_type": "code",
   "execution_count": 295,
   "metadata": {},
   "outputs": [
    {
     "name": "stdout",
     "output_type": "stream",
     "text": [
      "Accuracy with weight uniform: 0.84\n",
      "Accuracy with weight distance: 0.8533333333333334\n"
     ]
    }
   ],
   "source": [
    "def train_and_test_iot_classifier(labeled_features):\n",
    "    n_neighbors = 5\n",
    "\n",
    "    X = labeled_features.iloc[:, 1:3]\n",
    "    y = labeled_features.iloc[:]['iot']\n",
    "\n",
    "    X_train, X_test, y_train, y_test = model_selection.train_test_split(X, y, test_size=0.25)\n",
    "\n",
    "    for weights in [\"uniform\", \"distance\"]:\n",
    "        # we create an instance of Neighbours Classifier and fit the data.\n",
    "        clf = neighbors.KNeighborsClassifier(n_neighbors, weights=weights)\n",
    "        clf.fit(X_train, y_train)\n",
    "\n",
    "        accuracy = metrics.accuracy_score(y_test, clf.predict(X_test))\n",
    "        print(\"Accuracy with weight {}: {}\".format(weights, accuracy))\n",
    "\n",
    "    return clf\n",
    "\n",
    "iot_classfier = train_and_test_iot_classifier(labeled_features)"
   ]
  },
  {
   "cell_type": "code",
   "execution_count": 296,
   "metadata": {},
   "outputs": [
    {
     "name": "stdout",
     "output_type": "stream",
     "text": [
      "Accuracy with weight uniform: 0.7483443708609272\n",
      "Accuracy with weight distance: 0.7748344370860927\n"
     ]
    }
   ],
   "source": [
    "def train_and_test_device_classifier(labeled_features):\n",
    "    iot_features = labeled_features.loc[labeled_features['iot'] == True]\n",
    "    n_neighbors = 5\n",
    "\n",
    "    X = iot_features.iloc[:, 1:3]\n",
    "    y = iot_features.iloc[:]['device_name']\n",
    "\n",
    "    X_train, X_test, y_train, y_test = model_selection.train_test_split(X, y, test_size=0.25)\n",
    "\n",
    "    for weights in [\"uniform\", \"distance\"]:\n",
    "        # we create an instance of Neighbours Classifier and fit the data.\n",
    "        clf = neighbors.KNeighborsClassifier(n_neighbors, weights=weights)\n",
    "        clf.fit(X_train, y_train)\n",
    "\n",
    "        accuracy = metrics.accuracy_score(y_test, clf.predict(X_test))\n",
    "        print(\"Accuracy with weight {}: {}\".format(weights, accuracy))\n",
    "\n",
    "    return clf\n",
    "\n",
    "device_classifier = train_and_test_device_classifier(labeled_features)"
   ]
  },
  {
   "cell_type": "code",
   "execution_count": 297,
   "metadata": {},
   "outputs": [
    {
     "ename": "ValueError",
     "evalue": "If using all scalar values, you must pass an index",
     "output_type": "error",
     "traceback": [
      "\u001b[0;31m---------------------------------------------------------------------------\u001b[0m",
      "\u001b[0;31mValueError\u001b[0m                                Traceback (most recent call last)",
      "\u001b[1;32m/home/zohar/Documents/Study/msc/y1/q3/ASA/iot_classifier/classifier.ipynb Cell 7\u001b[0m in \u001b[0;36m<cell line: 9>\u001b[0;34m()\u001b[0m\n\u001b[1;32m      <a href='vscode-notebook-cell:/home/zohar/Documents/Study/msc/y1/q3/ASA/iot_classifier/classifier.ipynb#X61sZmlsZQ%3D%3D?line=5'>6</a>\u001b[0m     \u001b[39mprint\u001b[39m(\u001b[39m\"\u001b[39m\u001b[39mAccuracy:\u001b[39m\u001b[39m\"\u001b[39m, accuracy)\n\u001b[1;32m      <a href='vscode-notebook-cell:/home/zohar/Documents/Study/msc/y1/q3/ASA/iot_classifier/classifier.ipynb#X61sZmlsZQ%3D%3D?line=7'>8</a>\u001b[0m unlabeled_features \u001b[39m=\u001b[39m generate_features(windowed_frame)\n\u001b[0;32m----> <a href='vscode-notebook-cell:/home/zohar/Documents/Study/msc/y1/q3/ASA/iot_classifier/classifier.ipynb#X61sZmlsZQ%3D%3D?line=8'>9</a>\u001b[0m devices_in_window \u001b[39m=\u001b[39m get_devices_in_window(windowed_frame)\n\u001b[1;32m     <a href='vscode-notebook-cell:/home/zohar/Documents/Study/msc/y1/q3/ASA/iot_classifier/classifier.ipynb#X61sZmlsZQ%3D%3D?line=10'>11</a>\u001b[0m test_realistic(iot_classifier, device_classifier, unlabeled_features, devices_in_window)\n",
      "\u001b[1;32m/home/zohar/Documents/Study/msc/y1/q3/ASA/iot_classifier/classifier.ipynb Cell 7\u001b[0m in \u001b[0;36mget_devices_in_window\u001b[0;34m(windowed_frame)\u001b[0m\n\u001b[1;32m     <a href='vscode-notebook-cell:/home/zohar/Documents/Study/msc/y1/q3/ASA/iot_classifier/classifier.ipynb#X61sZmlsZQ%3D%3D?line=40'>41</a>\u001b[0m     \u001b[39mif\u001b[39;00m \u001b[39mnot\u001b[39;00m \u001b[39misinstance\u001b[39m(devices, \u001b[39mstr\u001b[39m):\n\u001b[1;32m     <a href='vscode-notebook-cell:/home/zohar/Documents/Study/msc/y1/q3/ASA/iot_classifier/classifier.ipynb#X61sZmlsZQ%3D%3D?line=41'>42</a>\u001b[0m         devices \u001b[39m=\u001b[39m devices\u001b[39m.\u001b[39munique() \n\u001b[0;32m---> <a href='vscode-notebook-cell:/home/zohar/Documents/Study/msc/y1/q3/ASA/iot_classifier/classifier.ipynb#X61sZmlsZQ%3D%3D?line=43'>44</a>\u001b[0m     devices_in_window \u001b[39m=\u001b[39m pd\u001b[39m.\u001b[39mconcat([devices_in_window, pd\u001b[39m.\u001b[39;49mDataFrame({\u001b[39m\"\u001b[39;49m\u001b[39mwindow_id\u001b[39;49m\u001b[39m\"\u001b[39;49m: window_id, \u001b[39m\"\u001b[39;49m\u001b[39mdevices\u001b[39;49m\u001b[39m\"\u001b[39;49m: devices})])\n\u001b[1;32m     <a href='vscode-notebook-cell:/home/zohar/Documents/Study/msc/y1/q3/ASA/iot_classifier/classifier.ipynb#X61sZmlsZQ%3D%3D?line=45'>46</a>\u001b[0m \u001b[39mreturn\u001b[39;00m devices_in_window\n",
      "File \u001b[0;32m~/.local/lib/python3.10/site-packages/pandas/core/frame.py:664\u001b[0m, in \u001b[0;36mDataFrame.__init__\u001b[0;34m(self, data, index, columns, dtype, copy)\u001b[0m\n\u001b[1;32m    658\u001b[0m     mgr \u001b[39m=\u001b[39m \u001b[39mself\u001b[39m\u001b[39m.\u001b[39m_init_mgr(\n\u001b[1;32m    659\u001b[0m         data, axes\u001b[39m=\u001b[39m{\u001b[39m\"\u001b[39m\u001b[39mindex\u001b[39m\u001b[39m\"\u001b[39m: index, \u001b[39m\"\u001b[39m\u001b[39mcolumns\u001b[39m\u001b[39m\"\u001b[39m: columns}, dtype\u001b[39m=\u001b[39mdtype, copy\u001b[39m=\u001b[39mcopy\n\u001b[1;32m    660\u001b[0m     )\n\u001b[1;32m    662\u001b[0m \u001b[39melif\u001b[39;00m \u001b[39misinstance\u001b[39m(data, \u001b[39mdict\u001b[39m):\n\u001b[1;32m    663\u001b[0m     \u001b[39m# GH#38939 de facto copy defaults to False only in non-dict cases\u001b[39;00m\n\u001b[0;32m--> 664\u001b[0m     mgr \u001b[39m=\u001b[39m dict_to_mgr(data, index, columns, dtype\u001b[39m=\u001b[39;49mdtype, copy\u001b[39m=\u001b[39;49mcopy, typ\u001b[39m=\u001b[39;49mmanager)\n\u001b[1;32m    665\u001b[0m \u001b[39melif\u001b[39;00m \u001b[39misinstance\u001b[39m(data, ma\u001b[39m.\u001b[39mMaskedArray):\n\u001b[1;32m    666\u001b[0m     \u001b[39mimport\u001b[39;00m \u001b[39mnumpy\u001b[39;00m\u001b[39m.\u001b[39;00m\u001b[39mma\u001b[39;00m\u001b[39m.\u001b[39;00m\u001b[39mmrecords\u001b[39;00m \u001b[39mas\u001b[39;00m \u001b[39mmrecords\u001b[39;00m\n",
      "File \u001b[0;32m~/.local/lib/python3.10/site-packages/pandas/core/internals/construction.py:493\u001b[0m, in \u001b[0;36mdict_to_mgr\u001b[0;34m(data, index, columns, dtype, typ, copy)\u001b[0m\n\u001b[1;32m    489\u001b[0m     \u001b[39melse\u001b[39;00m:\n\u001b[1;32m    490\u001b[0m         \u001b[39m# dtype check to exclude e.g. range objects, scalars\u001b[39;00m\n\u001b[1;32m    491\u001b[0m         arrays \u001b[39m=\u001b[39m [x\u001b[39m.\u001b[39mcopy() \u001b[39mif\u001b[39;00m \u001b[39mhasattr\u001b[39m(x, \u001b[39m\"\u001b[39m\u001b[39mdtype\u001b[39m\u001b[39m\"\u001b[39m) \u001b[39melse\u001b[39;00m x \u001b[39mfor\u001b[39;00m x \u001b[39min\u001b[39;00m arrays]\n\u001b[0;32m--> 493\u001b[0m \u001b[39mreturn\u001b[39;00m arrays_to_mgr(arrays, columns, index, dtype\u001b[39m=\u001b[39;49mdtype, typ\u001b[39m=\u001b[39;49mtyp, consolidate\u001b[39m=\u001b[39;49mcopy)\n",
      "File \u001b[0;32m~/.local/lib/python3.10/site-packages/pandas/core/internals/construction.py:118\u001b[0m, in \u001b[0;36marrays_to_mgr\u001b[0;34m(arrays, columns, index, dtype, verify_integrity, typ, consolidate)\u001b[0m\n\u001b[1;32m    115\u001b[0m \u001b[39mif\u001b[39;00m verify_integrity:\n\u001b[1;32m    116\u001b[0m     \u001b[39m# figure out the index, if necessary\u001b[39;00m\n\u001b[1;32m    117\u001b[0m     \u001b[39mif\u001b[39;00m index \u001b[39mis\u001b[39;00m \u001b[39mNone\u001b[39;00m:\n\u001b[0;32m--> 118\u001b[0m         index \u001b[39m=\u001b[39m _extract_index(arrays)\n\u001b[1;32m    119\u001b[0m     \u001b[39melse\u001b[39;00m:\n\u001b[1;32m    120\u001b[0m         index \u001b[39m=\u001b[39m ensure_index(index)\n",
      "File \u001b[0;32m~/.local/lib/python3.10/site-packages/pandas/core/internals/construction.py:656\u001b[0m, in \u001b[0;36m_extract_index\u001b[0;34m(data)\u001b[0m\n\u001b[1;32m    653\u001b[0m         \u001b[39mraise\u001b[39;00m \u001b[39mValueError\u001b[39;00m(\u001b[39m\"\u001b[39m\u001b[39mPer-column arrays must each be 1-dimensional\u001b[39m\u001b[39m\"\u001b[39m)\n\u001b[1;32m    655\u001b[0m \u001b[39mif\u001b[39;00m \u001b[39mnot\u001b[39;00m indexes \u001b[39mand\u001b[39;00m \u001b[39mnot\u001b[39;00m raw_lengths:\n\u001b[0;32m--> 656\u001b[0m     \u001b[39mraise\u001b[39;00m \u001b[39mValueError\u001b[39;00m(\u001b[39m\"\u001b[39m\u001b[39mIf using all scalar values, you must pass an index\u001b[39m\u001b[39m\"\u001b[39m)\n\u001b[1;32m    658\u001b[0m \u001b[39melif\u001b[39;00m have_series:\n\u001b[1;32m    659\u001b[0m     index \u001b[39m=\u001b[39m union_indexes(indexes)\n",
      "\u001b[0;31mValueError\u001b[0m: If using all scalar values, you must pass an index"
     ]
    }
   ],
   "source": [
    "def test_realistic(iot_classifier, device_classifier, unlabeled_features, devices_in_window):\n",
    "    assert len(unlabeled_features) == len(devices_in_window)\n",
    "\n",
    "    # accuracy = metrics.accuracy_score(devices_in_window, iot_classifier.predict(unlabeled_features))\n",
    "    accuracy = metrics.accuracy_score(devices_in_window, device_classifier.predict(unlabeled_features))\n",
    "    print(\"Accuracy:\", accuracy)\n",
    "\n",
    "def custom_accuracy(y_true: pd.[str], y_predict: str):\n",
    " \n",
    "\n",
    "unlabeled_features = generate_features(windowed_frame)\n",
    "devices_in_window = get_devices_in_window(windowed_frame)\n",
    "\n",
    "test_realistic(iot_classifier, device_classifier, unlabeled_features, devices_in_window)"
   ]
  },
  {
   "cell_type": "code",
   "execution_count": null,
   "metadata": {},
   "outputs": [],
   "source": []
  }
 ],
 "metadata": {
  "kernelspec": {
   "display_name": "Python 3",
   "language": "python",
   "name": "python3"
  },
  "language_info": {
   "codemirror_mode": {
    "name": "ipython",
    "version": 3
   },
   "file_extension": ".py",
   "mimetype": "text/x-python",
   "name": "python",
   "nbconvert_exporter": "python",
   "pygments_lexer": "ipython3",
   "version": "3.10.10"
  },
  "orig_nbformat": 4,
  "vscode": {
   "interpreter": {
    "hash": "916dbcbb3f70747c44a77c7bcd40155683ae19c65e1c03b4aa3499c5328201f1"
   }
  }
 },
 "nbformat": 4,
 "nbformat_minor": 2
}
