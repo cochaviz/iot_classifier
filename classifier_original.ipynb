{
 "cells": [
  {
   "cell_type": "code",
   "execution_count": 1,
   "metadata": {},
   "outputs": [],
   "source": [
    "import matplotlib.pyplot as plt\n",
    "import seaborn as sns\n",
    "import pandas as pd\n",
    "import glob\n",
    "import numpy as np\n",
    "from matplotlib.colors import ListedColormap\n",
    "from sklearn import neighbors, model_selection, metrics\n",
    "from sklearn.inspection import DecisionBoundaryDisplay"
   ]
  },
  {
   "cell_type": "markdown",
   "source": [],
   "metadata": {
    "collapsed": false
   }
  },
  {
   "cell_type": "code",
   "execution_count": 83,
   "metadata": {},
   "outputs": [
    {
     "ename": "KeyboardInterrupt",
     "evalue": "",
     "output_type": "error",
     "traceback": [
      "\u001B[1;31m---------------------------------------------------------------------------\u001B[0m",
      "\u001B[1;31mKeyboardInterrupt\u001B[0m                         Traceback (most recent call last)",
      "File \u001B[1;32m<timed exec>:23\u001B[0m\n",
      "File \u001B[1;32m<timed exec>:15\u001B[0m, in \u001B[0;36mread_data\u001B[1;34m()\u001B[0m\n",
      "File \u001B[1;32m~\\Desktop\\HackingLab\\iot_classifier\\venv\\lib\\site-packages\\pandas\\util\\_decorators.py:211\u001B[0m, in \u001B[0;36mdeprecate_kwarg.<locals>._deprecate_kwarg.<locals>.wrapper\u001B[1;34m(*args, **kwargs)\u001B[0m\n\u001B[0;32m    209\u001B[0m     \u001B[38;5;28;01melse\u001B[39;00m:\n\u001B[0;32m    210\u001B[0m         kwargs[new_arg_name] \u001B[38;5;241m=\u001B[39m new_arg_value\n\u001B[1;32m--> 211\u001B[0m \u001B[38;5;28;01mreturn\u001B[39;00m func(\u001B[38;5;241m*\u001B[39margs, \u001B[38;5;241m*\u001B[39m\u001B[38;5;241m*\u001B[39mkwargs)\n",
      "File \u001B[1;32m~\\Desktop\\HackingLab\\iot_classifier\\venv\\lib\\site-packages\\pandas\\util\\_decorators.py:331\u001B[0m, in \u001B[0;36mdeprecate_nonkeyword_arguments.<locals>.decorate.<locals>.wrapper\u001B[1;34m(*args, **kwargs)\u001B[0m\n\u001B[0;32m    325\u001B[0m \u001B[38;5;28;01mif\u001B[39;00m \u001B[38;5;28mlen\u001B[39m(args) \u001B[38;5;241m>\u001B[39m num_allow_args:\n\u001B[0;32m    326\u001B[0m     warnings\u001B[38;5;241m.\u001B[39mwarn(\n\u001B[0;32m    327\u001B[0m         msg\u001B[38;5;241m.\u001B[39mformat(arguments\u001B[38;5;241m=\u001B[39m_format_argument_list(allow_args)),\n\u001B[0;32m    328\u001B[0m         \u001B[38;5;167;01mFutureWarning\u001B[39;00m,\n\u001B[0;32m    329\u001B[0m         stacklevel\u001B[38;5;241m=\u001B[39mfind_stack_level(),\n\u001B[0;32m    330\u001B[0m     )\n\u001B[1;32m--> 331\u001B[0m \u001B[38;5;28;01mreturn\u001B[39;00m func(\u001B[38;5;241m*\u001B[39margs, \u001B[38;5;241m*\u001B[39m\u001B[38;5;241m*\u001B[39mkwargs)\n",
      "File \u001B[1;32m~\\Desktop\\HackingLab\\iot_classifier\\venv\\lib\\site-packages\\pandas\\io\\parsers\\readers.py:950\u001B[0m, in \u001B[0;36mread_csv\u001B[1;34m(filepath_or_buffer, sep, delimiter, header, names, index_col, usecols, squeeze, prefix, mangle_dupe_cols, dtype, engine, converters, true_values, false_values, skipinitialspace, skiprows, skipfooter, nrows, na_values, keep_default_na, na_filter, verbose, skip_blank_lines, parse_dates, infer_datetime_format, keep_date_col, date_parser, dayfirst, cache_dates, iterator, chunksize, compression, thousands, decimal, lineterminator, quotechar, quoting, doublequote, escapechar, comment, encoding, encoding_errors, dialect, error_bad_lines, warn_bad_lines, on_bad_lines, delim_whitespace, low_memory, memory_map, float_precision, storage_options)\u001B[0m\n\u001B[0;32m    935\u001B[0m kwds_defaults \u001B[38;5;241m=\u001B[39m _refine_defaults_read(\n\u001B[0;32m    936\u001B[0m     dialect,\n\u001B[0;32m    937\u001B[0m     delimiter,\n\u001B[1;32m   (...)\u001B[0m\n\u001B[0;32m    946\u001B[0m     defaults\u001B[38;5;241m=\u001B[39m{\u001B[38;5;124m\"\u001B[39m\u001B[38;5;124mdelimiter\u001B[39m\u001B[38;5;124m\"\u001B[39m: \u001B[38;5;124m\"\u001B[39m\u001B[38;5;124m,\u001B[39m\u001B[38;5;124m\"\u001B[39m},\n\u001B[0;32m    947\u001B[0m )\n\u001B[0;32m    948\u001B[0m kwds\u001B[38;5;241m.\u001B[39mupdate(kwds_defaults)\n\u001B[1;32m--> 950\u001B[0m \u001B[38;5;28;01mreturn\u001B[39;00m \u001B[43m_read\u001B[49m\u001B[43m(\u001B[49m\u001B[43mfilepath_or_buffer\u001B[49m\u001B[43m,\u001B[49m\u001B[43m \u001B[49m\u001B[43mkwds\u001B[49m\u001B[43m)\u001B[49m\n",
      "File \u001B[1;32m~\\Desktop\\HackingLab\\iot_classifier\\venv\\lib\\site-packages\\pandas\\io\\parsers\\readers.py:611\u001B[0m, in \u001B[0;36m_read\u001B[1;34m(filepath_or_buffer, kwds)\u001B[0m\n\u001B[0;32m    608\u001B[0m     \u001B[38;5;28;01mreturn\u001B[39;00m parser\n\u001B[0;32m    610\u001B[0m \u001B[38;5;28;01mwith\u001B[39;00m parser:\n\u001B[1;32m--> 611\u001B[0m     \u001B[38;5;28;01mreturn\u001B[39;00m \u001B[43mparser\u001B[49m\u001B[38;5;241;43m.\u001B[39;49m\u001B[43mread\u001B[49m\u001B[43m(\u001B[49m\u001B[43mnrows\u001B[49m\u001B[43m)\u001B[49m\n",
      "File \u001B[1;32m~\\Desktop\\HackingLab\\iot_classifier\\venv\\lib\\site-packages\\pandas\\io\\parsers\\readers.py:1778\u001B[0m, in \u001B[0;36mTextFileReader.read\u001B[1;34m(self, nrows)\u001B[0m\n\u001B[0;32m   1771\u001B[0m nrows \u001B[38;5;241m=\u001B[39m validate_integer(\u001B[38;5;124m\"\u001B[39m\u001B[38;5;124mnrows\u001B[39m\u001B[38;5;124m\"\u001B[39m, nrows)\n\u001B[0;32m   1772\u001B[0m \u001B[38;5;28;01mtry\u001B[39;00m:\n\u001B[0;32m   1773\u001B[0m     \u001B[38;5;66;03m# error: \"ParserBase\" has no attribute \"read\"\u001B[39;00m\n\u001B[0;32m   1774\u001B[0m     (\n\u001B[0;32m   1775\u001B[0m         index,\n\u001B[0;32m   1776\u001B[0m         columns,\n\u001B[0;32m   1777\u001B[0m         col_dict,\n\u001B[1;32m-> 1778\u001B[0m     ) \u001B[38;5;241m=\u001B[39m \u001B[38;5;28;43mself\u001B[39;49m\u001B[38;5;241;43m.\u001B[39;49m\u001B[43m_engine\u001B[49m\u001B[38;5;241;43m.\u001B[39;49m\u001B[43mread\u001B[49m\u001B[43m(\u001B[49m\u001B[43m  \u001B[49m\u001B[38;5;66;43;03m# type: ignore[attr-defined]\u001B[39;49;00m\n\u001B[0;32m   1779\u001B[0m \u001B[43m        \u001B[49m\u001B[43mnrows\u001B[49m\n\u001B[0;32m   1780\u001B[0m \u001B[43m    \u001B[49m\u001B[43m)\u001B[49m\n\u001B[0;32m   1781\u001B[0m \u001B[38;5;28;01mexcept\u001B[39;00m \u001B[38;5;167;01mException\u001B[39;00m:\n\u001B[0;32m   1782\u001B[0m     \u001B[38;5;28mself\u001B[39m\u001B[38;5;241m.\u001B[39mclose()\n",
      "File \u001B[1;32m~\\Desktop\\HackingLab\\iot_classifier\\venv\\lib\\site-packages\\pandas\\io\\parsers\\c_parser_wrapper.py:230\u001B[0m, in \u001B[0;36mCParserWrapper.read\u001B[1;34m(self, nrows)\u001B[0m\n\u001B[0;32m    228\u001B[0m \u001B[38;5;28;01mtry\u001B[39;00m:\n\u001B[0;32m    229\u001B[0m     \u001B[38;5;28;01mif\u001B[39;00m \u001B[38;5;28mself\u001B[39m\u001B[38;5;241m.\u001B[39mlow_memory:\n\u001B[1;32m--> 230\u001B[0m         chunks \u001B[38;5;241m=\u001B[39m \u001B[38;5;28;43mself\u001B[39;49m\u001B[38;5;241;43m.\u001B[39;49m\u001B[43m_reader\u001B[49m\u001B[38;5;241;43m.\u001B[39;49m\u001B[43mread_low_memory\u001B[49m\u001B[43m(\u001B[49m\u001B[43mnrows\u001B[49m\u001B[43m)\u001B[49m\n\u001B[0;32m    231\u001B[0m         \u001B[38;5;66;03m# destructive to chunks\u001B[39;00m\n\u001B[0;32m    232\u001B[0m         data \u001B[38;5;241m=\u001B[39m _concatenate_chunks(chunks)\n",
      "File \u001B[1;32m~\\Desktop\\HackingLab\\iot_classifier\\venv\\lib\\site-packages\\pandas\\_libs\\parsers.pyx:808\u001B[0m, in \u001B[0;36mpandas._libs.parsers.TextReader.read_low_memory\u001B[1;34m()\u001B[0m\n",
      "File \u001B[1;32m~\\Desktop\\HackingLab\\iot_classifier\\venv\\lib\\site-packages\\pandas\\_libs\\parsers.pyx:890\u001B[0m, in \u001B[0;36mpandas._libs.parsers.TextReader._read_rows\u001B[1;34m()\u001B[0m\n",
      "File \u001B[1;32m~\\Desktop\\HackingLab\\iot_classifier\\venv\\lib\\site-packages\\pandas\\_libs\\parsers.pyx:1037\u001B[0m, in \u001B[0;36mpandas._libs.parsers.TextReader._convert_column_data\u001B[1;34m()\u001B[0m\n",
      "File \u001B[1;32m~\\Desktop\\HackingLab\\iot_classifier\\venv\\lib\\site-packages\\pandas\\_libs\\parsers.pyx:1083\u001B[0m, in \u001B[0;36mpandas._libs.parsers.TextReader._convert_tokens\u001B[1;34m()\u001B[0m\n",
      "File \u001B[1;32m~\\Desktop\\HackingLab\\iot_classifier\\venv\\lib\\site-packages\\pandas\\_libs\\parsers.pyx:1158\u001B[0m, in \u001B[0;36mpandas._libs.parsers.TextReader._convert_with_dtype\u001B[1;34m()\u001B[0m\n",
      "File \u001B[1;32m~\\Desktop\\HackingLab\\iot_classifier\\venv\\lib\\site-packages\\pandas\\core\\dtypes\\common.py:1433\u001B[0m, in \u001B[0;36mis_extension_array_dtype\u001B[1;34m(arr_or_dtype)\u001B[0m\n\u001B[0;32m   1424\u001B[0m     \u001B[38;5;66;03m# Note: if other EA dtypes are ever held in HybridBlock, exclude those\u001B[39;00m\n\u001B[0;32m   1425\u001B[0m     \u001B[38;5;66;03m#  here too.\u001B[39;00m\n\u001B[0;32m   1426\u001B[0m     \u001B[38;5;66;03m# NB: need to check DatetimeTZDtype and not is_datetime64tz_dtype\u001B[39;00m\n\u001B[0;32m   1427\u001B[0m     \u001B[38;5;66;03m#  to exclude ArrowTimestampUSDtype\u001B[39;00m\n\u001B[0;32m   1428\u001B[0m     \u001B[38;5;28;01mreturn\u001B[39;00m \u001B[38;5;28misinstance\u001B[39m(dtype, ExtensionDtype) \u001B[38;5;129;01mand\u001B[39;00m \u001B[38;5;129;01mnot\u001B[39;00m \u001B[38;5;28misinstance\u001B[39m(\n\u001B[0;32m   1429\u001B[0m         dtype, (DatetimeTZDtype, PeriodDtype)\n\u001B[0;32m   1430\u001B[0m     )\n\u001B[1;32m-> 1433\u001B[0m \u001B[38;5;28;01mdef\u001B[39;00m \u001B[38;5;21mis_extension_array_dtype\u001B[39m(arr_or_dtype) \u001B[38;5;241m-\u001B[39m\u001B[38;5;241m>\u001B[39m \u001B[38;5;28mbool\u001B[39m:\n\u001B[0;32m   1434\u001B[0m \u001B[38;5;250m    \u001B[39m\u001B[38;5;124;03m\"\"\"\u001B[39;00m\n\u001B[0;32m   1435\u001B[0m \u001B[38;5;124;03m    Check if an object is a pandas extension array type.\u001B[39;00m\n\u001B[0;32m   1436\u001B[0m \n\u001B[1;32m   (...)\u001B[0m\n\u001B[0;32m   1476\u001B[0m \u001B[38;5;124;03m    False\u001B[39;00m\n\u001B[0;32m   1477\u001B[0m \u001B[38;5;124;03m    \"\"\"\u001B[39;00m\n\u001B[0;32m   1478\u001B[0m     dtype \u001B[38;5;241m=\u001B[39m \u001B[38;5;28mgetattr\u001B[39m(arr_or_dtype, \u001B[38;5;124m\"\u001B[39m\u001B[38;5;124mdtype\u001B[39m\u001B[38;5;124m\"\u001B[39m, arr_or_dtype)\n",
      "\u001B[1;31mKeyboardInterrupt\u001B[0m: "
     ]
    }
   ],
   "source": [
    "# Path to folder containing the CSVs\n",
    "path = \"./data/traces/\"\n",
    "# Dataframe of the devices\n",
    "devices = pd.read_csv(\"./data/list_of_devices.csv\")\n",
    "\n",
    "def read_data():\n",
    "    # List of all CSV files\n",
    "    csv_files = glob.glob(path + \"*.csv\")\n",
    "\n",
    "    # Store dataframes into a list\n",
    "    df_list = []\n",
    "\n",
    "    # Read CSVs into dataframe\n",
    "    for file in csv_files:\n",
    "        df = pd.read_csv(file)\n",
    "        df_list.append(df)\n",
    "\n",
    "    # Concatenate into one dataframe\n",
    "    combined_df = pd.concat(df_list, ignore_index=True)\n",
    "\n",
    "    return combined_df\n",
    "\n",
    "data =  read_data()"
   ]
  },
  {
   "cell_type": "code",
   "execution_count": 75,
   "metadata": {},
   "outputs": [
    {
     "name": "stdout",
     "output_type": "stream",
     "text": [
      "Slicing done!\n",
      "CPU times: total: 3.34 s\n",
      "Wall time: 3.63 s\n"
     ]
    }
   ],
   "source": [
    "def attach_window_id(timestamped_frame: pd.DataFrame) -> list[pd.DataFrame]:\n",
    "    \"\"\"Slice the dataframe into 1-second intervals\"\"\"\n",
    "\n",
    "    # Convert Int64Index into datetime object\n",
    "    timestamped_frame['timestamp'] = pd.to_datetime(timestamped_frame['timestamp'])\n",
    "\n",
    "    # Index the frame with the 'timestamp' column\n",
    "    timestamped_frame.set_index('timestamp', inplace=True)\n",
    "\n",
    "    #Slicing the frame into one-second intervals by creating a new column 'window_id' representing the 1-second window\n",
    "    timestamped_frame['window_id'] = (timestamped_frame.index - timestamped_frame.index[0]).total_seconds().astype(int)\n",
    "\n",
    "    return timestamped_frame\n",
    "\n",
    "windowed_frame = attach_window_id(data)"
   ]
  },
  {
   "cell_type": "code",
   "execution_count": 82,
   "metadata": {},
   "outputs": [
    {
     "ename": "KeyboardInterrupt",
     "evalue": "",
     "output_type": "error",
     "traceback": [
      "\u001B[1;31m---------------------------------------------------------------------------\u001B[0m",
      "\u001B[1;31mKeyboardInterrupt\u001B[0m                         Traceback (most recent call last)",
      "File \u001B[1;32m<timed exec>:20\u001B[0m\n",
      "File \u001B[1;32m<timed exec>:8\u001B[0m, in \u001B[0;36mmode_mean_med\u001B[1;34m(traffic_frame)\u001B[0m\n",
      "File \u001B[1;32m~\\Desktop\\HackingLab\\iot_classifier\\venv\\lib\\site-packages\\pandas\\core\\groupby\\generic.py:895\u001B[0m, in \u001B[0;36mDataFrameGroupBy.aggregate\u001B[1;34m(self, func, engine, engine_kwargs, *args, **kwargs)\u001B[0m\n\u001B[0;32m    892\u001B[0m func \u001B[38;5;241m=\u001B[39m maybe_mangle_lambdas(func)\n\u001B[0;32m    894\u001B[0m op \u001B[38;5;241m=\u001B[39m GroupByApply(\u001B[38;5;28mself\u001B[39m, func, args, kwargs)\n\u001B[1;32m--> 895\u001B[0m result \u001B[38;5;241m=\u001B[39m \u001B[43mop\u001B[49m\u001B[38;5;241;43m.\u001B[39;49m\u001B[43magg\u001B[49m\u001B[43m(\u001B[49m\u001B[43m)\u001B[49m\n\u001B[0;32m    896\u001B[0m \u001B[38;5;28;01mif\u001B[39;00m \u001B[38;5;129;01mnot\u001B[39;00m is_dict_like(func) \u001B[38;5;129;01mand\u001B[39;00m result \u001B[38;5;129;01mis\u001B[39;00m \u001B[38;5;129;01mnot\u001B[39;00m \u001B[38;5;28;01mNone\u001B[39;00m:\n\u001B[0;32m    897\u001B[0m     \u001B[38;5;28;01mreturn\u001B[39;00m result\n",
      "File \u001B[1;32m~\\Desktop\\HackingLab\\iot_classifier\\venv\\lib\\site-packages\\pandas\\core\\apply.py:172\u001B[0m, in \u001B[0;36mApply.agg\u001B[1;34m(self)\u001B[0m\n\u001B[0;32m    169\u001B[0m     \u001B[38;5;28;01mreturn\u001B[39;00m \u001B[38;5;28mself\u001B[39m\u001B[38;5;241m.\u001B[39mapply_str()\n\u001B[0;32m    171\u001B[0m \u001B[38;5;28;01mif\u001B[39;00m is_dict_like(arg):\n\u001B[1;32m--> 172\u001B[0m     \u001B[38;5;28;01mreturn\u001B[39;00m \u001B[38;5;28;43mself\u001B[39;49m\u001B[38;5;241;43m.\u001B[39;49m\u001B[43magg_dict_like\u001B[49m\u001B[43m(\u001B[49m\u001B[43m)\u001B[49m\n\u001B[0;32m    173\u001B[0m \u001B[38;5;28;01melif\u001B[39;00m is_list_like(arg):\n\u001B[0;32m    174\u001B[0m     \u001B[38;5;66;03m# we require a list, but not a 'str'\u001B[39;00m\n\u001B[0;32m    175\u001B[0m     \u001B[38;5;28;01mreturn\u001B[39;00m \u001B[38;5;28mself\u001B[39m\u001B[38;5;241m.\u001B[39magg_list_like()\n",
      "File \u001B[1;32m~\\Desktop\\HackingLab\\iot_classifier\\venv\\lib\\site-packages\\pandas\\core\\apply.py:504\u001B[0m, in \u001B[0;36mApply.agg_dict_like\u001B[1;34m(self)\u001B[0m\n\u001B[0;32m    501\u001B[0m     results \u001B[38;5;241m=\u001B[39m {key: colg\u001B[38;5;241m.\u001B[39magg(how) \u001B[38;5;28;01mfor\u001B[39;00m key, how \u001B[38;5;129;01min\u001B[39;00m arg\u001B[38;5;241m.\u001B[39mitems()}\n\u001B[0;32m    502\u001B[0m \u001B[38;5;28;01melse\u001B[39;00m:\n\u001B[0;32m    503\u001B[0m     \u001B[38;5;66;03m# key used for column selection and output\u001B[39;00m\n\u001B[1;32m--> 504\u001B[0m     results \u001B[38;5;241m=\u001B[39m {\n\u001B[0;32m    505\u001B[0m         key: obj\u001B[38;5;241m.\u001B[39m_gotitem(key, ndim\u001B[38;5;241m=\u001B[39m\u001B[38;5;241m1\u001B[39m)\u001B[38;5;241m.\u001B[39magg(how) \u001B[38;5;28;01mfor\u001B[39;00m key, how \u001B[38;5;129;01min\u001B[39;00m arg\u001B[38;5;241m.\u001B[39mitems()\n\u001B[0;32m    506\u001B[0m     }\n\u001B[0;32m    508\u001B[0m \u001B[38;5;66;03m# set the final keys\u001B[39;00m\n\u001B[0;32m    509\u001B[0m keys \u001B[38;5;241m=\u001B[39m \u001B[38;5;28mlist\u001B[39m(arg\u001B[38;5;241m.\u001B[39mkeys())\n",
      "File \u001B[1;32m~\\Desktop\\HackingLab\\iot_classifier\\venv\\lib\\site-packages\\pandas\\core\\apply.py:505\u001B[0m, in \u001B[0;36m<dictcomp>\u001B[1;34m(.0)\u001B[0m\n\u001B[0;32m    501\u001B[0m     results \u001B[38;5;241m=\u001B[39m {key: colg\u001B[38;5;241m.\u001B[39magg(how) \u001B[38;5;28;01mfor\u001B[39;00m key, how \u001B[38;5;129;01min\u001B[39;00m arg\u001B[38;5;241m.\u001B[39mitems()}\n\u001B[0;32m    502\u001B[0m \u001B[38;5;28;01melse\u001B[39;00m:\n\u001B[0;32m    503\u001B[0m     \u001B[38;5;66;03m# key used for column selection and output\u001B[39;00m\n\u001B[0;32m    504\u001B[0m     results \u001B[38;5;241m=\u001B[39m {\n\u001B[1;32m--> 505\u001B[0m         key: \u001B[43mobj\u001B[49m\u001B[38;5;241;43m.\u001B[39;49m\u001B[43m_gotitem\u001B[49m\u001B[43m(\u001B[49m\u001B[43mkey\u001B[49m\u001B[43m,\u001B[49m\u001B[43m \u001B[49m\u001B[43mndim\u001B[49m\u001B[38;5;241;43m=\u001B[39;49m\u001B[38;5;241;43m1\u001B[39;49m\u001B[43m)\u001B[49m\u001B[38;5;241;43m.\u001B[39;49m\u001B[43magg\u001B[49m\u001B[43m(\u001B[49m\u001B[43mhow\u001B[49m\u001B[43m)\u001B[49m \u001B[38;5;28;01mfor\u001B[39;00m key, how \u001B[38;5;129;01min\u001B[39;00m arg\u001B[38;5;241m.\u001B[39mitems()\n\u001B[0;32m    506\u001B[0m     }\n\u001B[0;32m    508\u001B[0m \u001B[38;5;66;03m# set the final keys\u001B[39;00m\n\u001B[0;32m    509\u001B[0m keys \u001B[38;5;241m=\u001B[39m \u001B[38;5;28mlist\u001B[39m(arg\u001B[38;5;241m.\u001B[39mkeys())\n",
      "File \u001B[1;32m~\\Desktop\\HackingLab\\iot_classifier\\venv\\lib\\site-packages\\pandas\\core\\groupby\\generic.py:281\u001B[0m, in \u001B[0;36mSeriesGroupBy.aggregate\u001B[1;34m(self, func, engine, engine_kwargs, *args, **kwargs)\u001B[0m\n\u001B[0;32m    277\u001B[0m \u001B[38;5;28;01melif\u001B[39;00m \u001B[38;5;28misinstance\u001B[39m(func, abc\u001B[38;5;241m.\u001B[39mIterable):\n\u001B[0;32m    278\u001B[0m     \u001B[38;5;66;03m# Catch instances of lists / tuples\u001B[39;00m\n\u001B[0;32m    279\u001B[0m     \u001B[38;5;66;03m# but not the class list / tuple itself.\u001B[39;00m\n\u001B[0;32m    280\u001B[0m     func \u001B[38;5;241m=\u001B[39m maybe_mangle_lambdas(func)\n\u001B[1;32m--> 281\u001B[0m     ret \u001B[38;5;241m=\u001B[39m \u001B[38;5;28;43mself\u001B[39;49m\u001B[38;5;241;43m.\u001B[39;49m\u001B[43m_aggregate_multiple_funcs\u001B[49m\u001B[43m(\u001B[49m\u001B[43mfunc\u001B[49m\u001B[43m)\u001B[49m\n\u001B[0;32m    282\u001B[0m     \u001B[38;5;28;01mif\u001B[39;00m relabeling:\n\u001B[0;32m    283\u001B[0m         \u001B[38;5;66;03m# columns is not narrowed by mypy from relabeling flag\u001B[39;00m\n\u001B[0;32m    284\u001B[0m         \u001B[38;5;28;01massert\u001B[39;00m columns \u001B[38;5;129;01mis\u001B[39;00m \u001B[38;5;129;01mnot\u001B[39;00m \u001B[38;5;28;01mNone\u001B[39;00m  \u001B[38;5;66;03m# for mypy\u001B[39;00m\n",
      "File \u001B[1;32m~\\Desktop\\HackingLab\\iot_classifier\\venv\\lib\\site-packages\\pandas\\core\\groupby\\generic.py:336\u001B[0m, in \u001B[0;36mSeriesGroupBy._aggregate_multiple_funcs\u001B[1;34m(self, arg)\u001B[0m\n\u001B[0;32m    333\u001B[0m \u001B[38;5;28;01mfor\u001B[39;00m idx, (name, func) \u001B[38;5;129;01min\u001B[39;00m \u001B[38;5;28menumerate\u001B[39m(arg):\n\u001B[0;32m    335\u001B[0m     key \u001B[38;5;241m=\u001B[39m base\u001B[38;5;241m.\u001B[39mOutputKey(label\u001B[38;5;241m=\u001B[39mname, position\u001B[38;5;241m=\u001B[39midx)\n\u001B[1;32m--> 336\u001B[0m     results[key] \u001B[38;5;241m=\u001B[39m \u001B[38;5;28;43mself\u001B[39;49m\u001B[38;5;241;43m.\u001B[39;49m\u001B[43maggregate\u001B[49m\u001B[43m(\u001B[49m\u001B[43mfunc\u001B[49m\u001B[43m)\u001B[49m\n\u001B[0;32m    338\u001B[0m \u001B[38;5;28;01mif\u001B[39;00m \u001B[38;5;28many\u001B[39m(\u001B[38;5;28misinstance\u001B[39m(x, DataFrame) \u001B[38;5;28;01mfor\u001B[39;00m x \u001B[38;5;129;01min\u001B[39;00m results\u001B[38;5;241m.\u001B[39mvalues()):\n\u001B[0;32m    339\u001B[0m     \u001B[38;5;28;01mfrom\u001B[39;00m \u001B[38;5;21;01mpandas\u001B[39;00m \u001B[38;5;28;01mimport\u001B[39;00m concat\n",
      "File \u001B[1;32m~\\Desktop\\HackingLab\\iot_classifier\\venv\\lib\\site-packages\\pandas\\core\\groupby\\generic.py:294\u001B[0m, in \u001B[0;36mSeriesGroupBy.aggregate\u001B[1;34m(self, func, engine, engine_kwargs, *args, **kwargs)\u001B[0m\n\u001B[0;32m    291\u001B[0m     \u001B[38;5;28;01mreturn\u001B[39;00m \u001B[38;5;28mgetattr\u001B[39m(\u001B[38;5;28mself\u001B[39m, cyfunc)()\n\u001B[0;32m    293\u001B[0m \u001B[38;5;28;01mif\u001B[39;00m \u001B[38;5;28mself\u001B[39m\u001B[38;5;241m.\u001B[39mgrouper\u001B[38;5;241m.\u001B[39mnkeys \u001B[38;5;241m>\u001B[39m \u001B[38;5;241m1\u001B[39m:\n\u001B[1;32m--> 294\u001B[0m     \u001B[38;5;28;01mreturn\u001B[39;00m \u001B[38;5;28mself\u001B[39m\u001B[38;5;241m.\u001B[39m_python_agg_general(func, \u001B[38;5;241m*\u001B[39margs, \u001B[38;5;241m*\u001B[39m\u001B[38;5;241m*\u001B[39mkwargs)\n\u001B[0;32m    296\u001B[0m \u001B[38;5;28;01mtry\u001B[39;00m:\n\u001B[0;32m    297\u001B[0m     \u001B[38;5;28;01mreturn\u001B[39;00m \u001B[38;5;28mself\u001B[39m\u001B[38;5;241m.\u001B[39m_python_agg_general(func, \u001B[38;5;241m*\u001B[39margs, \u001B[38;5;241m*\u001B[39m\u001B[38;5;241m*\u001B[39mkwargs)\n",
      "File \u001B[1;32m~\\Desktop\\HackingLab\\iot_classifier\\venv\\lib\\site-packages\\pandas\\core\\groupby\\groupby.py:1682\u001B[0m, in \u001B[0;36mGroupBy._python_agg_general\u001B[1;34m(self, func, raise_on_typeerror, *args, **kwargs)\u001B[0m\n\u001B[0;32m   1678\u001B[0m name \u001B[38;5;241m=\u001B[39m obj\u001B[38;5;241m.\u001B[39mname\n\u001B[0;32m   1680\u001B[0m \u001B[38;5;28;01mtry\u001B[39;00m:\n\u001B[0;32m   1681\u001B[0m     \u001B[38;5;66;03m# if this function is invalid for this dtype, we will ignore it.\u001B[39;00m\n\u001B[1;32m-> 1682\u001B[0m     result \u001B[38;5;241m=\u001B[39m \u001B[38;5;28;43mself\u001B[39;49m\u001B[38;5;241;43m.\u001B[39;49m\u001B[43mgrouper\u001B[49m\u001B[38;5;241;43m.\u001B[39;49m\u001B[43magg_series\u001B[49m\u001B[43m(\u001B[49m\u001B[43mobj\u001B[49m\u001B[43m,\u001B[49m\u001B[43m \u001B[49m\u001B[43mf\u001B[49m\u001B[43m)\u001B[49m\n\u001B[0;32m   1683\u001B[0m \u001B[38;5;28;01mexcept\u001B[39;00m \u001B[38;5;167;01mTypeError\u001B[39;00m:\n\u001B[0;32m   1684\u001B[0m     \u001B[38;5;28;01mif\u001B[39;00m raise_on_typeerror:\n",
      "File \u001B[1;32m~\\Desktop\\HackingLab\\iot_classifier\\venv\\lib\\site-packages\\pandas\\core\\groupby\\ops.py:1081\u001B[0m, in \u001B[0;36mBaseGrouper.agg_series\u001B[1;34m(self, obj, func, preserve_dtype)\u001B[0m\n\u001B[0;32m   1078\u001B[0m     preserve_dtype \u001B[38;5;241m=\u001B[39m \u001B[38;5;28;01mTrue\u001B[39;00m\n\u001B[0;32m   1080\u001B[0m \u001B[38;5;28;01melse\u001B[39;00m:\n\u001B[1;32m-> 1081\u001B[0m     result \u001B[38;5;241m=\u001B[39m \u001B[38;5;28;43mself\u001B[39;49m\u001B[38;5;241;43m.\u001B[39;49m\u001B[43m_aggregate_series_pure_python\u001B[49m\u001B[43m(\u001B[49m\u001B[43mobj\u001B[49m\u001B[43m,\u001B[49m\u001B[43m \u001B[49m\u001B[43mfunc\u001B[49m\u001B[43m)\u001B[49m\n\u001B[0;32m   1083\u001B[0m npvalues \u001B[38;5;241m=\u001B[39m lib\u001B[38;5;241m.\u001B[39mmaybe_convert_objects(result, try_float\u001B[38;5;241m=\u001B[39m\u001B[38;5;28;01mFalse\u001B[39;00m)\n\u001B[0;32m   1084\u001B[0m \u001B[38;5;28;01mif\u001B[39;00m preserve_dtype:\n",
      "File \u001B[1;32m~\\Desktop\\HackingLab\\iot_classifier\\venv\\lib\\site-packages\\pandas\\core\\groupby\\ops.py:1104\u001B[0m, in \u001B[0;36mBaseGrouper._aggregate_series_pure_python\u001B[1;34m(self, obj, func)\u001B[0m\n\u001B[0;32m   1101\u001B[0m splitter \u001B[38;5;241m=\u001B[39m get_splitter(obj, ids, ngroups, axis\u001B[38;5;241m=\u001B[39m\u001B[38;5;241m0\u001B[39m)\n\u001B[0;32m   1103\u001B[0m \u001B[38;5;28;01mfor\u001B[39;00m i, group \u001B[38;5;129;01min\u001B[39;00m \u001B[38;5;28menumerate\u001B[39m(splitter):\n\u001B[1;32m-> 1104\u001B[0m     res \u001B[38;5;241m=\u001B[39m \u001B[43mfunc\u001B[49m\u001B[43m(\u001B[49m\u001B[43mgroup\u001B[49m\u001B[43m)\u001B[49m\n\u001B[0;32m   1105\u001B[0m     res \u001B[38;5;241m=\u001B[39m libreduction\u001B[38;5;241m.\u001B[39mextract_result(res)\n\u001B[0;32m   1107\u001B[0m     \u001B[38;5;28;01mif\u001B[39;00m \u001B[38;5;129;01mnot\u001B[39;00m initialized:\n\u001B[0;32m   1108\u001B[0m         \u001B[38;5;66;03m# We only do this validation on the first iteration\u001B[39;00m\n",
      "File \u001B[1;32m~\\Desktop\\HackingLab\\iot_classifier\\venv\\lib\\site-packages\\pandas\\core\\groupby\\groupby.py:1668\u001B[0m, in \u001B[0;36mGroupBy._python_agg_general.<locals>.<lambda>\u001B[1;34m(x)\u001B[0m\n\u001B[0;32m   1665\u001B[0m \u001B[38;5;129m@final\u001B[39m\n\u001B[0;32m   1666\u001B[0m \u001B[38;5;28;01mdef\u001B[39;00m \u001B[38;5;21m_python_agg_general\u001B[39m(\u001B[38;5;28mself\u001B[39m, func, \u001B[38;5;241m*\u001B[39margs, raise_on_typeerror\u001B[38;5;241m=\u001B[39m\u001B[38;5;28;01mFalse\u001B[39;00m, \u001B[38;5;241m*\u001B[39m\u001B[38;5;241m*\u001B[39mkwargs):\n\u001B[0;32m   1667\u001B[0m     func \u001B[38;5;241m=\u001B[39m com\u001B[38;5;241m.\u001B[39mis_builtin_func(func)\n\u001B[1;32m-> 1668\u001B[0m     f \u001B[38;5;241m=\u001B[39m \u001B[38;5;28;01mlambda\u001B[39;00m x: func(x, \u001B[38;5;241m*\u001B[39margs, \u001B[38;5;241m*\u001B[39m\u001B[38;5;241m*\u001B[39mkwargs)\n\u001B[0;32m   1670\u001B[0m     \u001B[38;5;66;03m# iterate through \"columns\" ex exclusions to populate output dict\u001B[39;00m\n\u001B[0;32m   1671\u001B[0m     output: \u001B[38;5;28mdict\u001B[39m[base\u001B[38;5;241m.\u001B[39mOutputKey, ArrayLike] \u001B[38;5;241m=\u001B[39m {}\n",
      "File \u001B[1;32m<timed exec>:8\u001B[0m, in \u001B[0;36m<lambda>\u001B[1;34m(x)\u001B[0m\n",
      "File \u001B[1;32m~\\Desktop\\HackingLab\\iot_classifier\\venv\\lib\\site-packages\\pandas\\core\\series.py:2174\u001B[0m, in \u001B[0;36mSeries.mode\u001B[1;34m(self, dropna)\u001B[0m\n\u001B[0;32m   2172\u001B[0m values \u001B[38;5;241m=\u001B[39m \u001B[38;5;28mself\u001B[39m\u001B[38;5;241m.\u001B[39m_values\n\u001B[0;32m   2173\u001B[0m \u001B[38;5;28;01mif\u001B[39;00m \u001B[38;5;28misinstance\u001B[39m(values, np\u001B[38;5;241m.\u001B[39mndarray):\n\u001B[1;32m-> 2174\u001B[0m     res_values \u001B[38;5;241m=\u001B[39m \u001B[43malgorithms\u001B[49m\u001B[38;5;241;43m.\u001B[39;49m\u001B[43mmode\u001B[49m\u001B[43m(\u001B[49m\u001B[43mvalues\u001B[49m\u001B[43m,\u001B[49m\u001B[43m \u001B[49m\u001B[43mdropna\u001B[49m\u001B[38;5;241;43m=\u001B[39;49m\u001B[43mdropna\u001B[49m\u001B[43m)\u001B[49m\n\u001B[0;32m   2175\u001B[0m \u001B[38;5;28;01melse\u001B[39;00m:\n\u001B[0;32m   2176\u001B[0m     res_values \u001B[38;5;241m=\u001B[39m values\u001B[38;5;241m.\u001B[39m_mode(dropna\u001B[38;5;241m=\u001B[39mdropna)\n",
      "File \u001B[1;32m~\\Desktop\\HackingLab\\iot_classifier\\venv\\lib\\site-packages\\pandas\\core\\algorithms.py:1096\u001B[0m, in \u001B[0;36mmode\u001B[1;34m(values, dropna, mask)\u001B[0m\n\u001B[0;32m   1094\u001B[0m npresult \u001B[38;5;241m=\u001B[39m htable\u001B[38;5;241m.\u001B[39mmode(values, dropna\u001B[38;5;241m=\u001B[39mdropna, mask\u001B[38;5;241m=\u001B[39mmask)\n\u001B[0;32m   1095\u001B[0m \u001B[38;5;28;01mtry\u001B[39;00m:\n\u001B[1;32m-> 1096\u001B[0m     npresult \u001B[38;5;241m=\u001B[39m \u001B[43mnp\u001B[49m\u001B[38;5;241;43m.\u001B[39;49m\u001B[43msort\u001B[49m\u001B[43m(\u001B[49m\u001B[43mnpresult\u001B[49m\u001B[43m)\u001B[49m\n\u001B[0;32m   1097\u001B[0m \u001B[38;5;28;01mexcept\u001B[39;00m \u001B[38;5;167;01mTypeError\u001B[39;00m \u001B[38;5;28;01mas\u001B[39;00m err:\n\u001B[0;32m   1098\u001B[0m     warnings\u001B[38;5;241m.\u001B[39mwarn(\n\u001B[0;32m   1099\u001B[0m         \u001B[38;5;124mf\u001B[39m\u001B[38;5;124m\"\u001B[39m\u001B[38;5;124mUnable to sort modes: \u001B[39m\u001B[38;5;132;01m{\u001B[39;00merr\u001B[38;5;132;01m}\u001B[39;00m\u001B[38;5;124m\"\u001B[39m,\n\u001B[0;32m   1100\u001B[0m         stacklevel\u001B[38;5;241m=\u001B[39mfind_stack_level(),\n\u001B[0;32m   1101\u001B[0m     )\n",
      "File \u001B[1;32m<__array_function__ internals>:200\u001B[0m, in \u001B[0;36msort\u001B[1;34m(*args, **kwargs)\u001B[0m\n",
      "File \u001B[1;32m~\\Desktop\\HackingLab\\iot_classifier\\venv\\lib\\site-packages\\numpy\\core\\fromnumeric.py:1029\u001B[0m, in \u001B[0;36msort\u001B[1;34m(a, axis, kind, order)\u001B[0m\n\u001B[0;32m   1027\u001B[0m     axis \u001B[38;5;241m=\u001B[39m \u001B[38;5;241m-\u001B[39m\u001B[38;5;241m1\u001B[39m\n\u001B[0;32m   1028\u001B[0m \u001B[38;5;28;01melse\u001B[39;00m:\n\u001B[1;32m-> 1029\u001B[0m     a \u001B[38;5;241m=\u001B[39m \u001B[43masanyarray\u001B[49m\u001B[43m(\u001B[49m\u001B[43ma\u001B[49m\u001B[43m)\u001B[49m\u001B[38;5;241;43m.\u001B[39;49m\u001B[43mcopy\u001B[49m\u001B[43m(\u001B[49m\u001B[43morder\u001B[49m\u001B[38;5;241;43m=\u001B[39;49m\u001B[38;5;124;43m\"\u001B[39;49m\u001B[38;5;124;43mK\u001B[39;49m\u001B[38;5;124;43m\"\u001B[39;49m\u001B[43m)\u001B[49m\n\u001B[0;32m   1030\u001B[0m a\u001B[38;5;241m.\u001B[39msort(axis\u001B[38;5;241m=\u001B[39maxis, kind\u001B[38;5;241m=\u001B[39mkind, order\u001B[38;5;241m=\u001B[39morder)\n\u001B[0;32m   1031\u001B[0m \u001B[38;5;28;01mreturn\u001B[39;00m a\n",
      "\u001B[1;31mKeyboardInterrupt\u001B[0m: "
     ]
    }
   ],
   "source": [
    "def mode_mean_med(traffic_frame: pd.DataFrame):\n",
    "    \"\"\"Calculate the mode, mean, and median of a window\"\"\"\n",
    "\n",
    "    # Keep only the mac address name and package size\n",
    "    df = traffic_frame.loc[:, ['window_id' ,'eth_src', 'packet_size']]\n",
    "\n",
    "    # Group the dataframe by window_id and mac adress & Calculate the statistical measures\n",
    "    grouped = df.groupby(['window_id', 'eth_src']).agg({'packet_size': ['mean', 'median', lambda x: x.mode().iat[0]]})\n",
    "\n",
    "    # Reset index to make window_id a column again\n",
    "    grouped = grouped.reset_index()\n",
    "\n",
    "    # Save the results\n",
    "    grouped.to_csv('stats.cvs', index=False)\n",
    "\n",
    "    return grouped\n",
    "\n",
    "result = mode_mean_med(windowed_frame)\n"
   ]
  },
  {
   "cell_type": "code",
   "execution_count": null,
   "outputs": [],
   "source": [
    "def mean_sd_sum(traffic_frame: pd.DataFrame):\n",
    "    \"\"\"Calculate the mode, mean, and median of a window\"\"\"\n",
    "\n",
    "    # Keep only the mac address name and package size\n",
    "    df = traffic_frame.loc[:, ['window_id' ,'eth_src', 'packet_size']]\n",
    "\n",
    "    # Group the dataframe by window_id and mac adress & Calculate the statistical measures used for training\n",
    "    grouped = df.groupby(['window_id', 'eth_src']).agg({'packet_size': ['mean', 'std', 'sum']})\n",
    "\n",
    "    # Reset index to make window_id a column again\n",
    "    grouped = grouped.reset_index()\n",
    "\n",
    "    # Save the results\n",
    "    grouped.to_csv('train_stats.cvs', index=False)\n",
    "\n",
    "    return grouped"
   ],
   "metadata": {
    "collapsed": false
   }
  },
  {
   "cell_type": "code",
   "execution_count": 81,
   "outputs": [
    {
     "name": "stdout",
     "output_type": "stream",
     "text": [
      "                                    packet_size                   \n",
      "                                           mean  median <lambda_0>\n",
      "device_name                                                       \n",
      "Amazon Echo                          118.734701    75.0         66\n",
      "Android Phone                        167.706915    66.0         66\n",
      "Belkin Wemo switch                   415.264227   118.0         66\n",
      "Belkin wemo motion sensor            113.394691    66.0         66\n",
      "Blipcare Blood Pressure meter        108.393701    59.0         54\n",
      "Dropcam                              206.533368   156.0        156\n",
      "HP Printer                           168.309073    60.0        140\n",
      "IPhone                               109.954947    66.0         54\n",
      "Insteon Camera                       104.441343    90.0        102\n",
      "Laptop                               111.325552    54.0         54\n",
      "Light Bulbs LiFX Smart Bulb           96.446889    92.0        123\n",
      "MacBook                              128.950355    66.0         66\n",
      "MacBook/Iphone                       224.933943    66.0         54\n",
      "NEST Protect smoke alarm             302.039608   350.0        509\n",
      "Nest Dropcam                        1253.644709  1514.0       1514\n",
      "Netatmo Welcome                      536.676278    66.0       1510\n",
      "Netatmo weather station              182.715046   113.0        350\n",
      "PIX-STAR Photo-frame                 114.231342    76.0         66\n",
      "Samsung Galaxy Tab                   116.706967    66.0         66\n",
      "Samsung SmartCam                     352.712231   421.0         66\n",
      "Smart Things                          71.422311    60.0         60\n",
      "TP-Link Day Night Cloud camera       532.030309   160.0       1514\n",
      "TP-Link Smart plug                   107.807471    66.0        172\n",
      "TPLink Router Bridge LAN (Gateway)   805.802405  1306.0       1434\n",
      "Triby Speaker                        104.430609    66.0         66\n",
      "Unknown                              132.706371   163.0        163\n",
      "Withings Aura smart sleep sensor     138.450648    66.0         66\n",
      "Withings Smart Baby Monitor           79.476996    66.0         66\n",
      "Withings Smart scale                 303.992542   333.0        333\n",
      "iHome                                 98.896038   108.0         54\n",
      "CPU times: total: 5.64 s\n",
      "Wall time: 6.32 s\n"
     ]
    }
   ],
   "source": [
    "%%time\n",
    "\n",
    "def mode_mean_med_without_window(df: pd.DataFrame, devices: pd.DataFrame):\n",
    "    \"\"\"Calculate the mode, mean, and median of a window\"\"\"\n",
    "\n",
    "    # Keep only the device name and mac address\n",
    "    device_names = devices.loc[:, ['device_name', 'eth_src']]\n",
    "\n",
    "    # Keep only the mac address name and package size\n",
    "    df_size = df.loc[:, ['eth_src', 'packet_size']]\n",
    "\n",
    "    # Merge the stats with the devices names\n",
    "    merge_df = device_names.merge(df_size, on='eth_src')\n",
    "\n",
    "    # Group the merged frame and calculate the stats\n",
    "    stats = merge_df.groupby(['device_name']).agg({'packet_size': ['mean', 'median', lambda x: x.mode().iat[0]]})\n",
    "\n",
    "    # Save the results\n",
    "    stats.to_csv('stats_no_window.cvs', index=False)\n",
    "\n",
    "    print(stats)\n",
    "\n",
    "    return stats\n",
    "\n",
    "devices = pd.read_csv(\"./data/list_of_devices.csv\")\n",
    "result_no_window = mode_mean_med_without_window(data, devices)\n"
   ],
   "metadata": {
    "collapsed": false
   }
  },
  {
   "cell_type": "code",
   "execution_count": 78,
   "metadata": {},
   "outputs": [],
   "source": [
    "# n_neighbors = 5\n",
    "#\n",
    "# for metric in mmm_frame.columns[2:5]:\n",
    "#     X = mmm_frame[metric].values\n",
    "#     y = mmm_frame.iloc[:, -1].values\n",
    "#     X = X.reshape(-1, 1)\n",
    "#\n",
    "#     X_train, X_test, y_train, y_test = model_selection.train_test_split(X, y, test_size=0.25)\n",
    "#\n",
    "#     for weights in [\"uniform\", \"distance\"]:\n",
    "#         # we create an instance of Neighbours Classifier and fit the data.\n",
    "#         clf = neighbors.KNeighborsClassifier(n_neighbors, weights=weights)\n",
    "#         clf.fit(X_train, y_train)\n",
    "#\n",
    "#         accuracy = metrics.accuracy_score(y_test, clf.predict(X_test))\n",
    "#         print(\"Accuracy of {} with {}: {}\".format(metric, weights, accuracy))"
   ]
  },
  {
   "cell_type": "code",
   "execution_count": 78,
   "metadata": {},
   "outputs": [],
   "source": []
  },
  {
   "cell_type": "code",
   "execution_count": 78,
   "metadata": {},
   "outputs": [],
   "source": []
  },
  {
   "cell_type": "code",
   "execution_count": 78,
   "metadata": {},
   "outputs": [],
   "source": []
  }
 ],
 "metadata": {
  "kernelspec": {
   "display_name": "Python 3",
   "language": "python",
   "name": "python3"
  },
  "language_info": {
   "codemirror_mode": {
    "name": "ipython",
    "version": 3
   },
   "file_extension": ".py",
   "mimetype": "text/x-python",
   "name": "python",
   "nbconvert_exporter": "python",
   "pygments_lexer": "ipython3",
   "version": "3.10.9"
  },
  "orig_nbformat": 4,
  "vscode": {
   "interpreter": {
    "hash": "916dbcbb3f70747c44a77c7bcd40155683ae19c65e1c03b4aa3499c5328201f1"
   }
  }
 },
 "nbformat": 4,
 "nbformat_minor": 2
}
